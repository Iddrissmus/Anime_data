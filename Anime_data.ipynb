{
 "cells": [
  {
   "cell_type": "markdown",
   "id": "434a27ab",
   "metadata": {},
   "source": [
    "# Importing Libraries"
   ]
  },
  {
   "cell_type": "code",
   "execution_count": 2,
   "id": "624236ec",
   "metadata": {},
   "outputs": [],
   "source": [
    "import pandas as pd\n",
    "import numpy as np\n",
    "import matplotlib.pyplot as plt\n",
    "import plotly.express as px\n",
    "from plotly.offline import iplot, plot\n",
    "import plotly.graph_objects as go\n",
    "from plotly.subplots import make_subplots"
   ]
  },
  {
   "cell_type": "markdown",
   "id": "8bc8b389",
   "metadata": {},
   "source": [
    "### Read csv file"
   ]
  },
  {
   "cell_type": "code",
   "execution_count": 3,
   "id": "99fd3f3f",
   "metadata": {},
   "outputs": [],
   "source": [
    "df = pd.read_csv('Anime.csv')"
   ]
  },
  {
   "cell_type": "code",
   "execution_count": 8,
   "id": "ddc87c0b",
   "metadata": {},
   "outputs": [
    {
     "data": {
      "text/html": [
       "<div>\n",
       "<style scoped>\n",
       "    .dataframe tbody tr th:only-of-type {\n",
       "        vertical-align: middle;\n",
       "    }\n",
       "\n",
       "    .dataframe tbody tr th {\n",
       "        vertical-align: top;\n",
       "    }\n",
       "\n",
       "    .dataframe thead th {\n",
       "        text-align: right;\n",
       "    }\n",
       "</style>\n",
       "<table border=\"1\" class=\"dataframe\">\n",
       "  <thead>\n",
       "    <tr style=\"text-align: right;\">\n",
       "      <th></th>\n",
       "      <th>Rank</th>\n",
       "      <th>Episodes</th>\n",
       "      <th>Rating</th>\n",
       "      <th>Release_year</th>\n",
       "      <th>End_year</th>\n",
       "    </tr>\n",
       "  </thead>\n",
       "  <tbody>\n",
       "    <tr>\n",
       "      <th>count</th>\n",
       "      <td>18495.00000</td>\n",
       "      <td>9501.000000</td>\n",
       "      <td>15364.000000</td>\n",
       "      <td>18112.000000</td>\n",
       "      <td>2854.000000</td>\n",
       "    </tr>\n",
       "    <tr>\n",
       "      <th>mean</th>\n",
       "      <td>9248.00000</td>\n",
       "      <td>20.920850</td>\n",
       "      <td>3.355133</td>\n",
       "      <td>2006.520318</td>\n",
       "      <td>2004.256132</td>\n",
       "    </tr>\n",
       "    <tr>\n",
       "      <th>std</th>\n",
       "      <td>5339.19095</td>\n",
       "      <td>37.990858</td>\n",
       "      <td>0.400624</td>\n",
       "      <td>15.189537</td>\n",
       "      <td>13.257484</td>\n",
       "    </tr>\n",
       "    <tr>\n",
       "      <th>min</th>\n",
       "      <td>1.00000</td>\n",
       "      <td>1.000000</td>\n",
       "      <td>0.960000</td>\n",
       "      <td>1907.000000</td>\n",
       "      <td>1962.000000</td>\n",
       "    </tr>\n",
       "    <tr>\n",
       "      <th>25%</th>\n",
       "      <td>4624.50000</td>\n",
       "      <td>2.000000</td>\n",
       "      <td>3.130000</td>\n",
       "      <td>2001.000000</td>\n",
       "      <td>1996.000000</td>\n",
       "    </tr>\n",
       "    <tr>\n",
       "      <th>50%</th>\n",
       "      <td>9248.00000</td>\n",
       "      <td>12.000000</td>\n",
       "      <td>3.360000</td>\n",
       "      <td>2012.000000</td>\n",
       "      <td>2007.000000</td>\n",
       "    </tr>\n",
       "    <tr>\n",
       "      <th>75%</th>\n",
       "      <td>13871.50000</td>\n",
       "      <td>26.000000</td>\n",
       "      <td>3.590000</td>\n",
       "      <td>2017.000000</td>\n",
       "      <td>2015.000000</td>\n",
       "    </tr>\n",
       "    <tr>\n",
       "      <th>max</th>\n",
       "      <td>18495.00000</td>\n",
       "      <td>800.000000</td>\n",
       "      <td>4.600000</td>\n",
       "      <td>2023.000000</td>\n",
       "      <td>2022.000000</td>\n",
       "    </tr>\n",
       "  </tbody>\n",
       "</table>\n",
       "</div>"
      ],
      "text/plain": [
       "              Rank     Episodes        Rating  Release_year     End_year\n",
       "count  18495.00000  9501.000000  15364.000000  18112.000000  2854.000000\n",
       "mean    9248.00000    20.920850      3.355133   2006.520318  2004.256132\n",
       "std     5339.19095    37.990858      0.400624     15.189537    13.257484\n",
       "min        1.00000     1.000000      0.960000   1907.000000  1962.000000\n",
       "25%     4624.50000     2.000000      3.130000   2001.000000  1996.000000\n",
       "50%     9248.00000    12.000000      3.360000   2012.000000  2007.000000\n",
       "75%    13871.50000    26.000000      3.590000   2017.000000  2015.000000\n",
       "max    18495.00000   800.000000      4.600000   2023.000000  2022.000000"
      ]
     },
     "execution_count": 8,
     "metadata": {},
     "output_type": "execute_result"
    }
   ],
   "source": [
    "df.describe()"
   ]
  },
  {
   "cell_type": "code",
   "execution_count": 9,
   "id": "2239fede",
   "metadata": {},
   "outputs": [
    {
     "data": {
      "text/plain": [
       "(18495, 17)"
      ]
     },
     "execution_count": 9,
     "metadata": {},
     "output_type": "execute_result"
    }
   ],
   "source": [
    "df.shape"
   ]
  },
  {
   "cell_type": "code",
   "execution_count": 13,
   "id": "d9365e11",
   "metadata": {},
   "outputs": [
    {
     "name": "stdout",
     "output_type": "stream",
     "text": [
      "Number of rows: 18495\n",
      "Number of columns: 17\n"
     ]
    }
   ],
   "source": [
    "print(f\"Number of rows: {df.shape[0]}\")\n",
    "print(f\"Number of columns: {df.shape[1]}\")"
   ]
  },
  {
   "cell_type": "markdown",
   "id": "7614faa9",
   "metadata": {},
   "source": [
    "### The `info()` method prints information about the DataFrame."
   ]
  },
  {
   "cell_type": "code",
   "execution_count": 10,
   "id": "a97a337a",
   "metadata": {},
   "outputs": [
    {
     "name": "stdout",
     "output_type": "stream",
     "text": [
      "<class 'pandas.core.frame.DataFrame'>\n",
      "RangeIndex: 18495 entries, 0 to 18494\n",
      "Data columns (total 17 columns):\n",
      " #   Column           Non-Null Count  Dtype  \n",
      "---  ------           --------------  -----  \n",
      " 0   Rank             18495 non-null  int64  \n",
      " 1   Name             18495 non-null  object \n",
      " 2   Japanese_name    7938 non-null   object \n",
      " 3   Type             18495 non-null  object \n",
      " 4   Episodes         9501 non-null   float64\n",
      " 5   Studio           12018 non-null  object \n",
      " 6   Release_season   4116 non-null   object \n",
      " 7   Tags             18095 non-null  object \n",
      " 8   Rating           15364 non-null  float64\n",
      " 9   Release_year     18112 non-null  float64\n",
      " 10  End_year         2854 non-null   float64\n",
      " 11  Description      18491 non-null  object \n",
      " 12  Content_Warning  1840 non-null   object \n",
      " 13  Related_Mange    7627 non-null   object \n",
      " 14  Related_anime    10063 non-null  object \n",
      " 15  Voice_actors     15309 non-null  object \n",
      " 16  staff            13005 non-null  object \n",
      "dtypes: float64(4), int64(1), object(12)\n",
      "memory usage: 2.4+ MB\n"
     ]
    }
   ],
   "source": [
    "df.info()"
   ]
  },
  {
   "cell_type": "markdown",
   "id": "3086bedb",
   "metadata": {},
   "source": [
    "### the `sample()` method displays the content of random rows"
   ]
  },
  {
   "cell_type": "code",
   "execution_count": 14,
   "id": "229568bd",
   "metadata": {},
   "outputs": [
    {
     "data": {
      "text/html": [
       "<div>\n",
       "<style scoped>\n",
       "    .dataframe tbody tr th:only-of-type {\n",
       "        vertical-align: middle;\n",
       "    }\n",
       "\n",
       "    .dataframe tbody tr th {\n",
       "        vertical-align: top;\n",
       "    }\n",
       "\n",
       "    .dataframe thead th {\n",
       "        text-align: right;\n",
       "    }\n",
       "</style>\n",
       "<table border=\"1\" class=\"dataframe\">\n",
       "  <thead>\n",
       "    <tr style=\"text-align: right;\">\n",
       "      <th></th>\n",
       "      <th>Rank</th>\n",
       "      <th>Name</th>\n",
       "      <th>Japanese_name</th>\n",
       "      <th>Type</th>\n",
       "      <th>Episodes</th>\n",
       "      <th>Studio</th>\n",
       "      <th>Release_season</th>\n",
       "      <th>Tags</th>\n",
       "      <th>Rating</th>\n",
       "      <th>Release_year</th>\n",
       "      <th>End_year</th>\n",
       "      <th>Description</th>\n",
       "      <th>Content_Warning</th>\n",
       "      <th>Related_Mange</th>\n",
       "      <th>Related_anime</th>\n",
       "      <th>Voice_actors</th>\n",
       "      <th>staff</th>\n",
       "    </tr>\n",
       "  </thead>\n",
       "  <tbody>\n",
       "    <tr>\n",
       "      <th>8630</th>\n",
       "      <td>8631</td>\n",
       "      <td>Lalala Lala-chan: Patapata Daisensou</td>\n",
       "      <td>NaN</td>\n",
       "      <td>TV</td>\n",
       "      <td>12.0</td>\n",
       "      <td>IKIF+</td>\n",
       "      <td>Fall</td>\n",
       "      <td>Adventure, Fantasy, Animal Protagonists, Famil...</td>\n",
       "      <td>3.31</td>\n",
       "      <td>2016.0</td>\n",
       "      <td>2017.0</td>\n",
       "      <td>'No synopsis yet - check back soon!'</td>\n",
       "      <td>NaN</td>\n",
       "      <td>NaN</td>\n",
       "      <td>Lalala Lala-chan, Lala-chan Santa no Fantasy C...</td>\n",
       "      <td>Lala-Chan : Sumire Morohoshi, Io-Kun : Yuka Te...</td>\n",
       "      <td>NaN</td>\n",
       "    </tr>\n",
       "    <tr>\n",
       "      <th>10383</th>\n",
       "      <td>10384</td>\n",
       "      <td>Shounen Sunday CM: Karakuri Circus</td>\n",
       "      <td>NaN</td>\n",
       "      <td>Other</td>\n",
       "      <td>NaN</td>\n",
       "      <td>NaN</td>\n",
       "      <td>NaN</td>\n",
       "      <td>Shounen, Commercials, Promotional, Based on a ...</td>\n",
       "      <td>3.20</td>\n",
       "      <td>NaN</td>\n",
       "      <td>NaN</td>\n",
       "      <td>'A commercial for the\\xa0Weekly Shounen Sunday...</td>\n",
       "      <td>NaN</td>\n",
       "      <td>Karakuri Circus</td>\n",
       "      <td>NaN</td>\n",
       "      <td>Masaru Saiga, Narumi Katou, Shirogane, Kazuhir...</td>\n",
       "      <td>Kazuhiro Fujita : Original Creator</td>\n",
       "    </tr>\n",
       "    <tr>\n",
       "      <th>5573</th>\n",
       "      <td>5574</td>\n",
       "      <td>Armored Trooper Votoms: Pailsen Files</td>\n",
       "      <td>Soukou Kihei Votoms: Pailsen Files</td>\n",
       "      <td>OVA</td>\n",
       "      <td>12.0</td>\n",
       "      <td>The Answer Studio</td>\n",
       "      <td>NaN</td>\n",
       "      <td>Mecha, Sci Fi, Military, Real Robot, Original ...</td>\n",
       "      <td>3.47</td>\n",
       "      <td>2007.0</td>\n",
       "      <td>2008.0</td>\n",
       "      <td>\"Following the end of the Hundred Year War, th...</td>\n",
       "      <td>NaN</td>\n",
       "      <td>Armored Trooper Votoms</td>\n",
       "      <td>Armored Trooper Votoms, Armored Trooper Votoms...</td>\n",
       "      <td>Chirico Cuvie : Hozumi Gouda, Jean Paul Rochin...</td>\n",
       "      <td>Ryousuke Takahashi : Director, Norio Shioyama ...</td>\n",
       "    </tr>\n",
       "    <tr>\n",
       "      <th>12020</th>\n",
       "      <td>12021</td>\n",
       "      <td>Boku wa Imouto ni Koi wo Suru</td>\n",
       "      <td>NaN</td>\n",
       "      <td>OVA</td>\n",
       "      <td>1.0</td>\n",
       "      <td>Vega Entertainment</td>\n",
       "      <td>NaN</td>\n",
       "      <td>Drama, Romance, Shoujo, Siblings, Based on a M...</td>\n",
       "      <td>3.09</td>\n",
       "      <td>2005.0</td>\n",
       "      <td>NaN</td>\n",
       "      <td>Yori Yuki has loved his twin sister ever since...</td>\n",
       "      <td>Incest,, Mature Themes,, Sexual Content</td>\n",
       "      <td>Boku wa Imouto ni Koi wo Suru, Boku no Hatsuko...</td>\n",
       "      <td>NaN</td>\n",
       "      <td>Iku Yuuki : Mai Nakahara, Yori Yuuki : Showtar...</td>\n",
       "      <td>Kotomi Aoki : Original Creator, Yukiyo Teramot...</td>\n",
       "    </tr>\n",
       "    <tr>\n",
       "      <th>430</th>\n",
       "      <td>431</td>\n",
       "      <td>Full Metal Panic? Fumoffu</td>\n",
       "      <td>NaN</td>\n",
       "      <td>TV</td>\n",
       "      <td>12.0</td>\n",
       "      <td>Kyoto Animation</td>\n",
       "      <td>Summer</td>\n",
       "      <td>Action, Comedy, Romance, Gag, Military, School...</td>\n",
       "      <td>4.14</td>\n",
       "      <td>2003.0</td>\n",
       "      <td>NaN</td>\n",
       "      <td>'Sousuke Sagara is far from the average high s...</td>\n",
       "      <td>NaN</td>\n",
       "      <td>Full Metal Panic! Short Stories (Light Novel),...</td>\n",
       "      <td>Full Metal Panic!, Full Metal Panic! The Secon...</td>\n",
       "      <td>Kaname Chidori : Satsuki Yukino, Sousuke Sagar...</td>\n",
       "      <td>Shouji Gatou : Original Creator &amp; Screenplay &amp;...</td>\n",
       "    </tr>\n",
       "  </tbody>\n",
       "</table>\n",
       "</div>"
      ],
      "text/plain": [
       "        Rank                                   Name  \\\n",
       "8630    8631   Lalala Lala-chan: Patapata Daisensou   \n",
       "10383  10384     Shounen Sunday CM: Karakuri Circus   \n",
       "5573    5574  Armored Trooper Votoms: Pailsen Files   \n",
       "12020  12021          Boku wa Imouto ni Koi wo Suru   \n",
       "430      431              Full Metal Panic? Fumoffu   \n",
       "\n",
       "                             Japanese_name   Type  Episodes  \\\n",
       "8630                                   NaN  TV         12.0   \n",
       "10383                                  NaN  Other       NaN   \n",
       "5573    Soukou Kihei Votoms: Pailsen Files  OVA        12.0   \n",
       "12020                                  NaN  OVA         1.0   \n",
       "430                                    NaN  TV         12.0   \n",
       "\n",
       "                   Studio Release_season  \\\n",
       "8630                IKIF+          Fall    \n",
       "10383                 NaN            NaN   \n",
       "5573    The Answer Studio            NaN   \n",
       "12020  Vega Entertainment            NaN   \n",
       "430       Kyoto Animation         Summer   \n",
       "\n",
       "                                                    Tags  Rating  \\\n",
       "8630   Adventure, Fantasy, Animal Protagonists, Famil...    3.31   \n",
       "10383  Shounen, Commercials, Promotional, Based on a ...    3.20   \n",
       "5573   Mecha, Sci Fi, Military, Real Robot, Original ...    3.47   \n",
       "12020  Drama, Romance, Shoujo, Siblings, Based on a M...    3.09   \n",
       "430    Action, Comedy, Romance, Gag, Military, School...    4.14   \n",
       "\n",
       "       Release_year  End_year  \\\n",
       "8630         2016.0    2017.0   \n",
       "10383           NaN       NaN   \n",
       "5573         2007.0    2008.0   \n",
       "12020        2005.0       NaN   \n",
       "430          2003.0       NaN   \n",
       "\n",
       "                                             Description  \\\n",
       "8630                'No synopsis yet - check back soon!'   \n",
       "10383  'A commercial for the\\xa0Weekly Shounen Sunday...   \n",
       "5573   \"Following the end of the Hundred Year War, th...   \n",
       "12020  Yori Yuki has loved his twin sister ever since...   \n",
       "430    'Sousuke Sagara is far from the average high s...   \n",
       "\n",
       "                               Content_Warning  \\\n",
       "8630                                       NaN   \n",
       "10383                                      NaN   \n",
       "5573                                       NaN   \n",
       "12020  Incest,, Mature Themes,, Sexual Content   \n",
       "430                                        NaN   \n",
       "\n",
       "                                           Related_Mange  \\\n",
       "8630                                                 NaN   \n",
       "10383                                    Karakuri Circus   \n",
       "5573                              Armored Trooper Votoms   \n",
       "12020  Boku wa Imouto ni Koi wo Suru, Boku no Hatsuko...   \n",
       "430    Full Metal Panic! Short Stories (Light Novel),...   \n",
       "\n",
       "                                           Related_anime  \\\n",
       "8630   Lalala Lala-chan, Lala-chan Santa no Fantasy C...   \n",
       "10383                                                NaN   \n",
       "5573   Armored Trooper Votoms, Armored Trooper Votoms...   \n",
       "12020                                                NaN   \n",
       "430    Full Metal Panic!, Full Metal Panic! The Secon...   \n",
       "\n",
       "                                            Voice_actors  \\\n",
       "8630   Lala-Chan : Sumire Morohoshi, Io-Kun : Yuka Te...   \n",
       "10383  Masaru Saiga, Narumi Katou, Shirogane, Kazuhir...   \n",
       "5573   Chirico Cuvie : Hozumi Gouda, Jean Paul Rochin...   \n",
       "12020  Iku Yuuki : Mai Nakahara, Yori Yuuki : Showtar...   \n",
       "430    Kaname Chidori : Satsuki Yukino, Sousuke Sagar...   \n",
       "\n",
       "                                                   staff  \n",
       "8630                                                 NaN  \n",
       "10383                 Kazuhiro Fujita : Original Creator  \n",
       "5573   Ryousuke Takahashi : Director, Norio Shioyama ...  \n",
       "12020  Kotomi Aoki : Original Creator, Yukiyo Teramot...  \n",
       "430    Shouji Gatou : Original Creator & Screenplay &...  "
      ]
     },
     "execution_count": 14,
     "metadata": {},
     "output_type": "execute_result"
    }
   ],
   "source": [
    "df.sample(5)"
   ]
  },
  {
   "cell_type": "code",
   "execution_count": 19,
   "id": "429175ec",
   "metadata": {},
   "outputs": [
    {
     "data": {
      "text/plain": [
       "18289"
      ]
     },
     "execution_count": 19,
     "metadata": {},
     "output_type": "execute_result"
    }
   ],
   "source": [
    "# we want to check for duplicated ID\n",
    "df[\"Episodes\"].duplicated().sum()"
   ]
  },
  {
   "cell_type": "code",
   "execution_count": 21,
   "id": "d6dd4a61",
   "metadata": {},
   "outputs": [
    {
     "data": {
      "text/html": [
       "<div>\n",
       "<style scoped>\n",
       "    .dataframe tbody tr th:only-of-type {\n",
       "        vertical-align: middle;\n",
       "    }\n",
       "\n",
       "    .dataframe tbody tr th {\n",
       "        vertical-align: top;\n",
       "    }\n",
       "\n",
       "    .dataframe thead th {\n",
       "        text-align: right;\n",
       "    }\n",
       "</style>\n",
       "<table border=\"1\" class=\"dataframe\">\n",
       "  <thead>\n",
       "    <tr style=\"text-align: right;\">\n",
       "      <th></th>\n",
       "      <th>Rank</th>\n",
       "      <th>Name</th>\n",
       "      <th>Japanese_name</th>\n",
       "      <th>Type</th>\n",
       "      <th>Episodes</th>\n",
       "      <th>Studio</th>\n",
       "      <th>Release_season</th>\n",
       "      <th>Tags</th>\n",
       "      <th>Rating</th>\n",
       "      <th>Release_year</th>\n",
       "      <th>End_year</th>\n",
       "      <th>Description</th>\n",
       "      <th>Content_Warning</th>\n",
       "      <th>Related_Mange</th>\n",
       "      <th>Related_anime</th>\n",
       "      <th>Voice_actors</th>\n",
       "    </tr>\n",
       "  </thead>\n",
       "  <tbody>\n",
       "    <tr>\n",
       "      <th>0</th>\n",
       "      <td>1</td>\n",
       "      <td>Demon Slayer: Kimetsu no Yaiba - Entertainment...</td>\n",
       "      <td>Kimetsu no Yaiba: Yuukaku-hen</td>\n",
       "      <td>TV</td>\n",
       "      <td>NaN</td>\n",
       "      <td>ufotable</td>\n",
       "      <td>Fall</td>\n",
       "      <td>Action, Adventure, Fantasy, Shounen, Demons, H...</td>\n",
       "      <td>4.60</td>\n",
       "      <td>2021.0</td>\n",
       "      <td>NaN</td>\n",
       "      <td>'Tanjiro and his friends accompany the Hashira...</td>\n",
       "      <td>Explicit Violence</td>\n",
       "      <td>Demon Slayer: Kimetsu no Yaiba</td>\n",
       "      <td>Demon Slayer: Kimetsu no Yaiba, Demon Slayer: ...</td>\n",
       "      <td>Inosuke Hashibira : Yoshitsugu Matsuoka, Nezuk...</td>\n",
       "    </tr>\n",
       "    <tr>\n",
       "      <th>1</th>\n",
       "      <td>2</td>\n",
       "      <td>Fruits Basket the Final Season</td>\n",
       "      <td>Fruits Basket the Final</td>\n",
       "      <td>TV</td>\n",
       "      <td>13.0</td>\n",
       "      <td>TMS Entertainment</td>\n",
       "      <td>Spring</td>\n",
       "      <td>Drama, Fantasy, Romance, Shoujo, Animal Transf...</td>\n",
       "      <td>4.60</td>\n",
       "      <td>2021.0</td>\n",
       "      <td>NaN</td>\n",
       "      <td>'The final arc of Fruits Basket.'</td>\n",
       "      <td>Emotional Abuse,, Mature Themes,, Physical Abu...</td>\n",
       "      <td>Fruits Basket, Fruits Basket Another</td>\n",
       "      <td>Fruits Basket 1st Season, Fruits Basket 2nd Se...</td>\n",
       "      <td>Akito Sohma : Maaya Sakamoto, Kyo Sohma : Yuum...</td>\n",
       "    </tr>\n",
       "    <tr>\n",
       "      <th>2</th>\n",
       "      <td>3</td>\n",
       "      <td>Mo Dao Zu Shi 3</td>\n",
       "      <td>The Founder of Diabolism 3</td>\n",
       "      <td>Web</td>\n",
       "      <td>12.0</td>\n",
       "      <td>B.C MAY PICTURES</td>\n",
       "      <td>NaN</td>\n",
       "      <td>Fantasy, Ancient China, Chinese Animation, Cul...</td>\n",
       "      <td>4.58</td>\n",
       "      <td>2021.0</td>\n",
       "      <td>NaN</td>\n",
       "      <td>'The third season of Mo Dao Zu Shi.'</td>\n",
       "      <td>NaN</td>\n",
       "      <td>Grandmaster of Demonic Cultivation: Mo Dao Zu ...</td>\n",
       "      <td>Mo Dao Zu Shi 2, Mo Dao Zu Shi Q</td>\n",
       "      <td>Lan Wangji, Wei Wuxian, Jiang Cheng, Jin Guang...</td>\n",
       "    </tr>\n",
       "    <tr>\n",
       "      <th>3</th>\n",
       "      <td>4</td>\n",
       "      <td>Fullmetal Alchemist: Brotherhood</td>\n",
       "      <td>Hagane no Renkinjutsushi: Full Metal Alchemist</td>\n",
       "      <td>TV</td>\n",
       "      <td>64.0</td>\n",
       "      <td>Bones</td>\n",
       "      <td>Spring</td>\n",
       "      <td>Action, Adventure, Drama, Fantasy, Mystery, Sh...</td>\n",
       "      <td>4.58</td>\n",
       "      <td>2009.0</td>\n",
       "      <td>2010.0</td>\n",
       "      <td>\"The foundation of alchemy is based on the law...</td>\n",
       "      <td>Animal Abuse,, Mature Themes,, Violence,, Dome...</td>\n",
       "      <td>Fullmetal Alchemist, Fullmetal Alchemist (Ligh...</td>\n",
       "      <td>Fullmetal Alchemist: Brotherhood Specials, Ful...</td>\n",
       "      <td>Alphonse Elric : Rie Kugimiya, Edward Elric : ...</td>\n",
       "    </tr>\n",
       "    <tr>\n",
       "      <th>4</th>\n",
       "      <td>5</td>\n",
       "      <td>Attack on Titan 3rd Season: Part II</td>\n",
       "      <td>Shingeki no Kyojin Season 3: Part II</td>\n",
       "      <td>TV</td>\n",
       "      <td>10.0</td>\n",
       "      <td>WIT Studio</td>\n",
       "      <td>Spring</td>\n",
       "      <td>Action, Fantasy, Horror, Shounen, Dark Fantasy...</td>\n",
       "      <td>4.57</td>\n",
       "      <td>2019.0</td>\n",
       "      <td>NaN</td>\n",
       "      <td>'The battle to retake Wall Maria begins now! W...</td>\n",
       "      <td>Cannibalism,, Explicit Violence</td>\n",
       "      <td>Attack on Titan, Attack on Titan: End of the W...</td>\n",
       "      <td>Attack on Titan, Attack on Titan 2nd Season, A...</td>\n",
       "      <td>Armin Arlelt : Marina Inoue, Eren Jaeger : Yuu...</td>\n",
       "    </tr>\n",
       "    <tr>\n",
       "      <th>...</th>\n",
       "      <td>...</td>\n",
       "      <td>...</td>\n",
       "      <td>...</td>\n",
       "      <td>...</td>\n",
       "      <td>...</td>\n",
       "      <td>...</td>\n",
       "      <td>...</td>\n",
       "      <td>...</td>\n",
       "      <td>...</td>\n",
       "      <td>...</td>\n",
       "      <td>...</td>\n",
       "      <td>...</td>\n",
       "      <td>...</td>\n",
       "      <td>...</td>\n",
       "      <td>...</td>\n",
       "      <td>...</td>\n",
       "    </tr>\n",
       "    <tr>\n",
       "      <th>18490</th>\n",
       "      <td>18491</td>\n",
       "      <td>Qin Shi Mingyue: Canghai Hengliu Xiaomeng Spec...</td>\n",
       "      <td>NaN</td>\n",
       "      <td>Web</td>\n",
       "      <td>2.0</td>\n",
       "      <td>Sparkly Key Animation Studio</td>\n",
       "      <td>NaN</td>\n",
       "      <td>Action, Ancient China, Chinese Animation, Hist...</td>\n",
       "      <td>NaN</td>\n",
       "      <td>2020.0</td>\n",
       "      <td>NaN</td>\n",
       "      <td>Special episodes of Qin Shi Mingyue: Canghai H...</td>\n",
       "      <td>NaN</td>\n",
       "      <td>NaN</td>\n",
       "      <td>Qin Shi Mingyue: Canghai Hengliu</td>\n",
       "      <td>NaN</td>\n",
       "    </tr>\n",
       "    <tr>\n",
       "      <th>18491</th>\n",
       "      <td>18492</td>\n",
       "      <td>Yi Tang Juchang: Sanguo Yanyi</td>\n",
       "      <td>NaN</td>\n",
       "      <td>TV</td>\n",
       "      <td>108.0</td>\n",
       "      <td>NaN</td>\n",
       "      <td>NaN</td>\n",
       "      <td>Chinese Animation</td>\n",
       "      <td>NaN</td>\n",
       "      <td>2010.0</td>\n",
       "      <td>NaN</td>\n",
       "      <td>No synopsis yet - check back soon!</td>\n",
       "      <td>NaN</td>\n",
       "      <td>NaN</td>\n",
       "      <td>NaN</td>\n",
       "      <td>NaN</td>\n",
       "    </tr>\n",
       "    <tr>\n",
       "      <th>18492</th>\n",
       "      <td>18493</td>\n",
       "      <td>Fenghuang Ji Xiang Yu Qingming Shanghe Tu</td>\n",
       "      <td>NaN</td>\n",
       "      <td>TV</td>\n",
       "      <td>13.0</td>\n",
       "      <td>NaN</td>\n",
       "      <td>NaN</td>\n",
       "      <td>Chinese Animation, Family Friendly, Short Epis...</td>\n",
       "      <td>NaN</td>\n",
       "      <td>2020.0</td>\n",
       "      <td>NaN</td>\n",
       "      <td>No synopsis yet - check back soon!</td>\n",
       "      <td>NaN</td>\n",
       "      <td>NaN</td>\n",
       "      <td>NaN</td>\n",
       "      <td>NaN</td>\n",
       "    </tr>\n",
       "    <tr>\n",
       "      <th>18493</th>\n",
       "      <td>18494</td>\n",
       "      <td>Chengshi Jiyi Wo Men de Jieri</td>\n",
       "      <td>NaN</td>\n",
       "      <td>TV</td>\n",
       "      <td>NaN</td>\n",
       "      <td>NaN</td>\n",
       "      <td>NaN</td>\n",
       "      <td>Chinese Animation, Family Friendly, Short Epis...</td>\n",
       "      <td>NaN</td>\n",
       "      <td>2020.0</td>\n",
       "      <td>NaN</td>\n",
       "      <td>No synopsis yet - check back soon!</td>\n",
       "      <td>NaN</td>\n",
       "      <td>NaN</td>\n",
       "      <td>NaN</td>\n",
       "      <td>NaN</td>\n",
       "    </tr>\n",
       "    <tr>\n",
       "      <th>18494</th>\n",
       "      <td>18495</td>\n",
       "      <td>Heisei Inu Monogatari Bow: Genshi Inu Monogata...</td>\n",
       "      <td>NaN</td>\n",
       "      <td>Movie</td>\n",
       "      <td>NaN</td>\n",
       "      <td>Nippon Animation</td>\n",
       "      <td>NaN</td>\n",
       "      <td>Comedy, Slice of Life, Dogs</td>\n",
       "      <td>NaN</td>\n",
       "      <td>1994.0</td>\n",
       "      <td>NaN</td>\n",
       "      <td>No synopsis yet - check back soon!</td>\n",
       "      <td>NaN</td>\n",
       "      <td>NaN</td>\n",
       "      <td>Heisei Inu Monogatari Bow</td>\n",
       "      <td>NaN</td>\n",
       "    </tr>\n",
       "  </tbody>\n",
       "</table>\n",
       "<p>18495 rows × 16 columns</p>\n",
       "</div>"
      ],
      "text/plain": [
       "        Rank                                               Name  \\\n",
       "0          1  Demon Slayer: Kimetsu no Yaiba - Entertainment...   \n",
       "1          2                     Fruits Basket the Final Season   \n",
       "2          3                                    Mo Dao Zu Shi 3   \n",
       "3          4                   Fullmetal Alchemist: Brotherhood   \n",
       "4          5                Attack on Titan 3rd Season: Part II   \n",
       "...      ...                                                ...   \n",
       "18490  18491  Qin Shi Mingyue: Canghai Hengliu Xiaomeng Spec...   \n",
       "18491  18492                      Yi Tang Juchang: Sanguo Yanyi   \n",
       "18492  18493          Fenghuang Ji Xiang Yu Qingming Shanghe Tu   \n",
       "18493  18494                      Chengshi Jiyi Wo Men de Jieri   \n",
       "18494  18495  Heisei Inu Monogatari Bow: Genshi Inu Monogata...   \n",
       "\n",
       "                                         Japanese_name   Type  Episodes  \\\n",
       "0                        Kimetsu no Yaiba: Yuukaku-hen  TV          NaN   \n",
       "1                              Fruits Basket the Final  TV         13.0   \n",
       "2                           The Founder of Diabolism 3  Web        12.0   \n",
       "3       Hagane no Renkinjutsushi: Full Metal Alchemist  TV         64.0   \n",
       "4                 Shingeki no Kyojin Season 3: Part II  TV         10.0   \n",
       "...                                                ...    ...       ...   \n",
       "18490                                              NaN  Web         2.0   \n",
       "18491                                              NaN  TV        108.0   \n",
       "18492                                              NaN  TV         13.0   \n",
       "18493                                              NaN  TV          NaN   \n",
       "18494                                              NaN  Movie       NaN   \n",
       "\n",
       "                             Studio Release_season  \\\n",
       "0                          ufotable          Fall    \n",
       "1                 TMS Entertainment         Spring   \n",
       "2                  B.C MAY PICTURES            NaN   \n",
       "3                             Bones         Spring   \n",
       "4                        WIT Studio         Spring   \n",
       "...                             ...            ...   \n",
       "18490  Sparkly Key Animation Studio            NaN   \n",
       "18491                           NaN            NaN   \n",
       "18492                           NaN            NaN   \n",
       "18493                           NaN            NaN   \n",
       "18494              Nippon Animation            NaN   \n",
       "\n",
       "                                                    Tags  Rating  \\\n",
       "0      Action, Adventure, Fantasy, Shounen, Demons, H...    4.60   \n",
       "1      Drama, Fantasy, Romance, Shoujo, Animal Transf...    4.60   \n",
       "2      Fantasy, Ancient China, Chinese Animation, Cul...    4.58   \n",
       "3      Action, Adventure, Drama, Fantasy, Mystery, Sh...    4.58   \n",
       "4      Action, Fantasy, Horror, Shounen, Dark Fantasy...    4.57   \n",
       "...                                                  ...     ...   \n",
       "18490  Action, Ancient China, Chinese Animation, Hist...     NaN   \n",
       "18491                                  Chinese Animation     NaN   \n",
       "18492  Chinese Animation, Family Friendly, Short Epis...     NaN   \n",
       "18493  Chinese Animation, Family Friendly, Short Epis...     NaN   \n",
       "18494                        Comedy, Slice of Life, Dogs     NaN   \n",
       "\n",
       "       Release_year  End_year  \\\n",
       "0            2021.0       NaN   \n",
       "1            2021.0       NaN   \n",
       "2            2021.0       NaN   \n",
       "3            2009.0    2010.0   \n",
       "4            2019.0       NaN   \n",
       "...             ...       ...   \n",
       "18490        2020.0       NaN   \n",
       "18491        2010.0       NaN   \n",
       "18492        2020.0       NaN   \n",
       "18493        2020.0       NaN   \n",
       "18494        1994.0       NaN   \n",
       "\n",
       "                                             Description  \\\n",
       "0      'Tanjiro and his friends accompany the Hashira...   \n",
       "1                      'The final arc of Fruits Basket.'   \n",
       "2                   'The third season of Mo Dao Zu Shi.'   \n",
       "3      \"The foundation of alchemy is based on the law...   \n",
       "4      'The battle to retake Wall Maria begins now! W...   \n",
       "...                                                  ...   \n",
       "18490  Special episodes of Qin Shi Mingyue: Canghai H...   \n",
       "18491                 No synopsis yet - check back soon!   \n",
       "18492                 No synopsis yet - check back soon!   \n",
       "18493                 No synopsis yet - check back soon!   \n",
       "18494                 No synopsis yet - check back soon!   \n",
       "\n",
       "                                         Content_Warning  \\\n",
       "0                                      Explicit Violence   \n",
       "1      Emotional Abuse,, Mature Themes,, Physical Abu...   \n",
       "2                                                    NaN   \n",
       "3      Animal Abuse,, Mature Themes,, Violence,, Dome...   \n",
       "4                        Cannibalism,, Explicit Violence   \n",
       "...                                                  ...   \n",
       "18490                                                NaN   \n",
       "18491                                                NaN   \n",
       "18492                                                NaN   \n",
       "18493                                                NaN   \n",
       "18494                                                NaN   \n",
       "\n",
       "                                           Related_Mange  \\\n",
       "0                         Demon Slayer: Kimetsu no Yaiba   \n",
       "1                   Fruits Basket, Fruits Basket Another   \n",
       "2      Grandmaster of Demonic Cultivation: Mo Dao Zu ...   \n",
       "3      Fullmetal Alchemist, Fullmetal Alchemist (Ligh...   \n",
       "4      Attack on Titan, Attack on Titan: End of the W...   \n",
       "...                                                  ...   \n",
       "18490                                                NaN   \n",
       "18491                                                NaN   \n",
       "18492                                                NaN   \n",
       "18493                                                NaN   \n",
       "18494                                                NaN   \n",
       "\n",
       "                                           Related_anime  \\\n",
       "0      Demon Slayer: Kimetsu no Yaiba, Demon Slayer: ...   \n",
       "1      Fruits Basket 1st Season, Fruits Basket 2nd Se...   \n",
       "2                       Mo Dao Zu Shi 2, Mo Dao Zu Shi Q   \n",
       "3      Fullmetal Alchemist: Brotherhood Specials, Ful...   \n",
       "4      Attack on Titan, Attack on Titan 2nd Season, A...   \n",
       "...                                                  ...   \n",
       "18490                   Qin Shi Mingyue: Canghai Hengliu   \n",
       "18491                                                NaN   \n",
       "18492                                                NaN   \n",
       "18493                                                NaN   \n",
       "18494                          Heisei Inu Monogatari Bow   \n",
       "\n",
       "                                            Voice_actors  \n",
       "0      Inosuke Hashibira : Yoshitsugu Matsuoka, Nezuk...  \n",
       "1      Akito Sohma : Maaya Sakamoto, Kyo Sohma : Yuum...  \n",
       "2      Lan Wangji, Wei Wuxian, Jiang Cheng, Jin Guang...  \n",
       "3      Alphonse Elric : Rie Kugimiya, Edward Elric : ...  \n",
       "4      Armin Arlelt : Marina Inoue, Eren Jaeger : Yuu...  \n",
       "...                                                  ...  \n",
       "18490                                                NaN  \n",
       "18491                                                NaN  \n",
       "18492                                                NaN  \n",
       "18493                                                NaN  \n",
       "18494                                                NaN  \n",
       "\n",
       "[18495 rows x 16 columns]"
      ]
     },
     "execution_count": 21,
     "metadata": {},
     "output_type": "execute_result"
    }
   ],
   "source": [
    "# delete a column\n",
    "df.drop(columns='staff',inplace=False)"
   ]
  },
  {
   "cell_type": "code",
   "execution_count": 22,
   "id": "1ba1c305",
   "metadata": {},
   "outputs": [
    {
     "data": {
      "text/html": [
       "<div>\n",
       "<style scoped>\n",
       "    .dataframe tbody tr th:only-of-type {\n",
       "        vertical-align: middle;\n",
       "    }\n",
       "\n",
       "    .dataframe tbody tr th {\n",
       "        vertical-align: top;\n",
       "    }\n",
       "\n",
       "    .dataframe thead th {\n",
       "        text-align: right;\n",
       "    }\n",
       "</style>\n",
       "<table border=\"1\" class=\"dataframe\">\n",
       "  <thead>\n",
       "    <tr style=\"text-align: right;\">\n",
       "      <th></th>\n",
       "      <th>Rank</th>\n",
       "      <th>Name</th>\n",
       "      <th>Japanese_name</th>\n",
       "      <th>Type</th>\n",
       "      <th>Episodes</th>\n",
       "      <th>Studio</th>\n",
       "      <th>Release_season</th>\n",
       "      <th>Tags</th>\n",
       "      <th>Rating</th>\n",
       "      <th>Release_year</th>\n",
       "      <th>End_year</th>\n",
       "      <th>Description</th>\n",
       "      <th>Content_Warning</th>\n",
       "      <th>Related_Mange</th>\n",
       "      <th>Related_anime</th>\n",
       "      <th>Voice_actors</th>\n",
       "      <th>staff</th>\n",
       "    </tr>\n",
       "  </thead>\n",
       "  <tbody>\n",
       "    <tr>\n",
       "      <th>0</th>\n",
       "      <td>1</td>\n",
       "      <td>Demon Slayer: Kimetsu no Yaiba - Entertainment...</td>\n",
       "      <td>Kimetsu no Yaiba: Yuukaku-hen</td>\n",
       "      <td>TV</td>\n",
       "      <td>NaN</td>\n",
       "      <td>ufotable</td>\n",
       "      <td>Fall</td>\n",
       "      <td>Action, Adventure, Fantasy, Shounen, Demons, H...</td>\n",
       "      <td>4.60</td>\n",
       "      <td>2021.0</td>\n",
       "      <td>NaN</td>\n",
       "      <td>'Tanjiro and his friends accompany the Hashira...</td>\n",
       "      <td>Explicit Violence</td>\n",
       "      <td>Demon Slayer: Kimetsu no Yaiba</td>\n",
       "      <td>Demon Slayer: Kimetsu no Yaiba, Demon Slayer: ...</td>\n",
       "      <td>Inosuke Hashibira : Yoshitsugu Matsuoka, Nezuk...</td>\n",
       "      <td>Koyoharu Gotouge : Original Creator, Haruo Sot...</td>\n",
       "    </tr>\n",
       "    <tr>\n",
       "      <th>1</th>\n",
       "      <td>2</td>\n",
       "      <td>Fruits Basket the Final Season</td>\n",
       "      <td>Fruits Basket the Final</td>\n",
       "      <td>TV</td>\n",
       "      <td>13.0</td>\n",
       "      <td>TMS Entertainment</td>\n",
       "      <td>Spring</td>\n",
       "      <td>Drama, Fantasy, Romance, Shoujo, Animal Transf...</td>\n",
       "      <td>4.60</td>\n",
       "      <td>2021.0</td>\n",
       "      <td>NaN</td>\n",
       "      <td>'The final arc of Fruits Basket.'</td>\n",
       "      <td>Emotional Abuse,, Mature Themes,, Physical Abu...</td>\n",
       "      <td>Fruits Basket, Fruits Basket Another</td>\n",
       "      <td>Fruits Basket 1st Season, Fruits Basket 2nd Se...</td>\n",
       "      <td>Akito Sohma : Maaya Sakamoto, Kyo Sohma : Yuum...</td>\n",
       "      <td>Natsuki Takaya : Original Creator, Yoshihide I...</td>\n",
       "    </tr>\n",
       "    <tr>\n",
       "      <th>2</th>\n",
       "      <td>3</td>\n",
       "      <td>Mo Dao Zu Shi 3</td>\n",
       "      <td>The Founder of Diabolism 3</td>\n",
       "      <td>Web</td>\n",
       "      <td>12.0</td>\n",
       "      <td>B.C MAY PICTURES</td>\n",
       "      <td>NaN</td>\n",
       "      <td>Fantasy, Ancient China, Chinese Animation, Cul...</td>\n",
       "      <td>4.58</td>\n",
       "      <td>2021.0</td>\n",
       "      <td>NaN</td>\n",
       "      <td>'The third season of Mo Dao Zu Shi.'</td>\n",
       "      <td>NaN</td>\n",
       "      <td>Grandmaster of Demonic Cultivation: Mo Dao Zu ...</td>\n",
       "      <td>Mo Dao Zu Shi 2, Mo Dao Zu Shi Q</td>\n",
       "      <td>Lan Wangji, Wei Wuxian, Jiang Cheng, Jin Guang...</td>\n",
       "      <td>Mo Xiang Tong Xiu : Original Creator, Xiong Ke...</td>\n",
       "    </tr>\n",
       "    <tr>\n",
       "      <th>3</th>\n",
       "      <td>4</td>\n",
       "      <td>Fullmetal Alchemist: Brotherhood</td>\n",
       "      <td>Hagane no Renkinjutsushi: Full Metal Alchemist</td>\n",
       "      <td>TV</td>\n",
       "      <td>64.0</td>\n",
       "      <td>Bones</td>\n",
       "      <td>Spring</td>\n",
       "      <td>Action, Adventure, Drama, Fantasy, Mystery, Sh...</td>\n",
       "      <td>4.58</td>\n",
       "      <td>2009.0</td>\n",
       "      <td>2010.0</td>\n",
       "      <td>\"The foundation of alchemy is based on the law...</td>\n",
       "      <td>Animal Abuse,, Mature Themes,, Violence,, Dome...</td>\n",
       "      <td>Fullmetal Alchemist, Fullmetal Alchemist (Ligh...</td>\n",
       "      <td>Fullmetal Alchemist: Brotherhood Specials, Ful...</td>\n",
       "      <td>Alphonse Elric : Rie Kugimiya, Edward Elric : ...</td>\n",
       "      <td>Hiromu Arakawa : Original Creator, Yasuhiro Ir...</td>\n",
       "    </tr>\n",
       "    <tr>\n",
       "      <th>4</th>\n",
       "      <td>5</td>\n",
       "      <td>Attack on Titan 3rd Season: Part II</td>\n",
       "      <td>Shingeki no Kyojin Season 3: Part II</td>\n",
       "      <td>TV</td>\n",
       "      <td>10.0</td>\n",
       "      <td>WIT Studio</td>\n",
       "      <td>Spring</td>\n",
       "      <td>Action, Fantasy, Horror, Shounen, Dark Fantasy...</td>\n",
       "      <td>4.57</td>\n",
       "      <td>2019.0</td>\n",
       "      <td>NaN</td>\n",
       "      <td>'The battle to retake Wall Maria begins now! W...</td>\n",
       "      <td>Cannibalism,, Explicit Violence</td>\n",
       "      <td>Attack on Titan, Attack on Titan: End of the W...</td>\n",
       "      <td>Attack on Titan, Attack on Titan 2nd Season, A...</td>\n",
       "      <td>Armin Arlelt : Marina Inoue, Eren Jaeger : Yuu...</td>\n",
       "      <td>Hajime Isayama : Original Creator, Tetsurou Ar...</td>\n",
       "    </tr>\n",
       "    <tr>\n",
       "      <th>...</th>\n",
       "      <td>...</td>\n",
       "      <td>...</td>\n",
       "      <td>...</td>\n",
       "      <td>...</td>\n",
       "      <td>...</td>\n",
       "      <td>...</td>\n",
       "      <td>...</td>\n",
       "      <td>...</td>\n",
       "      <td>...</td>\n",
       "      <td>...</td>\n",
       "      <td>...</td>\n",
       "      <td>...</td>\n",
       "      <td>...</td>\n",
       "      <td>...</td>\n",
       "      <td>...</td>\n",
       "      <td>...</td>\n",
       "      <td>...</td>\n",
       "    </tr>\n",
       "    <tr>\n",
       "      <th>18490</th>\n",
       "      <td>18491</td>\n",
       "      <td>Qin Shi Mingyue: Canghai Hengliu Xiaomeng Spec...</td>\n",
       "      <td>NaN</td>\n",
       "      <td>Web</td>\n",
       "      <td>2.0</td>\n",
       "      <td>Sparkly Key Animation Studio</td>\n",
       "      <td>NaN</td>\n",
       "      <td>Action, Ancient China, Chinese Animation, Hist...</td>\n",
       "      <td>NaN</td>\n",
       "      <td>2020.0</td>\n",
       "      <td>NaN</td>\n",
       "      <td>Special episodes of Qin Shi Mingyue: Canghai H...</td>\n",
       "      <td>NaN</td>\n",
       "      <td>NaN</td>\n",
       "      <td>Qin Shi Mingyue: Canghai Hengliu</td>\n",
       "      <td>NaN</td>\n",
       "      <td>NaN</td>\n",
       "    </tr>\n",
       "    <tr>\n",
       "      <th>18491</th>\n",
       "      <td>18492</td>\n",
       "      <td>Yi Tang Juchang: Sanguo Yanyi</td>\n",
       "      <td>NaN</td>\n",
       "      <td>TV</td>\n",
       "      <td>108.0</td>\n",
       "      <td>NaN</td>\n",
       "      <td>NaN</td>\n",
       "      <td>Chinese Animation</td>\n",
       "      <td>NaN</td>\n",
       "      <td>2010.0</td>\n",
       "      <td>NaN</td>\n",
       "      <td>No synopsis yet - check back soon!</td>\n",
       "      <td>NaN</td>\n",
       "      <td>NaN</td>\n",
       "      <td>NaN</td>\n",
       "      <td>NaN</td>\n",
       "      <td>NaN</td>\n",
       "    </tr>\n",
       "    <tr>\n",
       "      <th>18492</th>\n",
       "      <td>18493</td>\n",
       "      <td>Fenghuang Ji Xiang Yu Qingming Shanghe Tu</td>\n",
       "      <td>NaN</td>\n",
       "      <td>TV</td>\n",
       "      <td>13.0</td>\n",
       "      <td>NaN</td>\n",
       "      <td>NaN</td>\n",
       "      <td>Chinese Animation, Family Friendly, Short Epis...</td>\n",
       "      <td>NaN</td>\n",
       "      <td>2020.0</td>\n",
       "      <td>NaN</td>\n",
       "      <td>No synopsis yet - check back soon!</td>\n",
       "      <td>NaN</td>\n",
       "      <td>NaN</td>\n",
       "      <td>NaN</td>\n",
       "      <td>NaN</td>\n",
       "      <td>NaN</td>\n",
       "    </tr>\n",
       "    <tr>\n",
       "      <th>18493</th>\n",
       "      <td>18494</td>\n",
       "      <td>Chengshi Jiyi Wo Men de Jieri</td>\n",
       "      <td>NaN</td>\n",
       "      <td>TV</td>\n",
       "      <td>NaN</td>\n",
       "      <td>NaN</td>\n",
       "      <td>NaN</td>\n",
       "      <td>Chinese Animation, Family Friendly, Short Epis...</td>\n",
       "      <td>NaN</td>\n",
       "      <td>2020.0</td>\n",
       "      <td>NaN</td>\n",
       "      <td>No synopsis yet - check back soon!</td>\n",
       "      <td>NaN</td>\n",
       "      <td>NaN</td>\n",
       "      <td>NaN</td>\n",
       "      <td>NaN</td>\n",
       "      <td>NaN</td>\n",
       "    </tr>\n",
       "    <tr>\n",
       "      <th>18494</th>\n",
       "      <td>18495</td>\n",
       "      <td>Heisei Inu Monogatari Bow: Genshi Inu Monogata...</td>\n",
       "      <td>NaN</td>\n",
       "      <td>Movie</td>\n",
       "      <td>NaN</td>\n",
       "      <td>Nippon Animation</td>\n",
       "      <td>NaN</td>\n",
       "      <td>Comedy, Slice of Life, Dogs</td>\n",
       "      <td>NaN</td>\n",
       "      <td>1994.0</td>\n",
       "      <td>NaN</td>\n",
       "      <td>No synopsis yet - check back soon!</td>\n",
       "      <td>NaN</td>\n",
       "      <td>NaN</td>\n",
       "      <td>Heisei Inu Monogatari Bow</td>\n",
       "      <td>NaN</td>\n",
       "      <td>NaN</td>\n",
       "    </tr>\n",
       "  </tbody>\n",
       "</table>\n",
       "<p>18495 rows × 17 columns</p>\n",
       "</div>"
      ],
      "text/plain": [
       "        Rank                                               Name  \\\n",
       "0          1  Demon Slayer: Kimetsu no Yaiba - Entertainment...   \n",
       "1          2                     Fruits Basket the Final Season   \n",
       "2          3                                    Mo Dao Zu Shi 3   \n",
       "3          4                   Fullmetal Alchemist: Brotherhood   \n",
       "4          5                Attack on Titan 3rd Season: Part II   \n",
       "...      ...                                                ...   \n",
       "18490  18491  Qin Shi Mingyue: Canghai Hengliu Xiaomeng Spec...   \n",
       "18491  18492                      Yi Tang Juchang: Sanguo Yanyi   \n",
       "18492  18493          Fenghuang Ji Xiang Yu Qingming Shanghe Tu   \n",
       "18493  18494                      Chengshi Jiyi Wo Men de Jieri   \n",
       "18494  18495  Heisei Inu Monogatari Bow: Genshi Inu Monogata...   \n",
       "\n",
       "                                         Japanese_name   Type  Episodes  \\\n",
       "0                        Kimetsu no Yaiba: Yuukaku-hen  TV          NaN   \n",
       "1                              Fruits Basket the Final  TV         13.0   \n",
       "2                           The Founder of Diabolism 3  Web        12.0   \n",
       "3       Hagane no Renkinjutsushi: Full Metal Alchemist  TV         64.0   \n",
       "4                 Shingeki no Kyojin Season 3: Part II  TV         10.0   \n",
       "...                                                ...    ...       ...   \n",
       "18490                                              NaN  Web         2.0   \n",
       "18491                                              NaN  TV        108.0   \n",
       "18492                                              NaN  TV         13.0   \n",
       "18493                                              NaN  TV          NaN   \n",
       "18494                                              NaN  Movie       NaN   \n",
       "\n",
       "                             Studio Release_season  \\\n",
       "0                          ufotable          Fall    \n",
       "1                 TMS Entertainment         Spring   \n",
       "2                  B.C MAY PICTURES            NaN   \n",
       "3                             Bones         Spring   \n",
       "4                        WIT Studio         Spring   \n",
       "...                             ...            ...   \n",
       "18490  Sparkly Key Animation Studio            NaN   \n",
       "18491                           NaN            NaN   \n",
       "18492                           NaN            NaN   \n",
       "18493                           NaN            NaN   \n",
       "18494              Nippon Animation            NaN   \n",
       "\n",
       "                                                    Tags  Rating  \\\n",
       "0      Action, Adventure, Fantasy, Shounen, Demons, H...    4.60   \n",
       "1      Drama, Fantasy, Romance, Shoujo, Animal Transf...    4.60   \n",
       "2      Fantasy, Ancient China, Chinese Animation, Cul...    4.58   \n",
       "3      Action, Adventure, Drama, Fantasy, Mystery, Sh...    4.58   \n",
       "4      Action, Fantasy, Horror, Shounen, Dark Fantasy...    4.57   \n",
       "...                                                  ...     ...   \n",
       "18490  Action, Ancient China, Chinese Animation, Hist...     NaN   \n",
       "18491                                  Chinese Animation     NaN   \n",
       "18492  Chinese Animation, Family Friendly, Short Epis...     NaN   \n",
       "18493  Chinese Animation, Family Friendly, Short Epis...     NaN   \n",
       "18494                        Comedy, Slice of Life, Dogs     NaN   \n",
       "\n",
       "       Release_year  End_year  \\\n",
       "0            2021.0       NaN   \n",
       "1            2021.0       NaN   \n",
       "2            2021.0       NaN   \n",
       "3            2009.0    2010.0   \n",
       "4            2019.0       NaN   \n",
       "...             ...       ...   \n",
       "18490        2020.0       NaN   \n",
       "18491        2010.0       NaN   \n",
       "18492        2020.0       NaN   \n",
       "18493        2020.0       NaN   \n",
       "18494        1994.0       NaN   \n",
       "\n",
       "                                             Description  \\\n",
       "0      'Tanjiro and his friends accompany the Hashira...   \n",
       "1                      'The final arc of Fruits Basket.'   \n",
       "2                   'The third season of Mo Dao Zu Shi.'   \n",
       "3      \"The foundation of alchemy is based on the law...   \n",
       "4      'The battle to retake Wall Maria begins now! W...   \n",
       "...                                                  ...   \n",
       "18490  Special episodes of Qin Shi Mingyue: Canghai H...   \n",
       "18491                 No synopsis yet - check back soon!   \n",
       "18492                 No synopsis yet - check back soon!   \n",
       "18493                 No synopsis yet - check back soon!   \n",
       "18494                 No synopsis yet - check back soon!   \n",
       "\n",
       "                                         Content_Warning  \\\n",
       "0                                      Explicit Violence   \n",
       "1      Emotional Abuse,, Mature Themes,, Physical Abu...   \n",
       "2                                                    NaN   \n",
       "3      Animal Abuse,, Mature Themes,, Violence,, Dome...   \n",
       "4                        Cannibalism,, Explicit Violence   \n",
       "...                                                  ...   \n",
       "18490                                                NaN   \n",
       "18491                                                NaN   \n",
       "18492                                                NaN   \n",
       "18493                                                NaN   \n",
       "18494                                                NaN   \n",
       "\n",
       "                                           Related_Mange  \\\n",
       "0                         Demon Slayer: Kimetsu no Yaiba   \n",
       "1                   Fruits Basket, Fruits Basket Another   \n",
       "2      Grandmaster of Demonic Cultivation: Mo Dao Zu ...   \n",
       "3      Fullmetal Alchemist, Fullmetal Alchemist (Ligh...   \n",
       "4      Attack on Titan, Attack on Titan: End of the W...   \n",
       "...                                                  ...   \n",
       "18490                                                NaN   \n",
       "18491                                                NaN   \n",
       "18492                                                NaN   \n",
       "18493                                                NaN   \n",
       "18494                                                NaN   \n",
       "\n",
       "                                           Related_anime  \\\n",
       "0      Demon Slayer: Kimetsu no Yaiba, Demon Slayer: ...   \n",
       "1      Fruits Basket 1st Season, Fruits Basket 2nd Se...   \n",
       "2                       Mo Dao Zu Shi 2, Mo Dao Zu Shi Q   \n",
       "3      Fullmetal Alchemist: Brotherhood Specials, Ful...   \n",
       "4      Attack on Titan, Attack on Titan 2nd Season, A...   \n",
       "...                                                  ...   \n",
       "18490                   Qin Shi Mingyue: Canghai Hengliu   \n",
       "18491                                                NaN   \n",
       "18492                                                NaN   \n",
       "18493                                                NaN   \n",
       "18494                          Heisei Inu Monogatari Bow   \n",
       "\n",
       "                                            Voice_actors  \\\n",
       "0      Inosuke Hashibira : Yoshitsugu Matsuoka, Nezuk...   \n",
       "1      Akito Sohma : Maaya Sakamoto, Kyo Sohma : Yuum...   \n",
       "2      Lan Wangji, Wei Wuxian, Jiang Cheng, Jin Guang...   \n",
       "3      Alphonse Elric : Rie Kugimiya, Edward Elric : ...   \n",
       "4      Armin Arlelt : Marina Inoue, Eren Jaeger : Yuu...   \n",
       "...                                                  ...   \n",
       "18490                                                NaN   \n",
       "18491                                                NaN   \n",
       "18492                                                NaN   \n",
       "18493                                                NaN   \n",
       "18494                                                NaN   \n",
       "\n",
       "                                                   staff  \n",
       "0      Koyoharu Gotouge : Original Creator, Haruo Sot...  \n",
       "1      Natsuki Takaya : Original Creator, Yoshihide I...  \n",
       "2      Mo Xiang Tong Xiu : Original Creator, Xiong Ke...  \n",
       "3      Hiromu Arakawa : Original Creator, Yasuhiro Ir...  \n",
       "4      Hajime Isayama : Original Creator, Tetsurou Ar...  \n",
       "...                                                  ...  \n",
       "18490                                                NaN  \n",
       "18491                                                NaN  \n",
       "18492                                                NaN  \n",
       "18493                                                NaN  \n",
       "18494                                                NaN  \n",
       "\n",
       "[18495 rows x 17 columns]"
      ]
     },
     "execution_count": 22,
     "metadata": {},
     "output_type": "execute_result"
    }
   ],
   "source": [
    "df"
   ]
  },
  {
   "cell_type": "markdown",
   "id": "acbc7747",
   "metadata": {},
   "source": [
    "### The `value_counts()` function returns an object containing counts of unique values"
   ]
  },
  {
   "cell_type": "code",
   "execution_count": 30,
   "id": "36da5e9f",
   "metadata": {},
   "outputs": [],
   "source": [
    " year = df[\"Release_year\"].value_counts()"
   ]
  },
  {
   "cell_type": "markdown",
   "id": "587f4066",
   "metadata": {},
   "source": [
    "## visualizing using plotly"
   ]
  },
  {
   "cell_type": "code",
   "execution_count": 34,
   "id": "799ae5e8",
   "metadata": {},
   "outputs": [
    {
     "data": {
      "application/vnd.plotly.v1+json": {
       "config": {
        "linkText": "Export to plot.ly",
        "plotlyServerURL": "https://plot.ly",
        "showLink": false
       },
       "data": [
        {
         "alignmentgroup": "True",
         "hovertemplate": "Release_year=%{marker.color}<br>Frequency=%{y}<extra></extra>",
         "insidetextfont": {
          "family": "consolas",
          "size": 15
         },
         "legendgroup": "",
         "marker": {
          "color": [
           2017,
           2018,
           2016,
           2019,
           2020,
           2014,
           2015,
           2021,
           2013,
           2012,
           2011,
           2010,
           2009,
           2008,
           2006,
           2007,
           2005,
           2004,
           2003,
           2002,
           2001,
           2022,
           1999,
           1998,
           1990,
           2000,
           1993,
           1989,
           1997,
           1992,
           1991,
           1994,
           1996,
           1988,
           1995,
           1987,
           1986,
           1985,
           1983,
           1984,
           1982,
           1981,
           1980,
           1979,
           1978,
           1977,
           1976,
           1975,
           1974,
           1969,
           1970,
           1971,
           1973,
           1972,
           1965,
           1968,
           1967,
           1964,
           1966,
           1958,
           1963,
           1959,
           1960,
           1931,
           1935,
           1962,
           1933,
           1961,
           1956,
           1917,
           1932,
           1934,
           1936,
           1930,
           1929,
           1957,
           1928,
           1942,
           1954,
           1918,
           1955,
           1926,
           1941,
           1927,
           1948,
           1940,
           1925,
           1947,
           1953,
           2023,
           1946,
           1952,
           1939,
           1943,
           1938,
           1950,
           1937,
           1924,
           1951,
           1949,
           1944,
           1945,
           1907
          ],
          "coloraxis": "coloraxis",
          "pattern": {
           "shape": ""
          }
         },
         "name": "",
         "offsetgroup": "",
         "orientation": "v",
         "showlegend": false,
         "textposition": "auto",
         "texttemplate": "%{y}",
         "type": "bar",
         "x": [
          2017,
          2018,
          2016,
          2019,
          2020,
          2014,
          2015,
          2021,
          2013,
          2012,
          2011,
          2010,
          2009,
          2008,
          2006,
          2007,
          2005,
          2004,
          2003,
          2002,
          2001,
          2022,
          1999,
          1998,
          1990,
          2000,
          1993,
          1989,
          1997,
          1992,
          1991,
          1994,
          1996,
          1988,
          1995,
          1987,
          1986,
          1985,
          1983,
          1984,
          1982,
          1981,
          1980,
          1979,
          1978,
          1977,
          1976,
          1975,
          1974,
          1969,
          1970,
          1971,
          1973,
          1972,
          1965,
          1968,
          1967,
          1964,
          1966,
          1958,
          1963,
          1959,
          1960,
          1931,
          1935,
          1962,
          1933,
          1961,
          1956,
          1917,
          1932,
          1934,
          1936,
          1930,
          1929,
          1957,
          1928,
          1942,
          1954,
          1918,
          1955,
          1926,
          1941,
          1927,
          1948,
          1940,
          1925,
          1947,
          1953,
          2023,
          1946,
          1952,
          1939,
          1943,
          1938,
          1950,
          1937,
          1924,
          1951,
          1949,
          1944,
          1945,
          1907
         ],
         "xaxis": "x",
         "y": [
          1010,
          997,
          957,
          903,
          885,
          882,
          878,
          835,
          775,
          774,
          693,
          569,
          536,
          446,
          439,
          422,
          373,
          324,
          292,
          278,
          277,
          241,
          214,
          191,
          188,
          187,
          186,
          184,
          182,
          182,
          179,
          166,
          163,
          162,
          160,
          155,
          144,
          120,
          114,
          109,
          106,
          99,
          97,
          81,
          64,
          52,
          48,
          47,
          42,
          39,
          39,
          39,
          36,
          35,
          34,
          33,
          29,
          29,
          27,
          26,
          24,
          23,
          22,
          21,
          19,
          18,
          15,
          15,
          14,
          13,
          12,
          11,
          10,
          8,
          8,
          7,
          7,
          6,
          6,
          6,
          6,
          5,
          5,
          5,
          4,
          4,
          4,
          4,
          4,
          4,
          3,
          3,
          3,
          3,
          3,
          3,
          2,
          2,
          2,
          1,
          1,
          1,
          1
         ],
         "yaxis": "y"
        }
       ],
       "layout": {
        "barmode": "relative",
        "coloraxis": {
         "colorbar": {
          "title": {
           "text": "Release_year"
          }
         },
         "colorscale": [
          [
           0,
           "#0d0887"
          ],
          [
           0.1111111111111111,
           "#46039f"
          ],
          [
           0.2222222222222222,
           "#7201a8"
          ],
          [
           0.3333333333333333,
           "#9c179e"
          ],
          [
           0.4444444444444444,
           "#bd3786"
          ],
          [
           0.5555555555555556,
           "#d8576b"
          ],
          [
           0.6666666666666666,
           "#ed7953"
          ],
          [
           0.7777777777777778,
           "#fb9f3a"
          ],
          [
           0.8888888888888888,
           "#fdca26"
          ],
          [
           1,
           "#f0f921"
          ]
         ]
        },
        "legend": {
         "tracegroupgap": 0
        },
        "template": {
         "data": {
          "bar": [
           {
            "error_x": {
             "color": "#2a3f5f"
            },
            "error_y": {
             "color": "#2a3f5f"
            },
            "marker": {
             "line": {
              "color": "#E5ECF6",
              "width": 0.5
             },
             "pattern": {
              "fillmode": "overlay",
              "size": 10,
              "solidity": 0.2
             }
            },
            "type": "bar"
           }
          ],
          "barpolar": [
           {
            "marker": {
             "line": {
              "color": "#E5ECF6",
              "width": 0.5
             },
             "pattern": {
              "fillmode": "overlay",
              "size": 10,
              "solidity": 0.2
             }
            },
            "type": "barpolar"
           }
          ],
          "carpet": [
           {
            "aaxis": {
             "endlinecolor": "#2a3f5f",
             "gridcolor": "white",
             "linecolor": "white",
             "minorgridcolor": "white",
             "startlinecolor": "#2a3f5f"
            },
            "baxis": {
             "endlinecolor": "#2a3f5f",
             "gridcolor": "white",
             "linecolor": "white",
             "minorgridcolor": "white",
             "startlinecolor": "#2a3f5f"
            },
            "type": "carpet"
           }
          ],
          "choropleth": [
           {
            "colorbar": {
             "outlinewidth": 0,
             "ticks": ""
            },
            "type": "choropleth"
           }
          ],
          "contour": [
           {
            "colorbar": {
             "outlinewidth": 0,
             "ticks": ""
            },
            "colorscale": [
             [
              0,
              "#0d0887"
             ],
             [
              0.1111111111111111,
              "#46039f"
             ],
             [
              0.2222222222222222,
              "#7201a8"
             ],
             [
              0.3333333333333333,
              "#9c179e"
             ],
             [
              0.4444444444444444,
              "#bd3786"
             ],
             [
              0.5555555555555556,
              "#d8576b"
             ],
             [
              0.6666666666666666,
              "#ed7953"
             ],
             [
              0.7777777777777778,
              "#fb9f3a"
             ],
             [
              0.8888888888888888,
              "#fdca26"
             ],
             [
              1,
              "#f0f921"
             ]
            ],
            "type": "contour"
           }
          ],
          "contourcarpet": [
           {
            "colorbar": {
             "outlinewidth": 0,
             "ticks": ""
            },
            "type": "contourcarpet"
           }
          ],
          "heatmap": [
           {
            "colorbar": {
             "outlinewidth": 0,
             "ticks": ""
            },
            "colorscale": [
             [
              0,
              "#0d0887"
             ],
             [
              0.1111111111111111,
              "#46039f"
             ],
             [
              0.2222222222222222,
              "#7201a8"
             ],
             [
              0.3333333333333333,
              "#9c179e"
             ],
             [
              0.4444444444444444,
              "#bd3786"
             ],
             [
              0.5555555555555556,
              "#d8576b"
             ],
             [
              0.6666666666666666,
              "#ed7953"
             ],
             [
              0.7777777777777778,
              "#fb9f3a"
             ],
             [
              0.8888888888888888,
              "#fdca26"
             ],
             [
              1,
              "#f0f921"
             ]
            ],
            "type": "heatmap"
           }
          ],
          "heatmapgl": [
           {
            "colorbar": {
             "outlinewidth": 0,
             "ticks": ""
            },
            "colorscale": [
             [
              0,
              "#0d0887"
             ],
             [
              0.1111111111111111,
              "#46039f"
             ],
             [
              0.2222222222222222,
              "#7201a8"
             ],
             [
              0.3333333333333333,
              "#9c179e"
             ],
             [
              0.4444444444444444,
              "#bd3786"
             ],
             [
              0.5555555555555556,
              "#d8576b"
             ],
             [
              0.6666666666666666,
              "#ed7953"
             ],
             [
              0.7777777777777778,
              "#fb9f3a"
             ],
             [
              0.8888888888888888,
              "#fdca26"
             ],
             [
              1,
              "#f0f921"
             ]
            ],
            "type": "heatmapgl"
           }
          ],
          "histogram": [
           {
            "marker": {
             "pattern": {
              "fillmode": "overlay",
              "size": 10,
              "solidity": 0.2
             }
            },
            "type": "histogram"
           }
          ],
          "histogram2d": [
           {
            "colorbar": {
             "outlinewidth": 0,
             "ticks": ""
            },
            "colorscale": [
             [
              0,
              "#0d0887"
             ],
             [
              0.1111111111111111,
              "#46039f"
             ],
             [
              0.2222222222222222,
              "#7201a8"
             ],
             [
              0.3333333333333333,
              "#9c179e"
             ],
             [
              0.4444444444444444,
              "#bd3786"
             ],
             [
              0.5555555555555556,
              "#d8576b"
             ],
             [
              0.6666666666666666,
              "#ed7953"
             ],
             [
              0.7777777777777778,
              "#fb9f3a"
             ],
             [
              0.8888888888888888,
              "#fdca26"
             ],
             [
              1,
              "#f0f921"
             ]
            ],
            "type": "histogram2d"
           }
          ],
          "histogram2dcontour": [
           {
            "colorbar": {
             "outlinewidth": 0,
             "ticks": ""
            },
            "colorscale": [
             [
              0,
              "#0d0887"
             ],
             [
              0.1111111111111111,
              "#46039f"
             ],
             [
              0.2222222222222222,
              "#7201a8"
             ],
             [
              0.3333333333333333,
              "#9c179e"
             ],
             [
              0.4444444444444444,
              "#bd3786"
             ],
             [
              0.5555555555555556,
              "#d8576b"
             ],
             [
              0.6666666666666666,
              "#ed7953"
             ],
             [
              0.7777777777777778,
              "#fb9f3a"
             ],
             [
              0.8888888888888888,
              "#fdca26"
             ],
             [
              1,
              "#f0f921"
             ]
            ],
            "type": "histogram2dcontour"
           }
          ],
          "mesh3d": [
           {
            "colorbar": {
             "outlinewidth": 0,
             "ticks": ""
            },
            "type": "mesh3d"
           }
          ],
          "parcoords": [
           {
            "line": {
             "colorbar": {
              "outlinewidth": 0,
              "ticks": ""
             }
            },
            "type": "parcoords"
           }
          ],
          "pie": [
           {
            "automargin": true,
            "type": "pie"
           }
          ],
          "scatter": [
           {
            "fillpattern": {
             "fillmode": "overlay",
             "size": 10,
             "solidity": 0.2
            },
            "type": "scatter"
           }
          ],
          "scatter3d": [
           {
            "line": {
             "colorbar": {
              "outlinewidth": 0,
              "ticks": ""
             }
            },
            "marker": {
             "colorbar": {
              "outlinewidth": 0,
              "ticks": ""
             }
            },
            "type": "scatter3d"
           }
          ],
          "scattercarpet": [
           {
            "marker": {
             "colorbar": {
              "outlinewidth": 0,
              "ticks": ""
             }
            },
            "type": "scattercarpet"
           }
          ],
          "scattergeo": [
           {
            "marker": {
             "colorbar": {
              "outlinewidth": 0,
              "ticks": ""
             }
            },
            "type": "scattergeo"
           }
          ],
          "scattergl": [
           {
            "marker": {
             "colorbar": {
              "outlinewidth": 0,
              "ticks": ""
             }
            },
            "type": "scattergl"
           }
          ],
          "scattermapbox": [
           {
            "marker": {
             "colorbar": {
              "outlinewidth": 0,
              "ticks": ""
             }
            },
            "type": "scattermapbox"
           }
          ],
          "scatterpolar": [
           {
            "marker": {
             "colorbar": {
              "outlinewidth": 0,
              "ticks": ""
             }
            },
            "type": "scatterpolar"
           }
          ],
          "scatterpolargl": [
           {
            "marker": {
             "colorbar": {
              "outlinewidth": 0,
              "ticks": ""
             }
            },
            "type": "scatterpolargl"
           }
          ],
          "scatterternary": [
           {
            "marker": {
             "colorbar": {
              "outlinewidth": 0,
              "ticks": ""
             }
            },
            "type": "scatterternary"
           }
          ],
          "surface": [
           {
            "colorbar": {
             "outlinewidth": 0,
             "ticks": ""
            },
            "colorscale": [
             [
              0,
              "#0d0887"
             ],
             [
              0.1111111111111111,
              "#46039f"
             ],
             [
              0.2222222222222222,
              "#7201a8"
             ],
             [
              0.3333333333333333,
              "#9c179e"
             ],
             [
              0.4444444444444444,
              "#bd3786"
             ],
             [
              0.5555555555555556,
              "#d8576b"
             ],
             [
              0.6666666666666666,
              "#ed7953"
             ],
             [
              0.7777777777777778,
              "#fb9f3a"
             ],
             [
              0.8888888888888888,
              "#fdca26"
             ],
             [
              1,
              "#f0f921"
             ]
            ],
            "type": "surface"
           }
          ],
          "table": [
           {
            "cells": {
             "fill": {
              "color": "#EBF0F8"
             },
             "line": {
              "color": "white"
             }
            },
            "header": {
             "fill": {
              "color": "#C8D4E3"
             },
             "line": {
              "color": "white"
             }
            },
            "type": "table"
           }
          ]
         },
         "layout": {
          "annotationdefaults": {
           "arrowcolor": "#2a3f5f",
           "arrowhead": 0,
           "arrowwidth": 1
          },
          "autotypenumbers": "strict",
          "coloraxis": {
           "colorbar": {
            "outlinewidth": 0,
            "ticks": ""
           }
          },
          "colorscale": {
           "diverging": [
            [
             0,
             "#8e0152"
            ],
            [
             0.1,
             "#c51b7d"
            ],
            [
             0.2,
             "#de77ae"
            ],
            [
             0.3,
             "#f1b6da"
            ],
            [
             0.4,
             "#fde0ef"
            ],
            [
             0.5,
             "#f7f7f7"
            ],
            [
             0.6,
             "#e6f5d0"
            ],
            [
             0.7,
             "#b8e186"
            ],
            [
             0.8,
             "#7fbc41"
            ],
            [
             0.9,
             "#4d9221"
            ],
            [
             1,
             "#276419"
            ]
           ],
           "sequential": [
            [
             0,
             "#0d0887"
            ],
            [
             0.1111111111111111,
             "#46039f"
            ],
            [
             0.2222222222222222,
             "#7201a8"
            ],
            [
             0.3333333333333333,
             "#9c179e"
            ],
            [
             0.4444444444444444,
             "#bd3786"
            ],
            [
             0.5555555555555556,
             "#d8576b"
            ],
            [
             0.6666666666666666,
             "#ed7953"
            ],
            [
             0.7777777777777778,
             "#fb9f3a"
            ],
            [
             0.8888888888888888,
             "#fdca26"
            ],
            [
             1,
             "#f0f921"
            ]
           ],
           "sequentialminus": [
            [
             0,
             "#0d0887"
            ],
            [
             0.1111111111111111,
             "#46039f"
            ],
            [
             0.2222222222222222,
             "#7201a8"
            ],
            [
             0.3333333333333333,
             "#9c179e"
            ],
            [
             0.4444444444444444,
             "#bd3786"
            ],
            [
             0.5555555555555556,
             "#d8576b"
            ],
            [
             0.6666666666666666,
             "#ed7953"
            ],
            [
             0.7777777777777778,
             "#fb9f3a"
            ],
            [
             0.8888888888888888,
             "#fdca26"
            ],
            [
             1,
             "#f0f921"
            ]
           ]
          },
          "colorway": [
           "#636efa",
           "#EF553B",
           "#00cc96",
           "#ab63fa",
           "#FFA15A",
           "#19d3f3",
           "#FF6692",
           "#B6E880",
           "#FF97FF",
           "#FECB52"
          ],
          "font": {
           "color": "#2a3f5f"
          },
          "geo": {
           "bgcolor": "white",
           "lakecolor": "white",
           "landcolor": "#E5ECF6",
           "showlakes": true,
           "showland": true,
           "subunitcolor": "white"
          },
          "hoverlabel": {
           "align": "left"
          },
          "hovermode": "closest",
          "mapbox": {
           "style": "light"
          },
          "paper_bgcolor": "white",
          "plot_bgcolor": "#E5ECF6",
          "polar": {
           "angularaxis": {
            "gridcolor": "white",
            "linecolor": "white",
            "ticks": ""
           },
           "bgcolor": "#E5ECF6",
           "radialaxis": {
            "gridcolor": "white",
            "linecolor": "white",
            "ticks": ""
           }
          },
          "scene": {
           "xaxis": {
            "backgroundcolor": "#E5ECF6",
            "gridcolor": "white",
            "gridwidth": 2,
            "linecolor": "white",
            "showbackground": true,
            "ticks": "",
            "zerolinecolor": "white"
           },
           "yaxis": {
            "backgroundcolor": "#E5ECF6",
            "gridcolor": "white",
            "gridwidth": 2,
            "linecolor": "white",
            "showbackground": true,
            "ticks": "",
            "zerolinecolor": "white"
           },
           "zaxis": {
            "backgroundcolor": "#E5ECF6",
            "gridcolor": "white",
            "gridwidth": 2,
            "linecolor": "white",
            "showbackground": true,
            "ticks": "",
            "zerolinecolor": "white"
           }
          },
          "shapedefaults": {
           "line": {
            "color": "#2a3f5f"
           }
          },
          "ternary": {
           "aaxis": {
            "gridcolor": "white",
            "linecolor": "white",
            "ticks": ""
           },
           "baxis": {
            "gridcolor": "white",
            "linecolor": "white",
            "ticks": ""
           },
           "bgcolor": "#E5ECF6",
           "caxis": {
            "gridcolor": "white",
            "linecolor": "white",
            "ticks": ""
           }
          },
          "title": {
           "x": 0.05
          },
          "xaxis": {
           "automargin": true,
           "gridcolor": "white",
           "linecolor": "white",
           "ticks": "",
           "title": {
            "standoff": 15
           },
           "zerolinecolor": "white",
           "zerolinewidth": 2
          },
          "yaxis": {
           "automargin": true,
           "gridcolor": "white",
           "linecolor": "white",
           "ticks": "",
           "title": {
            "standoff": 15
           },
           "zerolinecolor": "white",
           "zerolinewidth": 2
          }
         }
        },
        "title": {
         "text": "Show Year Frequency"
        },
        "xaxis": {
         "anchor": "y",
         "domain": [
          0,
          1
         ],
         "title": {
          "text": "Release_year"
         }
        },
        "yaxis": {
         "anchor": "x",
         "domain": [
          0,
          1
         ],
         "title": {
          "text": "Frequency"
         }
        }
       }
      },
      "text/html": [
       "<div>                            <div id=\"e365be79-3531-415b-8156-9b7852881761\" class=\"plotly-graph-div\" style=\"height:525px; width:100%;\"></div>            <script type=\"text/javascript\">                require([\"plotly\"], function(Plotly) {                    window.PLOTLYENV=window.PLOTLYENV || {};                                    if (document.getElementById(\"e365be79-3531-415b-8156-9b7852881761\")) {                    Plotly.newPlot(                        \"e365be79-3531-415b-8156-9b7852881761\",                        [{\"alignmentgroup\":\"True\",\"hovertemplate\":\"Release_year=%{marker.color}<br>Frequency=%{y}<extra></extra>\",\"insidetextfont\":{\"family\":\"consolas\",\"size\":15},\"legendgroup\":\"\",\"marker\":{\"color\":[2017.0,2018.0,2016.0,2019.0,2020.0,2014.0,2015.0,2021.0,2013.0,2012.0,2011.0,2010.0,2009.0,2008.0,2006.0,2007.0,2005.0,2004.0,2003.0,2002.0,2001.0,2022.0,1999.0,1998.0,1990.0,2000.0,1993.0,1989.0,1997.0,1992.0,1991.0,1994.0,1996.0,1988.0,1995.0,1987.0,1986.0,1985.0,1983.0,1984.0,1982.0,1981.0,1980.0,1979.0,1978.0,1977.0,1976.0,1975.0,1974.0,1969.0,1970.0,1971.0,1973.0,1972.0,1965.0,1968.0,1967.0,1964.0,1966.0,1958.0,1963.0,1959.0,1960.0,1931.0,1935.0,1962.0,1933.0,1961.0,1956.0,1917.0,1932.0,1934.0,1936.0,1930.0,1929.0,1957.0,1928.0,1942.0,1954.0,1918.0,1955.0,1926.0,1941.0,1927.0,1948.0,1940.0,1925.0,1947.0,1953.0,2023.0,1946.0,1952.0,1939.0,1943.0,1938.0,1950.0,1937.0,1924.0,1951.0,1949.0,1944.0,1945.0,1907.0],\"coloraxis\":\"coloraxis\",\"pattern\":{\"shape\":\"\"}},\"name\":\"\",\"offsetgroup\":\"\",\"orientation\":\"v\",\"showlegend\":false,\"textposition\":\"auto\",\"texttemplate\":\"%{y}\",\"x\":[2017.0,2018.0,2016.0,2019.0,2020.0,2014.0,2015.0,2021.0,2013.0,2012.0,2011.0,2010.0,2009.0,2008.0,2006.0,2007.0,2005.0,2004.0,2003.0,2002.0,2001.0,2022.0,1999.0,1998.0,1990.0,2000.0,1993.0,1989.0,1997.0,1992.0,1991.0,1994.0,1996.0,1988.0,1995.0,1987.0,1986.0,1985.0,1983.0,1984.0,1982.0,1981.0,1980.0,1979.0,1978.0,1977.0,1976.0,1975.0,1974.0,1969.0,1970.0,1971.0,1973.0,1972.0,1965.0,1968.0,1967.0,1964.0,1966.0,1958.0,1963.0,1959.0,1960.0,1931.0,1935.0,1962.0,1933.0,1961.0,1956.0,1917.0,1932.0,1934.0,1936.0,1930.0,1929.0,1957.0,1928.0,1942.0,1954.0,1918.0,1955.0,1926.0,1941.0,1927.0,1948.0,1940.0,1925.0,1947.0,1953.0,2023.0,1946.0,1952.0,1939.0,1943.0,1938.0,1950.0,1937.0,1924.0,1951.0,1949.0,1944.0,1945.0,1907.0],\"xaxis\":\"x\",\"y\":[1010,997,957,903,885,882,878,835,775,774,693,569,536,446,439,422,373,324,292,278,277,241,214,191,188,187,186,184,182,182,179,166,163,162,160,155,144,120,114,109,106,99,97,81,64,52,48,47,42,39,39,39,36,35,34,33,29,29,27,26,24,23,22,21,19,18,15,15,14,13,12,11,10,8,8,7,7,6,6,6,6,5,5,5,4,4,4,4,4,4,3,3,3,3,3,3,2,2,2,1,1,1,1],\"yaxis\":\"y\",\"type\":\"bar\"}],                        {\"barmode\":\"relative\",\"coloraxis\":{\"colorbar\":{\"title\":{\"text\":\"Release_year\"}},\"colorscale\":[[0.0,\"#0d0887\"],[0.1111111111111111,\"#46039f\"],[0.2222222222222222,\"#7201a8\"],[0.3333333333333333,\"#9c179e\"],[0.4444444444444444,\"#bd3786\"],[0.5555555555555556,\"#d8576b\"],[0.6666666666666666,\"#ed7953\"],[0.7777777777777778,\"#fb9f3a\"],[0.8888888888888888,\"#fdca26\"],[1.0,\"#f0f921\"]]},\"legend\":{\"tracegroupgap\":0},\"template\":{\"data\":{\"barpolar\":[{\"marker\":{\"line\":{\"color\":\"#E5ECF6\",\"width\":0.5},\"pattern\":{\"fillmode\":\"overlay\",\"size\":10,\"solidity\":0.2}},\"type\":\"barpolar\"}],\"bar\":[{\"error_x\":{\"color\":\"#2a3f5f\"},\"error_y\":{\"color\":\"#2a3f5f\"},\"marker\":{\"line\":{\"color\":\"#E5ECF6\",\"width\":0.5},\"pattern\":{\"fillmode\":\"overlay\",\"size\":10,\"solidity\":0.2}},\"type\":\"bar\"}],\"carpet\":[{\"aaxis\":{\"endlinecolor\":\"#2a3f5f\",\"gridcolor\":\"white\",\"linecolor\":\"white\",\"minorgridcolor\":\"white\",\"startlinecolor\":\"#2a3f5f\"},\"baxis\":{\"endlinecolor\":\"#2a3f5f\",\"gridcolor\":\"white\",\"linecolor\":\"white\",\"minorgridcolor\":\"white\",\"startlinecolor\":\"#2a3f5f\"},\"type\":\"carpet\"}],\"choropleth\":[{\"colorbar\":{\"outlinewidth\":0,\"ticks\":\"\"},\"type\":\"choropleth\"}],\"contourcarpet\":[{\"colorbar\":{\"outlinewidth\":0,\"ticks\":\"\"},\"type\":\"contourcarpet\"}],\"contour\":[{\"colorbar\":{\"outlinewidth\":0,\"ticks\":\"\"},\"colorscale\":[[0.0,\"#0d0887\"],[0.1111111111111111,\"#46039f\"],[0.2222222222222222,\"#7201a8\"],[0.3333333333333333,\"#9c179e\"],[0.4444444444444444,\"#bd3786\"],[0.5555555555555556,\"#d8576b\"],[0.6666666666666666,\"#ed7953\"],[0.7777777777777778,\"#fb9f3a\"],[0.8888888888888888,\"#fdca26\"],[1.0,\"#f0f921\"]],\"type\":\"contour\"}],\"heatmapgl\":[{\"colorbar\":{\"outlinewidth\":0,\"ticks\":\"\"},\"colorscale\":[[0.0,\"#0d0887\"],[0.1111111111111111,\"#46039f\"],[0.2222222222222222,\"#7201a8\"],[0.3333333333333333,\"#9c179e\"],[0.4444444444444444,\"#bd3786\"],[0.5555555555555556,\"#d8576b\"],[0.6666666666666666,\"#ed7953\"],[0.7777777777777778,\"#fb9f3a\"],[0.8888888888888888,\"#fdca26\"],[1.0,\"#f0f921\"]],\"type\":\"heatmapgl\"}],\"heatmap\":[{\"colorbar\":{\"outlinewidth\":0,\"ticks\":\"\"},\"colorscale\":[[0.0,\"#0d0887\"],[0.1111111111111111,\"#46039f\"],[0.2222222222222222,\"#7201a8\"],[0.3333333333333333,\"#9c179e\"],[0.4444444444444444,\"#bd3786\"],[0.5555555555555556,\"#d8576b\"],[0.6666666666666666,\"#ed7953\"],[0.7777777777777778,\"#fb9f3a\"],[0.8888888888888888,\"#fdca26\"],[1.0,\"#f0f921\"]],\"type\":\"heatmap\"}],\"histogram2dcontour\":[{\"colorbar\":{\"outlinewidth\":0,\"ticks\":\"\"},\"colorscale\":[[0.0,\"#0d0887\"],[0.1111111111111111,\"#46039f\"],[0.2222222222222222,\"#7201a8\"],[0.3333333333333333,\"#9c179e\"],[0.4444444444444444,\"#bd3786\"],[0.5555555555555556,\"#d8576b\"],[0.6666666666666666,\"#ed7953\"],[0.7777777777777778,\"#fb9f3a\"],[0.8888888888888888,\"#fdca26\"],[1.0,\"#f0f921\"]],\"type\":\"histogram2dcontour\"}],\"histogram2d\":[{\"colorbar\":{\"outlinewidth\":0,\"ticks\":\"\"},\"colorscale\":[[0.0,\"#0d0887\"],[0.1111111111111111,\"#46039f\"],[0.2222222222222222,\"#7201a8\"],[0.3333333333333333,\"#9c179e\"],[0.4444444444444444,\"#bd3786\"],[0.5555555555555556,\"#d8576b\"],[0.6666666666666666,\"#ed7953\"],[0.7777777777777778,\"#fb9f3a\"],[0.8888888888888888,\"#fdca26\"],[1.0,\"#f0f921\"]],\"type\":\"histogram2d\"}],\"histogram\":[{\"marker\":{\"pattern\":{\"fillmode\":\"overlay\",\"size\":10,\"solidity\":0.2}},\"type\":\"histogram\"}],\"mesh3d\":[{\"colorbar\":{\"outlinewidth\":0,\"ticks\":\"\"},\"type\":\"mesh3d\"}],\"parcoords\":[{\"line\":{\"colorbar\":{\"outlinewidth\":0,\"ticks\":\"\"}},\"type\":\"parcoords\"}],\"pie\":[{\"automargin\":true,\"type\":\"pie\"}],\"scatter3d\":[{\"line\":{\"colorbar\":{\"outlinewidth\":0,\"ticks\":\"\"}},\"marker\":{\"colorbar\":{\"outlinewidth\":0,\"ticks\":\"\"}},\"type\":\"scatter3d\"}],\"scattercarpet\":[{\"marker\":{\"colorbar\":{\"outlinewidth\":0,\"ticks\":\"\"}},\"type\":\"scattercarpet\"}],\"scattergeo\":[{\"marker\":{\"colorbar\":{\"outlinewidth\":0,\"ticks\":\"\"}},\"type\":\"scattergeo\"}],\"scattergl\":[{\"marker\":{\"colorbar\":{\"outlinewidth\":0,\"ticks\":\"\"}},\"type\":\"scattergl\"}],\"scattermapbox\":[{\"marker\":{\"colorbar\":{\"outlinewidth\":0,\"ticks\":\"\"}},\"type\":\"scattermapbox\"}],\"scatterpolargl\":[{\"marker\":{\"colorbar\":{\"outlinewidth\":0,\"ticks\":\"\"}},\"type\":\"scatterpolargl\"}],\"scatterpolar\":[{\"marker\":{\"colorbar\":{\"outlinewidth\":0,\"ticks\":\"\"}},\"type\":\"scatterpolar\"}],\"scatter\":[{\"fillpattern\":{\"fillmode\":\"overlay\",\"size\":10,\"solidity\":0.2},\"type\":\"scatter\"}],\"scatterternary\":[{\"marker\":{\"colorbar\":{\"outlinewidth\":0,\"ticks\":\"\"}},\"type\":\"scatterternary\"}],\"surface\":[{\"colorbar\":{\"outlinewidth\":0,\"ticks\":\"\"},\"colorscale\":[[0.0,\"#0d0887\"],[0.1111111111111111,\"#46039f\"],[0.2222222222222222,\"#7201a8\"],[0.3333333333333333,\"#9c179e\"],[0.4444444444444444,\"#bd3786\"],[0.5555555555555556,\"#d8576b\"],[0.6666666666666666,\"#ed7953\"],[0.7777777777777778,\"#fb9f3a\"],[0.8888888888888888,\"#fdca26\"],[1.0,\"#f0f921\"]],\"type\":\"surface\"}],\"table\":[{\"cells\":{\"fill\":{\"color\":\"#EBF0F8\"},\"line\":{\"color\":\"white\"}},\"header\":{\"fill\":{\"color\":\"#C8D4E3\"},\"line\":{\"color\":\"white\"}},\"type\":\"table\"}]},\"layout\":{\"annotationdefaults\":{\"arrowcolor\":\"#2a3f5f\",\"arrowhead\":0,\"arrowwidth\":1},\"autotypenumbers\":\"strict\",\"coloraxis\":{\"colorbar\":{\"outlinewidth\":0,\"ticks\":\"\"}},\"colorscale\":{\"diverging\":[[0,\"#8e0152\"],[0.1,\"#c51b7d\"],[0.2,\"#de77ae\"],[0.3,\"#f1b6da\"],[0.4,\"#fde0ef\"],[0.5,\"#f7f7f7\"],[0.6,\"#e6f5d0\"],[0.7,\"#b8e186\"],[0.8,\"#7fbc41\"],[0.9,\"#4d9221\"],[1,\"#276419\"]],\"sequential\":[[0.0,\"#0d0887\"],[0.1111111111111111,\"#46039f\"],[0.2222222222222222,\"#7201a8\"],[0.3333333333333333,\"#9c179e\"],[0.4444444444444444,\"#bd3786\"],[0.5555555555555556,\"#d8576b\"],[0.6666666666666666,\"#ed7953\"],[0.7777777777777778,\"#fb9f3a\"],[0.8888888888888888,\"#fdca26\"],[1.0,\"#f0f921\"]],\"sequentialminus\":[[0.0,\"#0d0887\"],[0.1111111111111111,\"#46039f\"],[0.2222222222222222,\"#7201a8\"],[0.3333333333333333,\"#9c179e\"],[0.4444444444444444,\"#bd3786\"],[0.5555555555555556,\"#d8576b\"],[0.6666666666666666,\"#ed7953\"],[0.7777777777777778,\"#fb9f3a\"],[0.8888888888888888,\"#fdca26\"],[1.0,\"#f0f921\"]]},\"colorway\":[\"#636efa\",\"#EF553B\",\"#00cc96\",\"#ab63fa\",\"#FFA15A\",\"#19d3f3\",\"#FF6692\",\"#B6E880\",\"#FF97FF\",\"#FECB52\"],\"font\":{\"color\":\"#2a3f5f\"},\"geo\":{\"bgcolor\":\"white\",\"lakecolor\":\"white\",\"landcolor\":\"#E5ECF6\",\"showlakes\":true,\"showland\":true,\"subunitcolor\":\"white\"},\"hoverlabel\":{\"align\":\"left\"},\"hovermode\":\"closest\",\"mapbox\":{\"style\":\"light\"},\"paper_bgcolor\":\"white\",\"plot_bgcolor\":\"#E5ECF6\",\"polar\":{\"angularaxis\":{\"gridcolor\":\"white\",\"linecolor\":\"white\",\"ticks\":\"\"},\"bgcolor\":\"#E5ECF6\",\"radialaxis\":{\"gridcolor\":\"white\",\"linecolor\":\"white\",\"ticks\":\"\"}},\"scene\":{\"xaxis\":{\"backgroundcolor\":\"#E5ECF6\",\"gridcolor\":\"white\",\"gridwidth\":2,\"linecolor\":\"white\",\"showbackground\":true,\"ticks\":\"\",\"zerolinecolor\":\"white\"},\"yaxis\":{\"backgroundcolor\":\"#E5ECF6\",\"gridcolor\":\"white\",\"gridwidth\":2,\"linecolor\":\"white\",\"showbackground\":true,\"ticks\":\"\",\"zerolinecolor\":\"white\"},\"zaxis\":{\"backgroundcolor\":\"#E5ECF6\",\"gridcolor\":\"white\",\"gridwidth\":2,\"linecolor\":\"white\",\"showbackground\":true,\"ticks\":\"\",\"zerolinecolor\":\"white\"}},\"shapedefaults\":{\"line\":{\"color\":\"#2a3f5f\"}},\"ternary\":{\"aaxis\":{\"gridcolor\":\"white\",\"linecolor\":\"white\",\"ticks\":\"\"},\"baxis\":{\"gridcolor\":\"white\",\"linecolor\":\"white\",\"ticks\":\"\"},\"bgcolor\":\"#E5ECF6\",\"caxis\":{\"gridcolor\":\"white\",\"linecolor\":\"white\",\"ticks\":\"\"}},\"title\":{\"x\":0.05},\"xaxis\":{\"automargin\":true,\"gridcolor\":\"white\",\"linecolor\":\"white\",\"ticks\":\"\",\"title\":{\"standoff\":15},\"zerolinecolor\":\"white\",\"zerolinewidth\":2},\"yaxis\":{\"automargin\":true,\"gridcolor\":\"white\",\"linecolor\":\"white\",\"ticks\":\"\",\"title\":{\"standoff\":15},\"zerolinecolor\":\"white\",\"zerolinewidth\":2}}},\"title\":{\"text\":\"Show Year Frequency\"},\"xaxis\":{\"anchor\":\"y\",\"domain\":[0.0,1.0],\"title\":{\"text\":\"Release_year\"}},\"yaxis\":{\"anchor\":\"x\",\"domain\":[0.0,1.0],\"title\":{\"text\":\"Frequency\"}}},                        {\"responsive\": true}                    ).then(function(){\n",
       "                            \n",
       "var gd = document.getElementById('e365be79-3531-415b-8156-9b7852881761');\n",
       "var x = new MutationObserver(function (mutations, observer) {{\n",
       "        var display = window.getComputedStyle(gd).display;\n",
       "        if (!display || display === 'none') {{\n",
       "            console.log([gd, 'removed!']);\n",
       "            Plotly.purge(gd);\n",
       "            observer.disconnect();\n",
       "        }}\n",
       "}});\n",
       "\n",
       "// Listen for the removal of the full notebook cells\n",
       "var notebookContainer = gd.closest('#notebook-container');\n",
       "if (notebookContainer) {{\n",
       "    x.observe(notebookContainer, {childList: true});\n",
       "}}\n",
       "\n",
       "// Listen for the clearing of the current output cell\n",
       "var outputEl = gd.closest('.output');\n",
       "if (outputEl) {{\n",
       "    x.observe(outputEl, {childList: true});\n",
       "}}\n",
       "\n",
       "                        })                };                });            </script>        </div>"
      ]
     },
     "metadata": {},
     "output_type": "display_data"
    }
   ],
   "source": [
    "\n",
    "fig = px.bar(data_frame=year, \n",
    "             x = year.index, \n",
    "             y = year, \n",
    "             color = year.index,\n",
    "             color_discrete_sequence=[\"#222\", \"#E50914\"],\n",
    "             text_auto= True,\n",
    "             title= \"Show Year Frequency\",\n",
    "             labels = {\n",
    "                    \"y\" : \"Frequency\",\n",
    "                    \"index\" : \"Show Year\"\n",
    "                }\n",
    "            )\n",
    "\n",
    "# Custom Format of numbers\n",
    "fig.update_traces(insidetextfont = {\n",
    "    \"family\": \"consolas\",\n",
    "    \"size\": 15,\n",
    "    \n",
    "})\n",
    "\n",
    "iplot(fig)"
   ]
  },
  {
   "cell_type": "code",
   "execution_count": 41,
   "id": "1e348ec5",
   "metadata": {},
   "outputs": [
    {
     "data": {
      "application/vnd.plotly.v1+json": {
       "config": {
        "linkText": "Export to plot.ly",
        "plotlyServerURL": "https://plot.ly",
        "showLink": false
       },
       "data": [
        {
         "fillpattern": {
          "shape": ""
         },
         "hovertemplate": "Release_year=%{x}<br>y=%{y}<extra></extra>",
         "legendgroup": "",
         "line": {
          "color": "#636efa"
         },
         "marker": {
          "symbol": "circle"
         },
         "mode": "lines",
         "name": "",
         "orientation": "v",
         "showlegend": false,
         "stackgroup": "1",
         "type": "scatter",
         "x": [
          2017,
          2018,
          2016,
          2019,
          2020,
          2014,
          2015,
          2021,
          2013,
          2012,
          2011,
          2010,
          2009,
          2008,
          2006,
          2007,
          2005,
          2004,
          2003,
          2002,
          2001,
          2022,
          1999,
          1998,
          1990,
          2000,
          1993,
          1989,
          1997,
          1992,
          1991,
          1994,
          1996,
          1988,
          1995,
          1987,
          1986,
          1985,
          1983,
          1984,
          1982,
          1981,
          1980,
          1979,
          1978,
          1977,
          1976,
          1975,
          1974,
          1969,
          1970,
          1971,
          1973,
          1972,
          1965,
          1968,
          1967,
          1964,
          1966,
          1958,
          1963,
          1959,
          1960,
          1931,
          1935,
          1962,
          1933,
          1961,
          1956,
          1917,
          1932,
          1934,
          1936,
          1930,
          1929,
          1957,
          1928,
          1942,
          1954,
          1918,
          1955,
          1926,
          1941,
          1927,
          1948,
          1940,
          1925,
          1947,
          1953,
          2023,
          1946,
          1952,
          1939,
          1943,
          1938,
          1950,
          1937,
          1924,
          1951,
          1949,
          1944,
          1945,
          1907
         ],
         "xaxis": "x",
         "y": [
          1010,
          997,
          957,
          903,
          885,
          882,
          878,
          835,
          775,
          774,
          693,
          569,
          536,
          446,
          439,
          422,
          373,
          324,
          292,
          278,
          277,
          241,
          214,
          191,
          188,
          187,
          186,
          184,
          182,
          182,
          179,
          166,
          163,
          162,
          160,
          155,
          144,
          120,
          114,
          109,
          106,
          99,
          97,
          81,
          64,
          52,
          48,
          47,
          42,
          39,
          39,
          39,
          36,
          35,
          34,
          33,
          29,
          29,
          27,
          26,
          24,
          23,
          22,
          21,
          19,
          18,
          15,
          15,
          14,
          13,
          12,
          11,
          10,
          8,
          8,
          7,
          7,
          6,
          6,
          6,
          6,
          5,
          5,
          5,
          4,
          4,
          4,
          4,
          4,
          4,
          3,
          3,
          3,
          3,
          3,
          3,
          2,
          2,
          2,
          1,
          1,
          1,
          1
         ],
         "yaxis": "y"
        }
       ],
       "layout": {
        "legend": {
         "tracegroupgap": 0
        },
        "margin": {
         "t": 60
        },
        "template": {
         "data": {
          "bar": [
           {
            "error_x": {
             "color": "#2a3f5f"
            },
            "error_y": {
             "color": "#2a3f5f"
            },
            "marker": {
             "line": {
              "color": "#E5ECF6",
              "width": 0.5
             },
             "pattern": {
              "fillmode": "overlay",
              "size": 10,
              "solidity": 0.2
             }
            },
            "type": "bar"
           }
          ],
          "barpolar": [
           {
            "marker": {
             "line": {
              "color": "#E5ECF6",
              "width": 0.5
             },
             "pattern": {
              "fillmode": "overlay",
              "size": 10,
              "solidity": 0.2
             }
            },
            "type": "barpolar"
           }
          ],
          "carpet": [
           {
            "aaxis": {
             "endlinecolor": "#2a3f5f",
             "gridcolor": "white",
             "linecolor": "white",
             "minorgridcolor": "white",
             "startlinecolor": "#2a3f5f"
            },
            "baxis": {
             "endlinecolor": "#2a3f5f",
             "gridcolor": "white",
             "linecolor": "white",
             "minorgridcolor": "white",
             "startlinecolor": "#2a3f5f"
            },
            "type": "carpet"
           }
          ],
          "choropleth": [
           {
            "colorbar": {
             "outlinewidth": 0,
             "ticks": ""
            },
            "type": "choropleth"
           }
          ],
          "contour": [
           {
            "colorbar": {
             "outlinewidth": 0,
             "ticks": ""
            },
            "colorscale": [
             [
              0,
              "#0d0887"
             ],
             [
              0.1111111111111111,
              "#46039f"
             ],
             [
              0.2222222222222222,
              "#7201a8"
             ],
             [
              0.3333333333333333,
              "#9c179e"
             ],
             [
              0.4444444444444444,
              "#bd3786"
             ],
             [
              0.5555555555555556,
              "#d8576b"
             ],
             [
              0.6666666666666666,
              "#ed7953"
             ],
             [
              0.7777777777777778,
              "#fb9f3a"
             ],
             [
              0.8888888888888888,
              "#fdca26"
             ],
             [
              1,
              "#f0f921"
             ]
            ],
            "type": "contour"
           }
          ],
          "contourcarpet": [
           {
            "colorbar": {
             "outlinewidth": 0,
             "ticks": ""
            },
            "type": "contourcarpet"
           }
          ],
          "heatmap": [
           {
            "colorbar": {
             "outlinewidth": 0,
             "ticks": ""
            },
            "colorscale": [
             [
              0,
              "#0d0887"
             ],
             [
              0.1111111111111111,
              "#46039f"
             ],
             [
              0.2222222222222222,
              "#7201a8"
             ],
             [
              0.3333333333333333,
              "#9c179e"
             ],
             [
              0.4444444444444444,
              "#bd3786"
             ],
             [
              0.5555555555555556,
              "#d8576b"
             ],
             [
              0.6666666666666666,
              "#ed7953"
             ],
             [
              0.7777777777777778,
              "#fb9f3a"
             ],
             [
              0.8888888888888888,
              "#fdca26"
             ],
             [
              1,
              "#f0f921"
             ]
            ],
            "type": "heatmap"
           }
          ],
          "heatmapgl": [
           {
            "colorbar": {
             "outlinewidth": 0,
             "ticks": ""
            },
            "colorscale": [
             [
              0,
              "#0d0887"
             ],
             [
              0.1111111111111111,
              "#46039f"
             ],
             [
              0.2222222222222222,
              "#7201a8"
             ],
             [
              0.3333333333333333,
              "#9c179e"
             ],
             [
              0.4444444444444444,
              "#bd3786"
             ],
             [
              0.5555555555555556,
              "#d8576b"
             ],
             [
              0.6666666666666666,
              "#ed7953"
             ],
             [
              0.7777777777777778,
              "#fb9f3a"
             ],
             [
              0.8888888888888888,
              "#fdca26"
             ],
             [
              1,
              "#f0f921"
             ]
            ],
            "type": "heatmapgl"
           }
          ],
          "histogram": [
           {
            "marker": {
             "pattern": {
              "fillmode": "overlay",
              "size": 10,
              "solidity": 0.2
             }
            },
            "type": "histogram"
           }
          ],
          "histogram2d": [
           {
            "colorbar": {
             "outlinewidth": 0,
             "ticks": ""
            },
            "colorscale": [
             [
              0,
              "#0d0887"
             ],
             [
              0.1111111111111111,
              "#46039f"
             ],
             [
              0.2222222222222222,
              "#7201a8"
             ],
             [
              0.3333333333333333,
              "#9c179e"
             ],
             [
              0.4444444444444444,
              "#bd3786"
             ],
             [
              0.5555555555555556,
              "#d8576b"
             ],
             [
              0.6666666666666666,
              "#ed7953"
             ],
             [
              0.7777777777777778,
              "#fb9f3a"
             ],
             [
              0.8888888888888888,
              "#fdca26"
             ],
             [
              1,
              "#f0f921"
             ]
            ],
            "type": "histogram2d"
           }
          ],
          "histogram2dcontour": [
           {
            "colorbar": {
             "outlinewidth": 0,
             "ticks": ""
            },
            "colorscale": [
             [
              0,
              "#0d0887"
             ],
             [
              0.1111111111111111,
              "#46039f"
             ],
             [
              0.2222222222222222,
              "#7201a8"
             ],
             [
              0.3333333333333333,
              "#9c179e"
             ],
             [
              0.4444444444444444,
              "#bd3786"
             ],
             [
              0.5555555555555556,
              "#d8576b"
             ],
             [
              0.6666666666666666,
              "#ed7953"
             ],
             [
              0.7777777777777778,
              "#fb9f3a"
             ],
             [
              0.8888888888888888,
              "#fdca26"
             ],
             [
              1,
              "#f0f921"
             ]
            ],
            "type": "histogram2dcontour"
           }
          ],
          "mesh3d": [
           {
            "colorbar": {
             "outlinewidth": 0,
             "ticks": ""
            },
            "type": "mesh3d"
           }
          ],
          "parcoords": [
           {
            "line": {
             "colorbar": {
              "outlinewidth": 0,
              "ticks": ""
             }
            },
            "type": "parcoords"
           }
          ],
          "pie": [
           {
            "automargin": true,
            "type": "pie"
           }
          ],
          "scatter": [
           {
            "fillpattern": {
             "fillmode": "overlay",
             "size": 10,
             "solidity": 0.2
            },
            "type": "scatter"
           }
          ],
          "scatter3d": [
           {
            "line": {
             "colorbar": {
              "outlinewidth": 0,
              "ticks": ""
             }
            },
            "marker": {
             "colorbar": {
              "outlinewidth": 0,
              "ticks": ""
             }
            },
            "type": "scatter3d"
           }
          ],
          "scattercarpet": [
           {
            "marker": {
             "colorbar": {
              "outlinewidth": 0,
              "ticks": ""
             }
            },
            "type": "scattercarpet"
           }
          ],
          "scattergeo": [
           {
            "marker": {
             "colorbar": {
              "outlinewidth": 0,
              "ticks": ""
             }
            },
            "type": "scattergeo"
           }
          ],
          "scattergl": [
           {
            "marker": {
             "colorbar": {
              "outlinewidth": 0,
              "ticks": ""
             }
            },
            "type": "scattergl"
           }
          ],
          "scattermapbox": [
           {
            "marker": {
             "colorbar": {
              "outlinewidth": 0,
              "ticks": ""
             }
            },
            "type": "scattermapbox"
           }
          ],
          "scatterpolar": [
           {
            "marker": {
             "colorbar": {
              "outlinewidth": 0,
              "ticks": ""
             }
            },
            "type": "scatterpolar"
           }
          ],
          "scatterpolargl": [
           {
            "marker": {
             "colorbar": {
              "outlinewidth": 0,
              "ticks": ""
             }
            },
            "type": "scatterpolargl"
           }
          ],
          "scatterternary": [
           {
            "marker": {
             "colorbar": {
              "outlinewidth": 0,
              "ticks": ""
             }
            },
            "type": "scatterternary"
           }
          ],
          "surface": [
           {
            "colorbar": {
             "outlinewidth": 0,
             "ticks": ""
            },
            "colorscale": [
             [
              0,
              "#0d0887"
             ],
             [
              0.1111111111111111,
              "#46039f"
             ],
             [
              0.2222222222222222,
              "#7201a8"
             ],
             [
              0.3333333333333333,
              "#9c179e"
             ],
             [
              0.4444444444444444,
              "#bd3786"
             ],
             [
              0.5555555555555556,
              "#d8576b"
             ],
             [
              0.6666666666666666,
              "#ed7953"
             ],
             [
              0.7777777777777778,
              "#fb9f3a"
             ],
             [
              0.8888888888888888,
              "#fdca26"
             ],
             [
              1,
              "#f0f921"
             ]
            ],
            "type": "surface"
           }
          ],
          "table": [
           {
            "cells": {
             "fill": {
              "color": "#EBF0F8"
             },
             "line": {
              "color": "white"
             }
            },
            "header": {
             "fill": {
              "color": "#C8D4E3"
             },
             "line": {
              "color": "white"
             }
            },
            "type": "table"
           }
          ]
         },
         "layout": {
          "annotationdefaults": {
           "arrowcolor": "#2a3f5f",
           "arrowhead": 0,
           "arrowwidth": 1
          },
          "autotypenumbers": "strict",
          "coloraxis": {
           "colorbar": {
            "outlinewidth": 0,
            "ticks": ""
           }
          },
          "colorscale": {
           "diverging": [
            [
             0,
             "#8e0152"
            ],
            [
             0.1,
             "#c51b7d"
            ],
            [
             0.2,
             "#de77ae"
            ],
            [
             0.3,
             "#f1b6da"
            ],
            [
             0.4,
             "#fde0ef"
            ],
            [
             0.5,
             "#f7f7f7"
            ],
            [
             0.6,
             "#e6f5d0"
            ],
            [
             0.7,
             "#b8e186"
            ],
            [
             0.8,
             "#7fbc41"
            ],
            [
             0.9,
             "#4d9221"
            ],
            [
             1,
             "#276419"
            ]
           ],
           "sequential": [
            [
             0,
             "#0d0887"
            ],
            [
             0.1111111111111111,
             "#46039f"
            ],
            [
             0.2222222222222222,
             "#7201a8"
            ],
            [
             0.3333333333333333,
             "#9c179e"
            ],
            [
             0.4444444444444444,
             "#bd3786"
            ],
            [
             0.5555555555555556,
             "#d8576b"
            ],
            [
             0.6666666666666666,
             "#ed7953"
            ],
            [
             0.7777777777777778,
             "#fb9f3a"
            ],
            [
             0.8888888888888888,
             "#fdca26"
            ],
            [
             1,
             "#f0f921"
            ]
           ],
           "sequentialminus": [
            [
             0,
             "#0d0887"
            ],
            [
             0.1111111111111111,
             "#46039f"
            ],
            [
             0.2222222222222222,
             "#7201a8"
            ],
            [
             0.3333333333333333,
             "#9c179e"
            ],
            [
             0.4444444444444444,
             "#bd3786"
            ],
            [
             0.5555555555555556,
             "#d8576b"
            ],
            [
             0.6666666666666666,
             "#ed7953"
            ],
            [
             0.7777777777777778,
             "#fb9f3a"
            ],
            [
             0.8888888888888888,
             "#fdca26"
            ],
            [
             1,
             "#f0f921"
            ]
           ]
          },
          "colorway": [
           "#636efa",
           "#EF553B",
           "#00cc96",
           "#ab63fa",
           "#FFA15A",
           "#19d3f3",
           "#FF6692",
           "#B6E880",
           "#FF97FF",
           "#FECB52"
          ],
          "font": {
           "color": "#2a3f5f"
          },
          "geo": {
           "bgcolor": "white",
           "lakecolor": "white",
           "landcolor": "#E5ECF6",
           "showlakes": true,
           "showland": true,
           "subunitcolor": "white"
          },
          "hoverlabel": {
           "align": "left"
          },
          "hovermode": "closest",
          "mapbox": {
           "style": "light"
          },
          "paper_bgcolor": "white",
          "plot_bgcolor": "#E5ECF6",
          "polar": {
           "angularaxis": {
            "gridcolor": "white",
            "linecolor": "white",
            "ticks": ""
           },
           "bgcolor": "#E5ECF6",
           "radialaxis": {
            "gridcolor": "white",
            "linecolor": "white",
            "ticks": ""
           }
          },
          "scene": {
           "xaxis": {
            "backgroundcolor": "#E5ECF6",
            "gridcolor": "white",
            "gridwidth": 2,
            "linecolor": "white",
            "showbackground": true,
            "ticks": "",
            "zerolinecolor": "white"
           },
           "yaxis": {
            "backgroundcolor": "#E5ECF6",
            "gridcolor": "white",
            "gridwidth": 2,
            "linecolor": "white",
            "showbackground": true,
            "ticks": "",
            "zerolinecolor": "white"
           },
           "zaxis": {
            "backgroundcolor": "#E5ECF6",
            "gridcolor": "white",
            "gridwidth": 2,
            "linecolor": "white",
            "showbackground": true,
            "ticks": "",
            "zerolinecolor": "white"
           }
          },
          "shapedefaults": {
           "line": {
            "color": "#2a3f5f"
           }
          },
          "ternary": {
           "aaxis": {
            "gridcolor": "white",
            "linecolor": "white",
            "ticks": ""
           },
           "baxis": {
            "gridcolor": "white",
            "linecolor": "white",
            "ticks": ""
           },
           "bgcolor": "#E5ECF6",
           "caxis": {
            "gridcolor": "white",
            "linecolor": "white",
            "ticks": ""
           }
          },
          "title": {
           "x": 0.05
          },
          "xaxis": {
           "automargin": true,
           "gridcolor": "white",
           "linecolor": "white",
           "ticks": "",
           "title": {
            "standoff": 15
           },
           "zerolinecolor": "white",
           "zerolinewidth": 2
          },
          "yaxis": {
           "automargin": true,
           "gridcolor": "white",
           "linecolor": "white",
           "ticks": "",
           "title": {
            "standoff": 15
           },
           "zerolinecolor": "white",
           "zerolinewidth": 2
          }
         }
        },
        "xaxis": {
         "anchor": "y",
         "domain": [
          0,
          1
         ],
         "title": {
          "text": "Release_year"
         }
        },
        "yaxis": {
         "anchor": "x",
         "domain": [
          0,
          1
         ],
         "title": {
          "text": "y"
         }
        }
       }
      },
      "text/html": [
       "<div>                            <div id=\"24366f87-6073-4f92-974a-a6123a67d7f4\" class=\"plotly-graph-div\" style=\"height:525px; width:100%;\"></div>            <script type=\"text/javascript\">                require([\"plotly\"], function(Plotly) {                    window.PLOTLYENV=window.PLOTLYENV || {};                                    if (document.getElementById(\"24366f87-6073-4f92-974a-a6123a67d7f4\")) {                    Plotly.newPlot(                        \"24366f87-6073-4f92-974a-a6123a67d7f4\",                        [{\"fillpattern\":{\"shape\":\"\"},\"hovertemplate\":\"Release_year=%{x}<br>y=%{y}<extra></extra>\",\"legendgroup\":\"\",\"line\":{\"color\":\"#636efa\"},\"marker\":{\"symbol\":\"circle\"},\"mode\":\"lines\",\"name\":\"\",\"orientation\":\"v\",\"showlegend\":false,\"stackgroup\":\"1\",\"x\":[2017.0,2018.0,2016.0,2019.0,2020.0,2014.0,2015.0,2021.0,2013.0,2012.0,2011.0,2010.0,2009.0,2008.0,2006.0,2007.0,2005.0,2004.0,2003.0,2002.0,2001.0,2022.0,1999.0,1998.0,1990.0,2000.0,1993.0,1989.0,1997.0,1992.0,1991.0,1994.0,1996.0,1988.0,1995.0,1987.0,1986.0,1985.0,1983.0,1984.0,1982.0,1981.0,1980.0,1979.0,1978.0,1977.0,1976.0,1975.0,1974.0,1969.0,1970.0,1971.0,1973.0,1972.0,1965.0,1968.0,1967.0,1964.0,1966.0,1958.0,1963.0,1959.0,1960.0,1931.0,1935.0,1962.0,1933.0,1961.0,1956.0,1917.0,1932.0,1934.0,1936.0,1930.0,1929.0,1957.0,1928.0,1942.0,1954.0,1918.0,1955.0,1926.0,1941.0,1927.0,1948.0,1940.0,1925.0,1947.0,1953.0,2023.0,1946.0,1952.0,1939.0,1943.0,1938.0,1950.0,1937.0,1924.0,1951.0,1949.0,1944.0,1945.0,1907.0],\"xaxis\":\"x\",\"y\":[1010,997,957,903,885,882,878,835,775,774,693,569,536,446,439,422,373,324,292,278,277,241,214,191,188,187,186,184,182,182,179,166,163,162,160,155,144,120,114,109,106,99,97,81,64,52,48,47,42,39,39,39,36,35,34,33,29,29,27,26,24,23,22,21,19,18,15,15,14,13,12,11,10,8,8,7,7,6,6,6,6,5,5,5,4,4,4,4,4,4,3,3,3,3,3,3,2,2,2,1,1,1,1],\"yaxis\":\"y\",\"type\":\"scatter\"}],                        {\"legend\":{\"tracegroupgap\":0},\"margin\":{\"t\":60},\"template\":{\"data\":{\"barpolar\":[{\"marker\":{\"line\":{\"color\":\"#E5ECF6\",\"width\":0.5},\"pattern\":{\"fillmode\":\"overlay\",\"size\":10,\"solidity\":0.2}},\"type\":\"barpolar\"}],\"bar\":[{\"error_x\":{\"color\":\"#2a3f5f\"},\"error_y\":{\"color\":\"#2a3f5f\"},\"marker\":{\"line\":{\"color\":\"#E5ECF6\",\"width\":0.5},\"pattern\":{\"fillmode\":\"overlay\",\"size\":10,\"solidity\":0.2}},\"type\":\"bar\"}],\"carpet\":[{\"aaxis\":{\"endlinecolor\":\"#2a3f5f\",\"gridcolor\":\"white\",\"linecolor\":\"white\",\"minorgridcolor\":\"white\",\"startlinecolor\":\"#2a3f5f\"},\"baxis\":{\"endlinecolor\":\"#2a3f5f\",\"gridcolor\":\"white\",\"linecolor\":\"white\",\"minorgridcolor\":\"white\",\"startlinecolor\":\"#2a3f5f\"},\"type\":\"carpet\"}],\"choropleth\":[{\"colorbar\":{\"outlinewidth\":0,\"ticks\":\"\"},\"type\":\"choropleth\"}],\"contourcarpet\":[{\"colorbar\":{\"outlinewidth\":0,\"ticks\":\"\"},\"type\":\"contourcarpet\"}],\"contour\":[{\"colorbar\":{\"outlinewidth\":0,\"ticks\":\"\"},\"colorscale\":[[0.0,\"#0d0887\"],[0.1111111111111111,\"#46039f\"],[0.2222222222222222,\"#7201a8\"],[0.3333333333333333,\"#9c179e\"],[0.4444444444444444,\"#bd3786\"],[0.5555555555555556,\"#d8576b\"],[0.6666666666666666,\"#ed7953\"],[0.7777777777777778,\"#fb9f3a\"],[0.8888888888888888,\"#fdca26\"],[1.0,\"#f0f921\"]],\"type\":\"contour\"}],\"heatmapgl\":[{\"colorbar\":{\"outlinewidth\":0,\"ticks\":\"\"},\"colorscale\":[[0.0,\"#0d0887\"],[0.1111111111111111,\"#46039f\"],[0.2222222222222222,\"#7201a8\"],[0.3333333333333333,\"#9c179e\"],[0.4444444444444444,\"#bd3786\"],[0.5555555555555556,\"#d8576b\"],[0.6666666666666666,\"#ed7953\"],[0.7777777777777778,\"#fb9f3a\"],[0.8888888888888888,\"#fdca26\"],[1.0,\"#f0f921\"]],\"type\":\"heatmapgl\"}],\"heatmap\":[{\"colorbar\":{\"outlinewidth\":0,\"ticks\":\"\"},\"colorscale\":[[0.0,\"#0d0887\"],[0.1111111111111111,\"#46039f\"],[0.2222222222222222,\"#7201a8\"],[0.3333333333333333,\"#9c179e\"],[0.4444444444444444,\"#bd3786\"],[0.5555555555555556,\"#d8576b\"],[0.6666666666666666,\"#ed7953\"],[0.7777777777777778,\"#fb9f3a\"],[0.8888888888888888,\"#fdca26\"],[1.0,\"#f0f921\"]],\"type\":\"heatmap\"}],\"histogram2dcontour\":[{\"colorbar\":{\"outlinewidth\":0,\"ticks\":\"\"},\"colorscale\":[[0.0,\"#0d0887\"],[0.1111111111111111,\"#46039f\"],[0.2222222222222222,\"#7201a8\"],[0.3333333333333333,\"#9c179e\"],[0.4444444444444444,\"#bd3786\"],[0.5555555555555556,\"#d8576b\"],[0.6666666666666666,\"#ed7953\"],[0.7777777777777778,\"#fb9f3a\"],[0.8888888888888888,\"#fdca26\"],[1.0,\"#f0f921\"]],\"type\":\"histogram2dcontour\"}],\"histogram2d\":[{\"colorbar\":{\"outlinewidth\":0,\"ticks\":\"\"},\"colorscale\":[[0.0,\"#0d0887\"],[0.1111111111111111,\"#46039f\"],[0.2222222222222222,\"#7201a8\"],[0.3333333333333333,\"#9c179e\"],[0.4444444444444444,\"#bd3786\"],[0.5555555555555556,\"#d8576b\"],[0.6666666666666666,\"#ed7953\"],[0.7777777777777778,\"#fb9f3a\"],[0.8888888888888888,\"#fdca26\"],[1.0,\"#f0f921\"]],\"type\":\"histogram2d\"}],\"histogram\":[{\"marker\":{\"pattern\":{\"fillmode\":\"overlay\",\"size\":10,\"solidity\":0.2}},\"type\":\"histogram\"}],\"mesh3d\":[{\"colorbar\":{\"outlinewidth\":0,\"ticks\":\"\"},\"type\":\"mesh3d\"}],\"parcoords\":[{\"line\":{\"colorbar\":{\"outlinewidth\":0,\"ticks\":\"\"}},\"type\":\"parcoords\"}],\"pie\":[{\"automargin\":true,\"type\":\"pie\"}],\"scatter3d\":[{\"line\":{\"colorbar\":{\"outlinewidth\":0,\"ticks\":\"\"}},\"marker\":{\"colorbar\":{\"outlinewidth\":0,\"ticks\":\"\"}},\"type\":\"scatter3d\"}],\"scattercarpet\":[{\"marker\":{\"colorbar\":{\"outlinewidth\":0,\"ticks\":\"\"}},\"type\":\"scattercarpet\"}],\"scattergeo\":[{\"marker\":{\"colorbar\":{\"outlinewidth\":0,\"ticks\":\"\"}},\"type\":\"scattergeo\"}],\"scattergl\":[{\"marker\":{\"colorbar\":{\"outlinewidth\":0,\"ticks\":\"\"}},\"type\":\"scattergl\"}],\"scattermapbox\":[{\"marker\":{\"colorbar\":{\"outlinewidth\":0,\"ticks\":\"\"}},\"type\":\"scattermapbox\"}],\"scatterpolargl\":[{\"marker\":{\"colorbar\":{\"outlinewidth\":0,\"ticks\":\"\"}},\"type\":\"scatterpolargl\"}],\"scatterpolar\":[{\"marker\":{\"colorbar\":{\"outlinewidth\":0,\"ticks\":\"\"}},\"type\":\"scatterpolar\"}],\"scatter\":[{\"fillpattern\":{\"fillmode\":\"overlay\",\"size\":10,\"solidity\":0.2},\"type\":\"scatter\"}],\"scatterternary\":[{\"marker\":{\"colorbar\":{\"outlinewidth\":0,\"ticks\":\"\"}},\"type\":\"scatterternary\"}],\"surface\":[{\"colorbar\":{\"outlinewidth\":0,\"ticks\":\"\"},\"colorscale\":[[0.0,\"#0d0887\"],[0.1111111111111111,\"#46039f\"],[0.2222222222222222,\"#7201a8\"],[0.3333333333333333,\"#9c179e\"],[0.4444444444444444,\"#bd3786\"],[0.5555555555555556,\"#d8576b\"],[0.6666666666666666,\"#ed7953\"],[0.7777777777777778,\"#fb9f3a\"],[0.8888888888888888,\"#fdca26\"],[1.0,\"#f0f921\"]],\"type\":\"surface\"}],\"table\":[{\"cells\":{\"fill\":{\"color\":\"#EBF0F8\"},\"line\":{\"color\":\"white\"}},\"header\":{\"fill\":{\"color\":\"#C8D4E3\"},\"line\":{\"color\":\"white\"}},\"type\":\"table\"}]},\"layout\":{\"annotationdefaults\":{\"arrowcolor\":\"#2a3f5f\",\"arrowhead\":0,\"arrowwidth\":1},\"autotypenumbers\":\"strict\",\"coloraxis\":{\"colorbar\":{\"outlinewidth\":0,\"ticks\":\"\"}},\"colorscale\":{\"diverging\":[[0,\"#8e0152\"],[0.1,\"#c51b7d\"],[0.2,\"#de77ae\"],[0.3,\"#f1b6da\"],[0.4,\"#fde0ef\"],[0.5,\"#f7f7f7\"],[0.6,\"#e6f5d0\"],[0.7,\"#b8e186\"],[0.8,\"#7fbc41\"],[0.9,\"#4d9221\"],[1,\"#276419\"]],\"sequential\":[[0.0,\"#0d0887\"],[0.1111111111111111,\"#46039f\"],[0.2222222222222222,\"#7201a8\"],[0.3333333333333333,\"#9c179e\"],[0.4444444444444444,\"#bd3786\"],[0.5555555555555556,\"#d8576b\"],[0.6666666666666666,\"#ed7953\"],[0.7777777777777778,\"#fb9f3a\"],[0.8888888888888888,\"#fdca26\"],[1.0,\"#f0f921\"]],\"sequentialminus\":[[0.0,\"#0d0887\"],[0.1111111111111111,\"#46039f\"],[0.2222222222222222,\"#7201a8\"],[0.3333333333333333,\"#9c179e\"],[0.4444444444444444,\"#bd3786\"],[0.5555555555555556,\"#d8576b\"],[0.6666666666666666,\"#ed7953\"],[0.7777777777777778,\"#fb9f3a\"],[0.8888888888888888,\"#fdca26\"],[1.0,\"#f0f921\"]]},\"colorway\":[\"#636efa\",\"#EF553B\",\"#00cc96\",\"#ab63fa\",\"#FFA15A\",\"#19d3f3\",\"#FF6692\",\"#B6E880\",\"#FF97FF\",\"#FECB52\"],\"font\":{\"color\":\"#2a3f5f\"},\"geo\":{\"bgcolor\":\"white\",\"lakecolor\":\"white\",\"landcolor\":\"#E5ECF6\",\"showlakes\":true,\"showland\":true,\"subunitcolor\":\"white\"},\"hoverlabel\":{\"align\":\"left\"},\"hovermode\":\"closest\",\"mapbox\":{\"style\":\"light\"},\"paper_bgcolor\":\"white\",\"plot_bgcolor\":\"#E5ECF6\",\"polar\":{\"angularaxis\":{\"gridcolor\":\"white\",\"linecolor\":\"white\",\"ticks\":\"\"},\"bgcolor\":\"#E5ECF6\",\"radialaxis\":{\"gridcolor\":\"white\",\"linecolor\":\"white\",\"ticks\":\"\"}},\"scene\":{\"xaxis\":{\"backgroundcolor\":\"#E5ECF6\",\"gridcolor\":\"white\",\"gridwidth\":2,\"linecolor\":\"white\",\"showbackground\":true,\"ticks\":\"\",\"zerolinecolor\":\"white\"},\"yaxis\":{\"backgroundcolor\":\"#E5ECF6\",\"gridcolor\":\"white\",\"gridwidth\":2,\"linecolor\":\"white\",\"showbackground\":true,\"ticks\":\"\",\"zerolinecolor\":\"white\"},\"zaxis\":{\"backgroundcolor\":\"#E5ECF6\",\"gridcolor\":\"white\",\"gridwidth\":2,\"linecolor\":\"white\",\"showbackground\":true,\"ticks\":\"\",\"zerolinecolor\":\"white\"}},\"shapedefaults\":{\"line\":{\"color\":\"#2a3f5f\"}},\"ternary\":{\"aaxis\":{\"gridcolor\":\"white\",\"linecolor\":\"white\",\"ticks\":\"\"},\"baxis\":{\"gridcolor\":\"white\",\"linecolor\":\"white\",\"ticks\":\"\"},\"bgcolor\":\"#E5ECF6\",\"caxis\":{\"gridcolor\":\"white\",\"linecolor\":\"white\",\"ticks\":\"\"}},\"title\":{\"x\":0.05},\"xaxis\":{\"automargin\":true,\"gridcolor\":\"white\",\"linecolor\":\"white\",\"ticks\":\"\",\"title\":{\"standoff\":15},\"zerolinecolor\":\"white\",\"zerolinewidth\":2},\"yaxis\":{\"automargin\":true,\"gridcolor\":\"white\",\"linecolor\":\"white\",\"ticks\":\"\",\"title\":{\"standoff\":15},\"zerolinecolor\":\"white\",\"zerolinewidth\":2}}},\"xaxis\":{\"anchor\":\"y\",\"domain\":[0.0,1.0],\"title\":{\"text\":\"Release_year\"}},\"yaxis\":{\"anchor\":\"x\",\"domain\":[0.0,1.0],\"title\":{\"text\":\"y\"}}},                        {\"responsive\": true}                    ).then(function(){\n",
       "                            \n",
       "var gd = document.getElementById('24366f87-6073-4f92-974a-a6123a67d7f4');\n",
       "var x = new MutationObserver(function (mutations, observer) {{\n",
       "        var display = window.getComputedStyle(gd).display;\n",
       "        if (!display || display === 'none') {{\n",
       "            console.log([gd, 'removed!']);\n",
       "            Plotly.purge(gd);\n",
       "            observer.disconnect();\n",
       "        }}\n",
       "}});\n",
       "\n",
       "// Listen for the removal of the full notebook cells\n",
       "var notebookContainer = gd.closest('#notebook-container');\n",
       "if (notebookContainer) {{\n",
       "    x.observe(notebookContainer, {childList: true});\n",
       "}}\n",
       "\n",
       "// Listen for the clearing of the current output cell\n",
       "var outputEl = gd.closest('.output');\n",
       "if (outputEl) {{\n",
       "    x.observe(outputEl, {childList: true});\n",
       "}}\n",
       "\n",
       "                        })                };                });            </script>        </div>"
      ]
     },
     "metadata": {},
     "output_type": "display_data"
    }
   ],
   "source": [
    "fig = px.area(year, x = year.index, y = year)\n",
    "\n",
    "iplot(fig)"
   ]
  },
  {
   "cell_type": "code",
   "execution_count": 35,
   "id": "034fdd4e",
   "metadata": {},
   "outputs": [
    {
     "data": {
      "text/plain": [
       "dtype('float64')"
      ]
     },
     "execution_count": 35,
     "metadata": {},
     "output_type": "execute_result"
    }
   ],
   "source": [
    "df['Release_year'].dtype"
   ]
  },
  {
   "cell_type": "code",
   "execution_count": 37,
   "id": "f683ffcb",
   "metadata": {},
   "outputs": [
    {
     "name": "stdout",
     "output_type": "stream",
     "text": [
      "Oldest Added Year: 1907.0\n",
      "Newest Added Year: 2023.0\n"
     ]
    }
   ],
   "source": [
    "print(f\"Oldest Added Year: {df['Release_year'].min()}\")\n",
    "print(f\"Newest Added Year: {df['Release_year'].max()}\")"
   ]
  },
  {
   "cell_type": "code",
   "execution_count": 42,
   "id": "ea2719d1",
   "metadata": {},
   "outputs": [
    {
     "data": {
      "text/html": [
       "<div>\n",
       "<style scoped>\n",
       "    .dataframe tbody tr th:only-of-type {\n",
       "        vertical-align: middle;\n",
       "    }\n",
       "\n",
       "    .dataframe tbody tr th {\n",
       "        vertical-align: top;\n",
       "    }\n",
       "\n",
       "    .dataframe thead th {\n",
       "        text-align: right;\n",
       "    }\n",
       "</style>\n",
       "<table border=\"1\" class=\"dataframe\">\n",
       "  <thead>\n",
       "    <tr style=\"text-align: right;\">\n",
       "      <th></th>\n",
       "      <th>Rank</th>\n",
       "      <th>Name</th>\n",
       "      <th>Japanese_name</th>\n",
       "      <th>Type</th>\n",
       "      <th>Episodes</th>\n",
       "      <th>Studio</th>\n",
       "      <th>Release_season</th>\n",
       "      <th>Tags</th>\n",
       "      <th>Rating</th>\n",
       "      <th>Release_year</th>\n",
       "      <th>End_year</th>\n",
       "      <th>Description</th>\n",
       "      <th>Content_Warning</th>\n",
       "      <th>Related_Mange</th>\n",
       "      <th>Related_anime</th>\n",
       "      <th>Voice_actors</th>\n",
       "      <th>staff</th>\n",
       "    </tr>\n",
       "  </thead>\n",
       "  <tbody>\n",
       "    <tr>\n",
       "      <th>0</th>\n",
       "      <td>1</td>\n",
       "      <td>Demon Slayer: Kimetsu no Yaiba - Entertainment...</td>\n",
       "      <td>Kimetsu no Yaiba: Yuukaku-hen</td>\n",
       "      <td>TV</td>\n",
       "      <td>NaN</td>\n",
       "      <td>ufotable</td>\n",
       "      <td>Fall</td>\n",
       "      <td>Action, Adventure, Fantasy, Shounen, Demons, H...</td>\n",
       "      <td>4.60</td>\n",
       "      <td>2021.0</td>\n",
       "      <td>NaN</td>\n",
       "      <td>'Tanjiro and his friends accompany the Hashira...</td>\n",
       "      <td>Explicit Violence</td>\n",
       "      <td>Demon Slayer: Kimetsu no Yaiba</td>\n",
       "      <td>Demon Slayer: Kimetsu no Yaiba, Demon Slayer: ...</td>\n",
       "      <td>Inosuke Hashibira : Yoshitsugu Matsuoka, Nezuk...</td>\n",
       "      <td>Koyoharu Gotouge : Original Creator, Haruo Sot...</td>\n",
       "    </tr>\n",
       "    <tr>\n",
       "      <th>1</th>\n",
       "      <td>2</td>\n",
       "      <td>Fruits Basket the Final Season</td>\n",
       "      <td>Fruits Basket the Final</td>\n",
       "      <td>TV</td>\n",
       "      <td>13.0</td>\n",
       "      <td>TMS Entertainment</td>\n",
       "      <td>Spring</td>\n",
       "      <td>Drama, Fantasy, Romance, Shoujo, Animal Transf...</td>\n",
       "      <td>4.60</td>\n",
       "      <td>2021.0</td>\n",
       "      <td>NaN</td>\n",
       "      <td>'The final arc of Fruits Basket.'</td>\n",
       "      <td>Emotional Abuse,, Mature Themes,, Physical Abu...</td>\n",
       "      <td>Fruits Basket, Fruits Basket Another</td>\n",
       "      <td>Fruits Basket 1st Season, Fruits Basket 2nd Se...</td>\n",
       "      <td>Akito Sohma : Maaya Sakamoto, Kyo Sohma : Yuum...</td>\n",
       "      <td>Natsuki Takaya : Original Creator, Yoshihide I...</td>\n",
       "    </tr>\n",
       "    <tr>\n",
       "      <th>2</th>\n",
       "      <td>3</td>\n",
       "      <td>Mo Dao Zu Shi 3</td>\n",
       "      <td>The Founder of Diabolism 3</td>\n",
       "      <td>Web</td>\n",
       "      <td>12.0</td>\n",
       "      <td>B.C MAY PICTURES</td>\n",
       "      <td>NaN</td>\n",
       "      <td>Fantasy, Ancient China, Chinese Animation, Cul...</td>\n",
       "      <td>4.58</td>\n",
       "      <td>2021.0</td>\n",
       "      <td>NaN</td>\n",
       "      <td>'The third season of Mo Dao Zu Shi.'</td>\n",
       "      <td>NaN</td>\n",
       "      <td>Grandmaster of Demonic Cultivation: Mo Dao Zu ...</td>\n",
       "      <td>Mo Dao Zu Shi 2, Mo Dao Zu Shi Q</td>\n",
       "      <td>Lan Wangji, Wei Wuxian, Jiang Cheng, Jin Guang...</td>\n",
       "      <td>Mo Xiang Tong Xiu : Original Creator, Xiong Ke...</td>\n",
       "    </tr>\n",
       "    <tr>\n",
       "      <th>3</th>\n",
       "      <td>4</td>\n",
       "      <td>Fullmetal Alchemist: Brotherhood</td>\n",
       "      <td>Hagane no Renkinjutsushi: Full Metal Alchemist</td>\n",
       "      <td>TV</td>\n",
       "      <td>64.0</td>\n",
       "      <td>Bones</td>\n",
       "      <td>Spring</td>\n",
       "      <td>Action, Adventure, Drama, Fantasy, Mystery, Sh...</td>\n",
       "      <td>4.58</td>\n",
       "      <td>2009.0</td>\n",
       "      <td>2010.0</td>\n",
       "      <td>\"The foundation of alchemy is based on the law...</td>\n",
       "      <td>Animal Abuse,, Mature Themes,, Violence,, Dome...</td>\n",
       "      <td>Fullmetal Alchemist, Fullmetal Alchemist (Ligh...</td>\n",
       "      <td>Fullmetal Alchemist: Brotherhood Specials, Ful...</td>\n",
       "      <td>Alphonse Elric : Rie Kugimiya, Edward Elric : ...</td>\n",
       "      <td>Hiromu Arakawa : Original Creator, Yasuhiro Ir...</td>\n",
       "    </tr>\n",
       "    <tr>\n",
       "      <th>4</th>\n",
       "      <td>5</td>\n",
       "      <td>Attack on Titan 3rd Season: Part II</td>\n",
       "      <td>Shingeki no Kyojin Season 3: Part II</td>\n",
       "      <td>TV</td>\n",
       "      <td>10.0</td>\n",
       "      <td>WIT Studio</td>\n",
       "      <td>Spring</td>\n",
       "      <td>Action, Fantasy, Horror, Shounen, Dark Fantasy...</td>\n",
       "      <td>4.57</td>\n",
       "      <td>2019.0</td>\n",
       "      <td>NaN</td>\n",
       "      <td>'The battle to retake Wall Maria begins now! W...</td>\n",
       "      <td>Cannibalism,, Explicit Violence</td>\n",
       "      <td>Attack on Titan, Attack on Titan: End of the W...</td>\n",
       "      <td>Attack on Titan, Attack on Titan 2nd Season, A...</td>\n",
       "      <td>Armin Arlelt : Marina Inoue, Eren Jaeger : Yuu...</td>\n",
       "      <td>Hajime Isayama : Original Creator, Tetsurou Ar...</td>\n",
       "    </tr>\n",
       "    <tr>\n",
       "      <th>...</th>\n",
       "      <td>...</td>\n",
       "      <td>...</td>\n",
       "      <td>...</td>\n",
       "      <td>...</td>\n",
       "      <td>...</td>\n",
       "      <td>...</td>\n",
       "      <td>...</td>\n",
       "      <td>...</td>\n",
       "      <td>...</td>\n",
       "      <td>...</td>\n",
       "      <td>...</td>\n",
       "      <td>...</td>\n",
       "      <td>...</td>\n",
       "      <td>...</td>\n",
       "      <td>...</td>\n",
       "      <td>...</td>\n",
       "      <td>...</td>\n",
       "    </tr>\n",
       "    <tr>\n",
       "      <th>18490</th>\n",
       "      <td>18491</td>\n",
       "      <td>Qin Shi Mingyue: Canghai Hengliu Xiaomeng Spec...</td>\n",
       "      <td>NaN</td>\n",
       "      <td>Web</td>\n",
       "      <td>2.0</td>\n",
       "      <td>Sparkly Key Animation Studio</td>\n",
       "      <td>NaN</td>\n",
       "      <td>Action, Ancient China, Chinese Animation, Hist...</td>\n",
       "      <td>NaN</td>\n",
       "      <td>2020.0</td>\n",
       "      <td>NaN</td>\n",
       "      <td>Special episodes of Qin Shi Mingyue: Canghai H...</td>\n",
       "      <td>NaN</td>\n",
       "      <td>NaN</td>\n",
       "      <td>Qin Shi Mingyue: Canghai Hengliu</td>\n",
       "      <td>NaN</td>\n",
       "      <td>NaN</td>\n",
       "    </tr>\n",
       "    <tr>\n",
       "      <th>18491</th>\n",
       "      <td>18492</td>\n",
       "      <td>Yi Tang Juchang: Sanguo Yanyi</td>\n",
       "      <td>NaN</td>\n",
       "      <td>TV</td>\n",
       "      <td>108.0</td>\n",
       "      <td>NaN</td>\n",
       "      <td>NaN</td>\n",
       "      <td>Chinese Animation</td>\n",
       "      <td>NaN</td>\n",
       "      <td>2010.0</td>\n",
       "      <td>NaN</td>\n",
       "      <td>No synopsis yet - check back soon!</td>\n",
       "      <td>NaN</td>\n",
       "      <td>NaN</td>\n",
       "      <td>NaN</td>\n",
       "      <td>NaN</td>\n",
       "      <td>NaN</td>\n",
       "    </tr>\n",
       "    <tr>\n",
       "      <th>18492</th>\n",
       "      <td>18493</td>\n",
       "      <td>Fenghuang Ji Xiang Yu Qingming Shanghe Tu</td>\n",
       "      <td>NaN</td>\n",
       "      <td>TV</td>\n",
       "      <td>13.0</td>\n",
       "      <td>NaN</td>\n",
       "      <td>NaN</td>\n",
       "      <td>Chinese Animation, Family Friendly, Short Epis...</td>\n",
       "      <td>NaN</td>\n",
       "      <td>2020.0</td>\n",
       "      <td>NaN</td>\n",
       "      <td>No synopsis yet - check back soon!</td>\n",
       "      <td>NaN</td>\n",
       "      <td>NaN</td>\n",
       "      <td>NaN</td>\n",
       "      <td>NaN</td>\n",
       "      <td>NaN</td>\n",
       "    </tr>\n",
       "    <tr>\n",
       "      <th>18493</th>\n",
       "      <td>18494</td>\n",
       "      <td>Chengshi Jiyi Wo Men de Jieri</td>\n",
       "      <td>NaN</td>\n",
       "      <td>TV</td>\n",
       "      <td>NaN</td>\n",
       "      <td>NaN</td>\n",
       "      <td>NaN</td>\n",
       "      <td>Chinese Animation, Family Friendly, Short Epis...</td>\n",
       "      <td>NaN</td>\n",
       "      <td>2020.0</td>\n",
       "      <td>NaN</td>\n",
       "      <td>No synopsis yet - check back soon!</td>\n",
       "      <td>NaN</td>\n",
       "      <td>NaN</td>\n",
       "      <td>NaN</td>\n",
       "      <td>NaN</td>\n",
       "      <td>NaN</td>\n",
       "    </tr>\n",
       "    <tr>\n",
       "      <th>18494</th>\n",
       "      <td>18495</td>\n",
       "      <td>Heisei Inu Monogatari Bow: Genshi Inu Monogata...</td>\n",
       "      <td>NaN</td>\n",
       "      <td>Movie</td>\n",
       "      <td>NaN</td>\n",
       "      <td>Nippon Animation</td>\n",
       "      <td>NaN</td>\n",
       "      <td>Comedy, Slice of Life, Dogs</td>\n",
       "      <td>NaN</td>\n",
       "      <td>1994.0</td>\n",
       "      <td>NaN</td>\n",
       "      <td>No synopsis yet - check back soon!</td>\n",
       "      <td>NaN</td>\n",
       "      <td>NaN</td>\n",
       "      <td>Heisei Inu Monogatari Bow</td>\n",
       "      <td>NaN</td>\n",
       "      <td>NaN</td>\n",
       "    </tr>\n",
       "  </tbody>\n",
       "</table>\n",
       "<p>18495 rows × 17 columns</p>\n",
       "</div>"
      ],
      "text/plain": [
       "        Rank                                               Name  \\\n",
       "0          1  Demon Slayer: Kimetsu no Yaiba - Entertainment...   \n",
       "1          2                     Fruits Basket the Final Season   \n",
       "2          3                                    Mo Dao Zu Shi 3   \n",
       "3          4                   Fullmetal Alchemist: Brotherhood   \n",
       "4          5                Attack on Titan 3rd Season: Part II   \n",
       "...      ...                                                ...   \n",
       "18490  18491  Qin Shi Mingyue: Canghai Hengliu Xiaomeng Spec...   \n",
       "18491  18492                      Yi Tang Juchang: Sanguo Yanyi   \n",
       "18492  18493          Fenghuang Ji Xiang Yu Qingming Shanghe Tu   \n",
       "18493  18494                      Chengshi Jiyi Wo Men de Jieri   \n",
       "18494  18495  Heisei Inu Monogatari Bow: Genshi Inu Monogata...   \n",
       "\n",
       "                                         Japanese_name   Type  Episodes  \\\n",
       "0                        Kimetsu no Yaiba: Yuukaku-hen  TV          NaN   \n",
       "1                              Fruits Basket the Final  TV         13.0   \n",
       "2                           The Founder of Diabolism 3  Web        12.0   \n",
       "3       Hagane no Renkinjutsushi: Full Metal Alchemist  TV         64.0   \n",
       "4                 Shingeki no Kyojin Season 3: Part II  TV         10.0   \n",
       "...                                                ...    ...       ...   \n",
       "18490                                              NaN  Web         2.0   \n",
       "18491                                              NaN  TV        108.0   \n",
       "18492                                              NaN  TV         13.0   \n",
       "18493                                              NaN  TV          NaN   \n",
       "18494                                              NaN  Movie       NaN   \n",
       "\n",
       "                             Studio Release_season  \\\n",
       "0                          ufotable          Fall    \n",
       "1                 TMS Entertainment         Spring   \n",
       "2                  B.C MAY PICTURES            NaN   \n",
       "3                             Bones         Spring   \n",
       "4                        WIT Studio         Spring   \n",
       "...                             ...            ...   \n",
       "18490  Sparkly Key Animation Studio            NaN   \n",
       "18491                           NaN            NaN   \n",
       "18492                           NaN            NaN   \n",
       "18493                           NaN            NaN   \n",
       "18494              Nippon Animation            NaN   \n",
       "\n",
       "                                                    Tags  Rating  \\\n",
       "0      Action, Adventure, Fantasy, Shounen, Demons, H...    4.60   \n",
       "1      Drama, Fantasy, Romance, Shoujo, Animal Transf...    4.60   \n",
       "2      Fantasy, Ancient China, Chinese Animation, Cul...    4.58   \n",
       "3      Action, Adventure, Drama, Fantasy, Mystery, Sh...    4.58   \n",
       "4      Action, Fantasy, Horror, Shounen, Dark Fantasy...    4.57   \n",
       "...                                                  ...     ...   \n",
       "18490  Action, Ancient China, Chinese Animation, Hist...     NaN   \n",
       "18491                                  Chinese Animation     NaN   \n",
       "18492  Chinese Animation, Family Friendly, Short Epis...     NaN   \n",
       "18493  Chinese Animation, Family Friendly, Short Epis...     NaN   \n",
       "18494                        Comedy, Slice of Life, Dogs     NaN   \n",
       "\n",
       "       Release_year  End_year  \\\n",
       "0            2021.0       NaN   \n",
       "1            2021.0       NaN   \n",
       "2            2021.0       NaN   \n",
       "3            2009.0    2010.0   \n",
       "4            2019.0       NaN   \n",
       "...             ...       ...   \n",
       "18490        2020.0       NaN   \n",
       "18491        2010.0       NaN   \n",
       "18492        2020.0       NaN   \n",
       "18493        2020.0       NaN   \n",
       "18494        1994.0       NaN   \n",
       "\n",
       "                                             Description  \\\n",
       "0      'Tanjiro and his friends accompany the Hashira...   \n",
       "1                      'The final arc of Fruits Basket.'   \n",
       "2                   'The third season of Mo Dao Zu Shi.'   \n",
       "3      \"The foundation of alchemy is based on the law...   \n",
       "4      'The battle to retake Wall Maria begins now! W...   \n",
       "...                                                  ...   \n",
       "18490  Special episodes of Qin Shi Mingyue: Canghai H...   \n",
       "18491                 No synopsis yet - check back soon!   \n",
       "18492                 No synopsis yet - check back soon!   \n",
       "18493                 No synopsis yet - check back soon!   \n",
       "18494                 No synopsis yet - check back soon!   \n",
       "\n",
       "                                         Content_Warning  \\\n",
       "0                                      Explicit Violence   \n",
       "1      Emotional Abuse,, Mature Themes,, Physical Abu...   \n",
       "2                                                    NaN   \n",
       "3      Animal Abuse,, Mature Themes,, Violence,, Dome...   \n",
       "4                        Cannibalism,, Explicit Violence   \n",
       "...                                                  ...   \n",
       "18490                                                NaN   \n",
       "18491                                                NaN   \n",
       "18492                                                NaN   \n",
       "18493                                                NaN   \n",
       "18494                                                NaN   \n",
       "\n",
       "                                           Related_Mange  \\\n",
       "0                         Demon Slayer: Kimetsu no Yaiba   \n",
       "1                   Fruits Basket, Fruits Basket Another   \n",
       "2      Grandmaster of Demonic Cultivation: Mo Dao Zu ...   \n",
       "3      Fullmetal Alchemist, Fullmetal Alchemist (Ligh...   \n",
       "4      Attack on Titan, Attack on Titan: End of the W...   \n",
       "...                                                  ...   \n",
       "18490                                                NaN   \n",
       "18491                                                NaN   \n",
       "18492                                                NaN   \n",
       "18493                                                NaN   \n",
       "18494                                                NaN   \n",
       "\n",
       "                                           Related_anime  \\\n",
       "0      Demon Slayer: Kimetsu no Yaiba, Demon Slayer: ...   \n",
       "1      Fruits Basket 1st Season, Fruits Basket 2nd Se...   \n",
       "2                       Mo Dao Zu Shi 2, Mo Dao Zu Shi Q   \n",
       "3      Fullmetal Alchemist: Brotherhood Specials, Ful...   \n",
       "4      Attack on Titan, Attack on Titan 2nd Season, A...   \n",
       "...                                                  ...   \n",
       "18490                   Qin Shi Mingyue: Canghai Hengliu   \n",
       "18491                                                NaN   \n",
       "18492                                                NaN   \n",
       "18493                                                NaN   \n",
       "18494                          Heisei Inu Monogatari Bow   \n",
       "\n",
       "                                            Voice_actors  \\\n",
       "0      Inosuke Hashibira : Yoshitsugu Matsuoka, Nezuk...   \n",
       "1      Akito Sohma : Maaya Sakamoto, Kyo Sohma : Yuum...   \n",
       "2      Lan Wangji, Wei Wuxian, Jiang Cheng, Jin Guang...   \n",
       "3      Alphonse Elric : Rie Kugimiya, Edward Elric : ...   \n",
       "4      Armin Arlelt : Marina Inoue, Eren Jaeger : Yuu...   \n",
       "...                                                  ...   \n",
       "18490                                                NaN   \n",
       "18491                                                NaN   \n",
       "18492                                                NaN   \n",
       "18493                                                NaN   \n",
       "18494                                                NaN   \n",
       "\n",
       "                                                   staff  \n",
       "0      Koyoharu Gotouge : Original Creator, Haruo Sot...  \n",
       "1      Natsuki Takaya : Original Creator, Yoshihide I...  \n",
       "2      Mo Xiang Tong Xiu : Original Creator, Xiong Ke...  \n",
       "3      Hiromu Arakawa : Original Creator, Yasuhiro Ir...  \n",
       "4      Hajime Isayama : Original Creator, Tetsurou Ar...  \n",
       "...                                                  ...  \n",
       "18490                                                NaN  \n",
       "18491                                                NaN  \n",
       "18492                                                NaN  \n",
       "18493                                                NaN  \n",
       "18494                                                NaN  \n",
       "\n",
       "[18495 rows x 17 columns]"
      ]
     },
     "execution_count": 42,
     "metadata": {},
     "output_type": "execute_result"
    }
   ],
   "source": [
    "df"
   ]
  },
  {
   "cell_type": "code",
   "execution_count": 44,
   "id": "53427e71",
   "metadata": {},
   "outputs": [
    {
     "data": {
      "text/plain": [
       "Rating\n",
       "3.35    212\n",
       "3.39    202\n",
       "3.41    201\n",
       "3.49    196\n",
       "3.28    196\n",
       "       ... \n",
       "1.96      1\n",
       "2.02      1\n",
       "2.12      1\n",
       "2.10      1\n",
       "0.96      1\n",
       "Name: count, Length: 289, dtype: int64"
      ]
     },
     "execution_count": 44,
     "metadata": {},
     "output_type": "execute_result"
    }
   ],
   "source": [
    "rating = df['Rating'].value_counts()\n",
    "rating"
   ]
  },
  {
   "cell_type": "code",
   "execution_count": 45,
   "id": "23f0f3d9",
   "metadata": {},
   "outputs": [
    {
     "data": {
      "application/vnd.plotly.v1+json": {
       "config": {
        "linkText": "Export to plot.ly",
        "plotlyServerURL": "https://plot.ly",
        "showLink": false
       },
       "data": [
        {
         "alignmentgroup": "True",
         "hovertemplate": "Frequency=%{x}<br>Rating=%{marker.color}<br>text=%{text}<extra></extra>",
         "legendgroup": "",
         "marker": {
          "color": [
           3.35,
           3.39,
           3.41,
           3.49,
           3.28,
           3.37,
           3.33,
           3.46,
           3.44,
           3.42,
           3.27,
           3.34,
           3.29,
           3.36,
           3.24,
           3.31,
           3.45,
           3.26,
           3.4,
           3.38,
           3.3,
           3.43,
           3.2,
           3.51,
           3.5,
           3.21,
           3.32,
           3.17,
           3.25,
           3.23,
           3.48,
           3.14,
           3.15,
           3.56,
           3.22,
           3.19,
           3.18,
           3.55,
           3.47,
           3.53,
           3.54,
           3.12,
           3.6,
           3.1,
           3.57,
           3.09,
           3.16,
           3.11,
           3.13,
           3.58,
           3.08,
           3.59,
           3.61,
           3.67,
           3.52,
           3.63,
           3.62,
           3.05,
           3.03,
           3.07,
           3.65,
           3.04,
           3.72,
           3.71,
           3.01,
           3.06,
           3.64,
           3.02,
           3.78,
           2.98,
           2.96,
           3.69,
           2.97,
           3.68,
           3,
           3.66,
           3.77,
           3.7,
           3.81,
           3.76,
           3.73,
           2.95,
           2.99,
           3.75,
           3.74,
           3.8,
           3.84,
           2.94,
           2.93,
           3.82,
           2.92,
           2.89,
           2.87,
           3.79,
           2.86,
           3.83,
           3.86,
           3.93,
           3.85,
           2.91,
           3.87,
           3.88,
           2.84,
           2.79,
           3.94,
           2.83,
           2.88,
           2.9,
           3.95,
           2.85,
           3.92,
           2.81,
           3.9,
           2.82,
           2.74,
           2.78,
           2.73,
           3.98,
           2.8,
           3.91,
           3.97,
           2.76,
           2.71,
           4.13,
           4.02,
           3.96,
           4.01,
           3.89,
           4.07,
           2.72,
           4.05,
           4.04,
           2.68,
           3.99,
           2.77,
           4.08,
           2.63,
           4,
           2.75,
           4.1,
           4.03,
           4.09,
           2.67,
           2.69,
           2.66,
           4.12,
           2.6,
           4.14,
           4.15,
           4.06,
           4.16,
           2.61,
           2.65,
           4.11,
           4.17,
           2.64,
           2.55,
           4.18,
           2.7,
           2.59,
           4.22,
           4.25,
           4.23,
           4.36,
           4.19,
           2.62,
           4.24,
           2.54,
           2.58,
           2.57,
           2.56,
           2.44,
           2.51,
           4.2,
           4.28,
           4.27,
           2.53,
           2.36,
           2.5,
           2.49,
           2.41,
           4.21,
           4.26,
           2.4,
           4.3,
           2.46,
           2.52,
           4.35,
           4.44,
           2.38,
           2.35,
           4.29,
           2.45,
           2.37,
           2.47,
           4.32,
           2.33,
           2.3,
           2.43,
           4.33,
           2.23,
           4.37,
           2.2,
           2.42,
           4.31,
           4.34,
           4.43,
           2.34,
           2.48,
           2.25,
           4.45,
           2.39,
           2.24,
           2.29,
           2.15,
           2.28,
           2.22,
           2.19,
           2.17,
           2.06,
           4.51,
           4.46,
           2.14,
           2.13,
           2.03,
           2.27,
           2.26,
           4.4,
           4.39,
           2.05,
           1.92,
           1.81,
           1.8,
           4.5,
           2.07,
           1.89,
           4.38,
           2.01,
           2.04,
           1.61,
           1.48,
           1.72,
           2,
           1.76,
           1.77,
           1.98,
           1.82,
           1.87,
           4.6,
           2.08,
           2.21,
           4.56,
           4.48,
           4.42,
           4.58,
           2.32,
           2.31,
           2.18,
           2.16,
           2.11,
           1.3,
           1.39,
           1.4,
           1.71,
           1.41,
           1.19,
           4.57,
           1.11,
           1.53,
           1.57,
           1.06,
           1.67,
           1.69,
           4.53,
           4.55,
           1.73,
           1.75,
           4.54,
           2.09,
           4.47,
           1.86,
           1.9,
           1.93,
           1.95,
           1.96,
           2.02,
           2.12,
           2.1,
           0.96
          ],
          "coloraxis": "coloraxis",
          "pattern": {
           "shape": ""
          }
         },
         "name": "",
         "offsetgroup": "",
         "orientation": "h",
         "outsidetextfont": {
          "family": "consolas",
          "size": 13
         },
         "showlegend": false,
         "text": [
          212,
          202,
          201,
          196,
          196,
          195,
          191,
          188,
          186,
          183,
          181,
          181,
          180,
          180,
          176,
          174,
          174,
          174,
          173,
          173,
          172,
          170,
          170,
          169,
          166,
          163,
          159,
          159,
          156,
          156,
          156,
          156,
          154,
          151,
          150,
          149,
          149,
          149,
          147,
          146,
          143,
          136,
          135,
          132,
          132,
          129,
          129,
          127,
          124,
          122,
          121,
          119,
          117,
          115,
          113,
          112,
          110,
          108,
          107,
          106,
          103,
          103,
          98,
          98,
          96,
          95,
          90,
          87,
          86,
          86,
          85,
          83,
          81,
          81,
          81,
          80,
          78,
          78,
          77,
          77,
          77,
          75,
          74,
          73,
          73,
          72,
          72,
          68,
          67,
          65,
          65,
          64,
          62,
          61,
          61,
          59,
          58,
          57,
          57,
          56,
          56,
          55,
          55,
          53,
          52,
          52,
          51,
          51,
          50,
          48,
          48,
          47,
          47,
          45,
          45,
          44,
          44,
          44,
          43,
          43,
          41,
          40,
          40,
          40,
          39,
          39,
          38,
          38,
          37,
          36,
          36,
          34,
          34,
          33,
          33,
          33,
          32,
          32,
          31,
          30,
          29,
          29,
          28,
          27,
          27,
          27,
          26,
          25,
          25,
          24,
          24,
          24,
          24,
          23,
          23,
          22,
          22,
          22,
          22,
          21,
          21,
          21,
          20,
          19,
          19,
          19,
          18,
          17,
          17,
          16,
          16,
          16,
          15,
          15,
          15,
          15,
          14,
          13,
          13,
          13,
          13,
          13,
          13,
          12,
          12,
          12,
          12,
          11,
          11,
          11,
          10,
          10,
          10,
          10,
          10,
          9,
          9,
          9,
          9,
          9,
          9,
          9,
          8,
          8,
          8,
          8,
          8,
          8,
          7,
          7,
          7,
          7,
          6,
          6,
          6,
          6,
          5,
          5,
          5,
          5,
          5,
          5,
          4,
          4,
          4,
          4,
          4,
          4,
          4,
          3,
          3,
          3,
          3,
          3,
          3,
          3,
          3,
          2,
          2,
          2,
          2,
          2,
          2,
          2,
          2,
          2,
          2,
          2,
          2,
          2,
          2,
          2,
          2,
          2,
          2,
          2,
          2,
          2,
          2,
          2,
          1,
          1,
          1,
          1,
          1,
          1,
          1,
          1,
          1,
          1,
          1,
          1,
          1,
          1,
          1,
          1,
          1,
          1,
          1,
          1,
          1,
          1,
          1,
          1,
          1,
          1,
          1,
          1,
          1
         ],
         "textposition": "outside",
         "type": "bar",
         "x": [
          212,
          202,
          201,
          196,
          196,
          195,
          191,
          188,
          186,
          183,
          181,
          181,
          180,
          180,
          176,
          174,
          174,
          174,
          173,
          173,
          172,
          170,
          170,
          169,
          166,
          163,
          159,
          159,
          156,
          156,
          156,
          156,
          154,
          151,
          150,
          149,
          149,
          149,
          147,
          146,
          143,
          136,
          135,
          132,
          132,
          129,
          129,
          127,
          124,
          122,
          121,
          119,
          117,
          115,
          113,
          112,
          110,
          108,
          107,
          106,
          103,
          103,
          98,
          98,
          96,
          95,
          90,
          87,
          86,
          86,
          85,
          83,
          81,
          81,
          81,
          80,
          78,
          78,
          77,
          77,
          77,
          75,
          74,
          73,
          73,
          72,
          72,
          68,
          67,
          65,
          65,
          64,
          62,
          61,
          61,
          59,
          58,
          57,
          57,
          56,
          56,
          55,
          55,
          53,
          52,
          52,
          51,
          51,
          50,
          48,
          48,
          47,
          47,
          45,
          45,
          44,
          44,
          44,
          43,
          43,
          41,
          40,
          40,
          40,
          39,
          39,
          38,
          38,
          37,
          36,
          36,
          34,
          34,
          33,
          33,
          33,
          32,
          32,
          31,
          30,
          29,
          29,
          28,
          27,
          27,
          27,
          26,
          25,
          25,
          24,
          24,
          24,
          24,
          23,
          23,
          22,
          22,
          22,
          22,
          21,
          21,
          21,
          20,
          19,
          19,
          19,
          18,
          17,
          17,
          16,
          16,
          16,
          15,
          15,
          15,
          15,
          14,
          13,
          13,
          13,
          13,
          13,
          13,
          12,
          12,
          12,
          12,
          11,
          11,
          11,
          10,
          10,
          10,
          10,
          10,
          9,
          9,
          9,
          9,
          9,
          9,
          9,
          8,
          8,
          8,
          8,
          8,
          8,
          7,
          7,
          7,
          7,
          6,
          6,
          6,
          6,
          5,
          5,
          5,
          5,
          5,
          5,
          4,
          4,
          4,
          4,
          4,
          4,
          4,
          3,
          3,
          3,
          3,
          3,
          3,
          3,
          3,
          2,
          2,
          2,
          2,
          2,
          2,
          2,
          2,
          2,
          2,
          2,
          2,
          2,
          2,
          2,
          2,
          2,
          2,
          2,
          2,
          2,
          2,
          2,
          1,
          1,
          1,
          1,
          1,
          1,
          1,
          1,
          1,
          1,
          1,
          1,
          1,
          1,
          1,
          1,
          1,
          1,
          1,
          1,
          1,
          1,
          1,
          1,
          1,
          1,
          1,
          1,
          1
         ],
         "xaxis": "x",
         "y": [
          3.35,
          3.39,
          3.41,
          3.49,
          3.28,
          3.37,
          3.33,
          3.46,
          3.44,
          3.42,
          3.27,
          3.34,
          3.29,
          3.36,
          3.24,
          3.31,
          3.45,
          3.26,
          3.4,
          3.38,
          3.3,
          3.43,
          3.2,
          3.51,
          3.5,
          3.21,
          3.32,
          3.17,
          3.25,
          3.23,
          3.48,
          3.14,
          3.15,
          3.56,
          3.22,
          3.19,
          3.18,
          3.55,
          3.47,
          3.53,
          3.54,
          3.12,
          3.6,
          3.1,
          3.57,
          3.09,
          3.16,
          3.11,
          3.13,
          3.58,
          3.08,
          3.59,
          3.61,
          3.67,
          3.52,
          3.63,
          3.62,
          3.05,
          3.03,
          3.07,
          3.65,
          3.04,
          3.72,
          3.71,
          3.01,
          3.06,
          3.64,
          3.02,
          3.78,
          2.98,
          2.96,
          3.69,
          2.97,
          3.68,
          3,
          3.66,
          3.77,
          3.7,
          3.81,
          3.76,
          3.73,
          2.95,
          2.99,
          3.75,
          3.74,
          3.8,
          3.84,
          2.94,
          2.93,
          3.82,
          2.92,
          2.89,
          2.87,
          3.79,
          2.86,
          3.83,
          3.86,
          3.93,
          3.85,
          2.91,
          3.87,
          3.88,
          2.84,
          2.79,
          3.94,
          2.83,
          2.88,
          2.9,
          3.95,
          2.85,
          3.92,
          2.81,
          3.9,
          2.82,
          2.74,
          2.78,
          2.73,
          3.98,
          2.8,
          3.91,
          3.97,
          2.76,
          2.71,
          4.13,
          4.02,
          3.96,
          4.01,
          3.89,
          4.07,
          2.72,
          4.05,
          4.04,
          2.68,
          3.99,
          2.77,
          4.08,
          2.63,
          4,
          2.75,
          4.1,
          4.03,
          4.09,
          2.67,
          2.69,
          2.66,
          4.12,
          2.6,
          4.14,
          4.15,
          4.06,
          4.16,
          2.61,
          2.65,
          4.11,
          4.17,
          2.64,
          2.55,
          4.18,
          2.7,
          2.59,
          4.22,
          4.25,
          4.23,
          4.36,
          4.19,
          2.62,
          4.24,
          2.54,
          2.58,
          2.57,
          2.56,
          2.44,
          2.51,
          4.2,
          4.28,
          4.27,
          2.53,
          2.36,
          2.5,
          2.49,
          2.41,
          4.21,
          4.26,
          2.4,
          4.3,
          2.46,
          2.52,
          4.35,
          4.44,
          2.38,
          2.35,
          4.29,
          2.45,
          2.37,
          2.47,
          4.32,
          2.33,
          2.3,
          2.43,
          4.33,
          2.23,
          4.37,
          2.2,
          2.42,
          4.31,
          4.34,
          4.43,
          2.34,
          2.48,
          2.25,
          4.45,
          2.39,
          2.24,
          2.29,
          2.15,
          2.28,
          2.22,
          2.19,
          2.17,
          2.06,
          4.51,
          4.46,
          2.14,
          2.13,
          2.03,
          2.27,
          2.26,
          4.4,
          4.39,
          2.05,
          1.92,
          1.81,
          1.8,
          4.5,
          2.07,
          1.89,
          4.38,
          2.01,
          2.04,
          1.61,
          1.48,
          1.72,
          2,
          1.76,
          1.77,
          1.98,
          1.82,
          1.87,
          4.6,
          2.08,
          2.21,
          4.56,
          4.48,
          4.42,
          4.58,
          2.32,
          2.31,
          2.18,
          2.16,
          2.11,
          1.3,
          1.39,
          1.4,
          1.71,
          1.41,
          1.19,
          4.57,
          1.11,
          1.53,
          1.57,
          1.06,
          1.67,
          1.69,
          4.53,
          4.55,
          1.73,
          1.75,
          4.54,
          2.09,
          4.47,
          1.86,
          1.9,
          1.93,
          1.95,
          1.96,
          2.02,
          2.12,
          2.1,
          0.96
         ],
         "yaxis": "y"
        }
       ],
       "layout": {
        "barmode": "relative",
        "coloraxis": {
         "colorbar": {
          "title": {
           "text": "Rating"
          }
         },
         "colorscale": [
          [
           0,
           "#0d0887"
          ],
          [
           0.1111111111111111,
           "#46039f"
          ],
          [
           0.2222222222222222,
           "#7201a8"
          ],
          [
           0.3333333333333333,
           "#9c179e"
          ],
          [
           0.4444444444444444,
           "#bd3786"
          ],
          [
           0.5555555555555556,
           "#d8576b"
          ],
          [
           0.6666666666666666,
           "#ed7953"
          ],
          [
           0.7777777777777778,
           "#fb9f3a"
          ],
          [
           0.8888888888888888,
           "#fdca26"
          ],
          [
           1,
           "#f0f921"
          ]
         ]
        },
        "height": 680,
        "legend": {
         "tracegroupgap": 0
        },
        "template": {
         "data": {
          "bar": [
           {
            "error_x": {
             "color": "#2a3f5f"
            },
            "error_y": {
             "color": "#2a3f5f"
            },
            "marker": {
             "line": {
              "color": "#E5ECF6",
              "width": 0.5
             },
             "pattern": {
              "fillmode": "overlay",
              "size": 10,
              "solidity": 0.2
             }
            },
            "type": "bar"
           }
          ],
          "barpolar": [
           {
            "marker": {
             "line": {
              "color": "#E5ECF6",
              "width": 0.5
             },
             "pattern": {
              "fillmode": "overlay",
              "size": 10,
              "solidity": 0.2
             }
            },
            "type": "barpolar"
           }
          ],
          "carpet": [
           {
            "aaxis": {
             "endlinecolor": "#2a3f5f",
             "gridcolor": "white",
             "linecolor": "white",
             "minorgridcolor": "white",
             "startlinecolor": "#2a3f5f"
            },
            "baxis": {
             "endlinecolor": "#2a3f5f",
             "gridcolor": "white",
             "linecolor": "white",
             "minorgridcolor": "white",
             "startlinecolor": "#2a3f5f"
            },
            "type": "carpet"
           }
          ],
          "choropleth": [
           {
            "colorbar": {
             "outlinewidth": 0,
             "ticks": ""
            },
            "type": "choropleth"
           }
          ],
          "contour": [
           {
            "colorbar": {
             "outlinewidth": 0,
             "ticks": ""
            },
            "colorscale": [
             [
              0,
              "#0d0887"
             ],
             [
              0.1111111111111111,
              "#46039f"
             ],
             [
              0.2222222222222222,
              "#7201a8"
             ],
             [
              0.3333333333333333,
              "#9c179e"
             ],
             [
              0.4444444444444444,
              "#bd3786"
             ],
             [
              0.5555555555555556,
              "#d8576b"
             ],
             [
              0.6666666666666666,
              "#ed7953"
             ],
             [
              0.7777777777777778,
              "#fb9f3a"
             ],
             [
              0.8888888888888888,
              "#fdca26"
             ],
             [
              1,
              "#f0f921"
             ]
            ],
            "type": "contour"
           }
          ],
          "contourcarpet": [
           {
            "colorbar": {
             "outlinewidth": 0,
             "ticks": ""
            },
            "type": "contourcarpet"
           }
          ],
          "heatmap": [
           {
            "colorbar": {
             "outlinewidth": 0,
             "ticks": ""
            },
            "colorscale": [
             [
              0,
              "#0d0887"
             ],
             [
              0.1111111111111111,
              "#46039f"
             ],
             [
              0.2222222222222222,
              "#7201a8"
             ],
             [
              0.3333333333333333,
              "#9c179e"
             ],
             [
              0.4444444444444444,
              "#bd3786"
             ],
             [
              0.5555555555555556,
              "#d8576b"
             ],
             [
              0.6666666666666666,
              "#ed7953"
             ],
             [
              0.7777777777777778,
              "#fb9f3a"
             ],
             [
              0.8888888888888888,
              "#fdca26"
             ],
             [
              1,
              "#f0f921"
             ]
            ],
            "type": "heatmap"
           }
          ],
          "heatmapgl": [
           {
            "colorbar": {
             "outlinewidth": 0,
             "ticks": ""
            },
            "colorscale": [
             [
              0,
              "#0d0887"
             ],
             [
              0.1111111111111111,
              "#46039f"
             ],
             [
              0.2222222222222222,
              "#7201a8"
             ],
             [
              0.3333333333333333,
              "#9c179e"
             ],
             [
              0.4444444444444444,
              "#bd3786"
             ],
             [
              0.5555555555555556,
              "#d8576b"
             ],
             [
              0.6666666666666666,
              "#ed7953"
             ],
             [
              0.7777777777777778,
              "#fb9f3a"
             ],
             [
              0.8888888888888888,
              "#fdca26"
             ],
             [
              1,
              "#f0f921"
             ]
            ],
            "type": "heatmapgl"
           }
          ],
          "histogram": [
           {
            "marker": {
             "pattern": {
              "fillmode": "overlay",
              "size": 10,
              "solidity": 0.2
             }
            },
            "type": "histogram"
           }
          ],
          "histogram2d": [
           {
            "colorbar": {
             "outlinewidth": 0,
             "ticks": ""
            },
            "colorscale": [
             [
              0,
              "#0d0887"
             ],
             [
              0.1111111111111111,
              "#46039f"
             ],
             [
              0.2222222222222222,
              "#7201a8"
             ],
             [
              0.3333333333333333,
              "#9c179e"
             ],
             [
              0.4444444444444444,
              "#bd3786"
             ],
             [
              0.5555555555555556,
              "#d8576b"
             ],
             [
              0.6666666666666666,
              "#ed7953"
             ],
             [
              0.7777777777777778,
              "#fb9f3a"
             ],
             [
              0.8888888888888888,
              "#fdca26"
             ],
             [
              1,
              "#f0f921"
             ]
            ],
            "type": "histogram2d"
           }
          ],
          "histogram2dcontour": [
           {
            "colorbar": {
             "outlinewidth": 0,
             "ticks": ""
            },
            "colorscale": [
             [
              0,
              "#0d0887"
             ],
             [
              0.1111111111111111,
              "#46039f"
             ],
             [
              0.2222222222222222,
              "#7201a8"
             ],
             [
              0.3333333333333333,
              "#9c179e"
             ],
             [
              0.4444444444444444,
              "#bd3786"
             ],
             [
              0.5555555555555556,
              "#d8576b"
             ],
             [
              0.6666666666666666,
              "#ed7953"
             ],
             [
              0.7777777777777778,
              "#fb9f3a"
             ],
             [
              0.8888888888888888,
              "#fdca26"
             ],
             [
              1,
              "#f0f921"
             ]
            ],
            "type": "histogram2dcontour"
           }
          ],
          "mesh3d": [
           {
            "colorbar": {
             "outlinewidth": 0,
             "ticks": ""
            },
            "type": "mesh3d"
           }
          ],
          "parcoords": [
           {
            "line": {
             "colorbar": {
              "outlinewidth": 0,
              "ticks": ""
             }
            },
            "type": "parcoords"
           }
          ],
          "pie": [
           {
            "automargin": true,
            "type": "pie"
           }
          ],
          "scatter": [
           {
            "fillpattern": {
             "fillmode": "overlay",
             "size": 10,
             "solidity": 0.2
            },
            "type": "scatter"
           }
          ],
          "scatter3d": [
           {
            "line": {
             "colorbar": {
              "outlinewidth": 0,
              "ticks": ""
             }
            },
            "marker": {
             "colorbar": {
              "outlinewidth": 0,
              "ticks": ""
             }
            },
            "type": "scatter3d"
           }
          ],
          "scattercarpet": [
           {
            "marker": {
             "colorbar": {
              "outlinewidth": 0,
              "ticks": ""
             }
            },
            "type": "scattercarpet"
           }
          ],
          "scattergeo": [
           {
            "marker": {
             "colorbar": {
              "outlinewidth": 0,
              "ticks": ""
             }
            },
            "type": "scattergeo"
           }
          ],
          "scattergl": [
           {
            "marker": {
             "colorbar": {
              "outlinewidth": 0,
              "ticks": ""
             }
            },
            "type": "scattergl"
           }
          ],
          "scattermapbox": [
           {
            "marker": {
             "colorbar": {
              "outlinewidth": 0,
              "ticks": ""
             }
            },
            "type": "scattermapbox"
           }
          ],
          "scatterpolar": [
           {
            "marker": {
             "colorbar": {
              "outlinewidth": 0,
              "ticks": ""
             }
            },
            "type": "scatterpolar"
           }
          ],
          "scatterpolargl": [
           {
            "marker": {
             "colorbar": {
              "outlinewidth": 0,
              "ticks": ""
             }
            },
            "type": "scatterpolargl"
           }
          ],
          "scatterternary": [
           {
            "marker": {
             "colorbar": {
              "outlinewidth": 0,
              "ticks": ""
             }
            },
            "type": "scatterternary"
           }
          ],
          "surface": [
           {
            "colorbar": {
             "outlinewidth": 0,
             "ticks": ""
            },
            "colorscale": [
             [
              0,
              "#0d0887"
             ],
             [
              0.1111111111111111,
              "#46039f"
             ],
             [
              0.2222222222222222,
              "#7201a8"
             ],
             [
              0.3333333333333333,
              "#9c179e"
             ],
             [
              0.4444444444444444,
              "#bd3786"
             ],
             [
              0.5555555555555556,
              "#d8576b"
             ],
             [
              0.6666666666666666,
              "#ed7953"
             ],
             [
              0.7777777777777778,
              "#fb9f3a"
             ],
             [
              0.8888888888888888,
              "#fdca26"
             ],
             [
              1,
              "#f0f921"
             ]
            ],
            "type": "surface"
           }
          ],
          "table": [
           {
            "cells": {
             "fill": {
              "color": "#EBF0F8"
             },
             "line": {
              "color": "white"
             }
            },
            "header": {
             "fill": {
              "color": "#C8D4E3"
             },
             "line": {
              "color": "white"
             }
            },
            "type": "table"
           }
          ]
         },
         "layout": {
          "annotationdefaults": {
           "arrowcolor": "#2a3f5f",
           "arrowhead": 0,
           "arrowwidth": 1
          },
          "autotypenumbers": "strict",
          "coloraxis": {
           "colorbar": {
            "outlinewidth": 0,
            "ticks": ""
           }
          },
          "colorscale": {
           "diverging": [
            [
             0,
             "#8e0152"
            ],
            [
             0.1,
             "#c51b7d"
            ],
            [
             0.2,
             "#de77ae"
            ],
            [
             0.3,
             "#f1b6da"
            ],
            [
             0.4,
             "#fde0ef"
            ],
            [
             0.5,
             "#f7f7f7"
            ],
            [
             0.6,
             "#e6f5d0"
            ],
            [
             0.7,
             "#b8e186"
            ],
            [
             0.8,
             "#7fbc41"
            ],
            [
             0.9,
             "#4d9221"
            ],
            [
             1,
             "#276419"
            ]
           ],
           "sequential": [
            [
             0,
             "#0d0887"
            ],
            [
             0.1111111111111111,
             "#46039f"
            ],
            [
             0.2222222222222222,
             "#7201a8"
            ],
            [
             0.3333333333333333,
             "#9c179e"
            ],
            [
             0.4444444444444444,
             "#bd3786"
            ],
            [
             0.5555555555555556,
             "#d8576b"
            ],
            [
             0.6666666666666666,
             "#ed7953"
            ],
            [
             0.7777777777777778,
             "#fb9f3a"
            ],
            [
             0.8888888888888888,
             "#fdca26"
            ],
            [
             1,
             "#f0f921"
            ]
           ],
           "sequentialminus": [
            [
             0,
             "#0d0887"
            ],
            [
             0.1111111111111111,
             "#46039f"
            ],
            [
             0.2222222222222222,
             "#7201a8"
            ],
            [
             0.3333333333333333,
             "#9c179e"
            ],
            [
             0.4444444444444444,
             "#bd3786"
            ],
            [
             0.5555555555555556,
             "#d8576b"
            ],
            [
             0.6666666666666666,
             "#ed7953"
            ],
            [
             0.7777777777777778,
             "#fb9f3a"
            ],
            [
             0.8888888888888888,
             "#fdca26"
            ],
            [
             1,
             "#f0f921"
            ]
           ]
          },
          "colorway": [
           "#636efa",
           "#EF553B",
           "#00cc96",
           "#ab63fa",
           "#FFA15A",
           "#19d3f3",
           "#FF6692",
           "#B6E880",
           "#FF97FF",
           "#FECB52"
          ],
          "font": {
           "color": "#2a3f5f"
          },
          "geo": {
           "bgcolor": "white",
           "lakecolor": "white",
           "landcolor": "#E5ECF6",
           "showlakes": true,
           "showland": true,
           "subunitcolor": "white"
          },
          "hoverlabel": {
           "align": "left"
          },
          "hovermode": "closest",
          "mapbox": {
           "style": "light"
          },
          "paper_bgcolor": "white",
          "plot_bgcolor": "#E5ECF6",
          "polar": {
           "angularaxis": {
            "gridcolor": "white",
            "linecolor": "white",
            "ticks": ""
           },
           "bgcolor": "#E5ECF6",
           "radialaxis": {
            "gridcolor": "white",
            "linecolor": "white",
            "ticks": ""
           }
          },
          "scene": {
           "xaxis": {
            "backgroundcolor": "#E5ECF6",
            "gridcolor": "white",
            "gridwidth": 2,
            "linecolor": "white",
            "showbackground": true,
            "ticks": "",
            "zerolinecolor": "white"
           },
           "yaxis": {
            "backgroundcolor": "#E5ECF6",
            "gridcolor": "white",
            "gridwidth": 2,
            "linecolor": "white",
            "showbackground": true,
            "ticks": "",
            "zerolinecolor": "white"
           },
           "zaxis": {
            "backgroundcolor": "#E5ECF6",
            "gridcolor": "white",
            "gridwidth": 2,
            "linecolor": "white",
            "showbackground": true,
            "ticks": "",
            "zerolinecolor": "white"
           }
          },
          "shapedefaults": {
           "line": {
            "color": "#2a3f5f"
           }
          },
          "ternary": {
           "aaxis": {
            "gridcolor": "white",
            "linecolor": "white",
            "ticks": ""
           },
           "baxis": {
            "gridcolor": "white",
            "linecolor": "white",
            "ticks": ""
           },
           "bgcolor": "#E5ECF6",
           "caxis": {
            "gridcolor": "white",
            "linecolor": "white",
            "ticks": ""
           }
          },
          "title": {
           "x": 0.05
          },
          "xaxis": {
           "automargin": true,
           "gridcolor": "white",
           "linecolor": "white",
           "ticks": "",
           "title": {
            "standoff": 15
           },
           "zerolinecolor": "white",
           "zerolinewidth": 2
          },
          "yaxis": {
           "automargin": true,
           "gridcolor": "white",
           "linecolor": "white",
           "ticks": "",
           "title": {
            "standoff": 15
           },
           "zerolinecolor": "white",
           "zerolinewidth": 2
          }
         }
        },
        "title": {
         "text": "Popularity of Rating"
        },
        "xaxis": {
         "anchor": "y",
         "domain": [
          0,
          1
         ],
         "title": {
          "text": "Frequency"
         }
        },
        "yaxis": {
         "anchor": "x",
         "domain": [
          0,
          1
         ],
         "title": {
          "text": "Rating"
         }
        }
       }
      },
      "text/html": [
       "<div>                            <div id=\"5c168d1f-6659-4fab-960e-e21d0e0b52e2\" class=\"plotly-graph-div\" style=\"height:680px; width:100%;\"></div>            <script type=\"text/javascript\">                require([\"plotly\"], function(Plotly) {                    window.PLOTLYENV=window.PLOTLYENV || {};                                    if (document.getElementById(\"5c168d1f-6659-4fab-960e-e21d0e0b52e2\")) {                    Plotly.newPlot(                        \"5c168d1f-6659-4fab-960e-e21d0e0b52e2\",                        [{\"alignmentgroup\":\"True\",\"hovertemplate\":\"Frequency=%{x}<br>Rating=%{marker.color}<br>text=%{text}<extra></extra>\",\"legendgroup\":\"\",\"marker\":{\"color\":[3.35,3.39,3.41,3.49,3.28,3.37,3.33,3.46,3.44,3.42,3.27,3.34,3.29,3.36,3.24,3.31,3.45,3.26,3.4,3.38,3.3,3.43,3.2,3.51,3.5,3.21,3.32,3.17,3.25,3.23,3.48,3.14,3.15,3.56,3.22,3.19,3.18,3.55,3.47,3.53,3.54,3.12,3.6,3.1,3.57,3.09,3.16,3.11,3.13,3.58,3.08,3.59,3.61,3.67,3.52,3.63,3.62,3.05,3.03,3.07,3.65,3.04,3.72,3.71,3.01,3.06,3.64,3.02,3.78,2.98,2.96,3.69,2.97,3.68,3.0,3.66,3.77,3.7,3.81,3.76,3.73,2.95,2.99,3.75,3.74,3.8,3.84,2.94,2.93,3.82,2.92,2.89,2.87,3.79,2.86,3.83,3.86,3.93,3.85,2.91,3.87,3.88,2.84,2.79,3.94,2.83,2.88,2.9,3.95,2.85,3.92,2.81,3.9,2.82,2.74,2.78,2.73,3.98,2.8,3.91,3.97,2.76,2.71,4.13,4.02,3.96,4.01,3.89,4.07,2.72,4.05,4.04,2.68,3.99,2.77,4.08,2.63,4.0,2.75,4.1,4.03,4.09,2.67,2.69,2.66,4.12,2.6,4.14,4.15,4.06,4.16,2.61,2.65,4.11,4.17,2.64,2.55,4.18,2.7,2.59,4.22,4.25,4.23,4.36,4.19,2.62,4.24,2.54,2.58,2.57,2.56,2.44,2.51,4.2,4.28,4.27,2.53,2.36,2.5,2.49,2.41,4.21,4.26,2.4,4.3,2.46,2.52,4.35,4.44,2.38,2.35,4.29,2.45,2.37,2.47,4.32,2.33,2.3,2.43,4.33,2.23,4.37,2.2,2.42,4.31,4.34,4.43,2.34,2.48,2.25,4.45,2.39,2.24,2.29,2.15,2.28,2.22,2.19,2.17,2.06,4.51,4.46,2.14,2.13,2.03,2.27,2.26,4.4,4.39,2.05,1.92,1.81,1.8,4.5,2.07,1.89,4.38,2.01,2.04,1.61,1.48,1.72,2.0,1.76,1.77,1.98,1.82,1.87,4.6,2.08,2.21,4.56,4.48,4.42,4.58,2.32,2.31,2.18,2.16,2.11,1.3,1.39,1.4,1.71,1.41,1.19,4.57,1.11,1.53,1.57,1.06,1.67,1.69,4.53,4.55,1.73,1.75,4.54,2.09,4.47,1.86,1.9,1.93,1.95,1.96,2.02,2.12,2.1,0.96],\"coloraxis\":\"coloraxis\",\"pattern\":{\"shape\":\"\"}},\"name\":\"\",\"offsetgroup\":\"\",\"orientation\":\"h\",\"outsidetextfont\":{\"family\":\"consolas\",\"size\":13},\"showlegend\":false,\"text\":[212.0,202.0,201.0,196.0,196.0,195.0,191.0,188.0,186.0,183.0,181.0,181.0,180.0,180.0,176.0,174.0,174.0,174.0,173.0,173.0,172.0,170.0,170.0,169.0,166.0,163.0,159.0,159.0,156.0,156.0,156.0,156.0,154.0,151.0,150.0,149.0,149.0,149.0,147.0,146.0,143.0,136.0,135.0,132.0,132.0,129.0,129.0,127.0,124.0,122.0,121.0,119.0,117.0,115.0,113.0,112.0,110.0,108.0,107.0,106.0,103.0,103.0,98.0,98.0,96.0,95.0,90.0,87.0,86.0,86.0,85.0,83.0,81.0,81.0,81.0,80.0,78.0,78.0,77.0,77.0,77.0,75.0,74.0,73.0,73.0,72.0,72.0,68.0,67.0,65.0,65.0,64.0,62.0,61.0,61.0,59.0,58.0,57.0,57.0,56.0,56.0,55.0,55.0,53.0,52.0,52.0,51.0,51.0,50.0,48.0,48.0,47.0,47.0,45.0,45.0,44.0,44.0,44.0,43.0,43.0,41.0,40.0,40.0,40.0,39.0,39.0,38.0,38.0,37.0,36.0,36.0,34.0,34.0,33.0,33.0,33.0,32.0,32.0,31.0,30.0,29.0,29.0,28.0,27.0,27.0,27.0,26.0,25.0,25.0,24.0,24.0,24.0,24.0,23.0,23.0,22.0,22.0,22.0,22.0,21.0,21.0,21.0,20.0,19.0,19.0,19.0,18.0,17.0,17.0,16.0,16.0,16.0,15.0,15.0,15.0,15.0,14.0,13.0,13.0,13.0,13.0,13.0,13.0,12.0,12.0,12.0,12.0,11.0,11.0,11.0,10.0,10.0,10.0,10.0,10.0,9.0,9.0,9.0,9.0,9.0,9.0,9.0,8.0,8.0,8.0,8.0,8.0,8.0,7.0,7.0,7.0,7.0,6.0,6.0,6.0,6.0,5.0,5.0,5.0,5.0,5.0,5.0,4.0,4.0,4.0,4.0,4.0,4.0,4.0,3.0,3.0,3.0,3.0,3.0,3.0,3.0,3.0,2.0,2.0,2.0,2.0,2.0,2.0,2.0,2.0,2.0,2.0,2.0,2.0,2.0,2.0,2.0,2.0,2.0,2.0,2.0,2.0,2.0,2.0,2.0,1.0,1.0,1.0,1.0,1.0,1.0,1.0,1.0,1.0,1.0,1.0,1.0,1.0,1.0,1.0,1.0,1.0,1.0,1.0,1.0,1.0,1.0,1.0,1.0,1.0,1.0,1.0,1.0,1.0],\"textposition\":\"outside\",\"x\":[212,202,201,196,196,195,191,188,186,183,181,181,180,180,176,174,174,174,173,173,172,170,170,169,166,163,159,159,156,156,156,156,154,151,150,149,149,149,147,146,143,136,135,132,132,129,129,127,124,122,121,119,117,115,113,112,110,108,107,106,103,103,98,98,96,95,90,87,86,86,85,83,81,81,81,80,78,78,77,77,77,75,74,73,73,72,72,68,67,65,65,64,62,61,61,59,58,57,57,56,56,55,55,53,52,52,51,51,50,48,48,47,47,45,45,44,44,44,43,43,41,40,40,40,39,39,38,38,37,36,36,34,34,33,33,33,32,32,31,30,29,29,28,27,27,27,26,25,25,24,24,24,24,23,23,22,22,22,22,21,21,21,20,19,19,19,18,17,17,16,16,16,15,15,15,15,14,13,13,13,13,13,13,12,12,12,12,11,11,11,10,10,10,10,10,9,9,9,9,9,9,9,8,8,8,8,8,8,7,7,7,7,6,6,6,6,5,5,5,5,5,5,4,4,4,4,4,4,4,3,3,3,3,3,3,3,3,2,2,2,2,2,2,2,2,2,2,2,2,2,2,2,2,2,2,2,2,2,2,2,1,1,1,1,1,1,1,1,1,1,1,1,1,1,1,1,1,1,1,1,1,1,1,1,1,1,1,1,1],\"xaxis\":\"x\",\"y\":[3.35,3.39,3.41,3.49,3.28,3.37,3.33,3.46,3.44,3.42,3.27,3.34,3.29,3.36,3.24,3.31,3.45,3.26,3.4,3.38,3.3,3.43,3.2,3.51,3.5,3.21,3.32,3.17,3.25,3.23,3.48,3.14,3.15,3.56,3.22,3.19,3.18,3.55,3.47,3.53,3.54,3.12,3.6,3.1,3.57,3.09,3.16,3.11,3.13,3.58,3.08,3.59,3.61,3.67,3.52,3.63,3.62,3.05,3.03,3.07,3.65,3.04,3.72,3.71,3.01,3.06,3.64,3.02,3.78,2.98,2.96,3.69,2.97,3.68,3.0,3.66,3.77,3.7,3.81,3.76,3.73,2.95,2.99,3.75,3.74,3.8,3.84,2.94,2.93,3.82,2.92,2.89,2.87,3.79,2.86,3.83,3.86,3.93,3.85,2.91,3.87,3.88,2.84,2.79,3.94,2.83,2.88,2.9,3.95,2.85,3.92,2.81,3.9,2.82,2.74,2.78,2.73,3.98,2.8,3.91,3.97,2.76,2.71,4.13,4.02,3.96,4.01,3.89,4.07,2.72,4.05,4.04,2.68,3.99,2.77,4.08,2.63,4.0,2.75,4.1,4.03,4.09,2.67,2.69,2.66,4.12,2.6,4.14,4.15,4.06,4.16,2.61,2.65,4.11,4.17,2.64,2.55,4.18,2.7,2.59,4.22,4.25,4.23,4.36,4.19,2.62,4.24,2.54,2.58,2.57,2.56,2.44,2.51,4.2,4.28,4.27,2.53,2.36,2.5,2.49,2.41,4.21,4.26,2.4,4.3,2.46,2.52,4.35,4.44,2.38,2.35,4.29,2.45,2.37,2.47,4.32,2.33,2.3,2.43,4.33,2.23,4.37,2.2,2.42,4.31,4.34,4.43,2.34,2.48,2.25,4.45,2.39,2.24,2.29,2.15,2.28,2.22,2.19,2.17,2.06,4.51,4.46,2.14,2.13,2.03,2.27,2.26,4.4,4.39,2.05,1.92,1.81,1.8,4.5,2.07,1.89,4.38,2.01,2.04,1.61,1.48,1.72,2.0,1.76,1.77,1.98,1.82,1.87,4.6,2.08,2.21,4.56,4.48,4.42,4.58,2.32,2.31,2.18,2.16,2.11,1.3,1.39,1.4,1.71,1.41,1.19,4.57,1.11,1.53,1.57,1.06,1.67,1.69,4.53,4.55,1.73,1.75,4.54,2.09,4.47,1.86,1.9,1.93,1.95,1.96,2.02,2.12,2.1,0.96],\"yaxis\":\"y\",\"type\":\"bar\"}],                        {\"barmode\":\"relative\",\"coloraxis\":{\"colorbar\":{\"title\":{\"text\":\"Rating\"}},\"colorscale\":[[0.0,\"#0d0887\"],[0.1111111111111111,\"#46039f\"],[0.2222222222222222,\"#7201a8\"],[0.3333333333333333,\"#9c179e\"],[0.4444444444444444,\"#bd3786\"],[0.5555555555555556,\"#d8576b\"],[0.6666666666666666,\"#ed7953\"],[0.7777777777777778,\"#fb9f3a\"],[0.8888888888888888,\"#fdca26\"],[1.0,\"#f0f921\"]]},\"height\":680,\"legend\":{\"tracegroupgap\":0},\"template\":{\"data\":{\"barpolar\":[{\"marker\":{\"line\":{\"color\":\"#E5ECF6\",\"width\":0.5},\"pattern\":{\"fillmode\":\"overlay\",\"size\":10,\"solidity\":0.2}},\"type\":\"barpolar\"}],\"bar\":[{\"error_x\":{\"color\":\"#2a3f5f\"},\"error_y\":{\"color\":\"#2a3f5f\"},\"marker\":{\"line\":{\"color\":\"#E5ECF6\",\"width\":0.5},\"pattern\":{\"fillmode\":\"overlay\",\"size\":10,\"solidity\":0.2}},\"type\":\"bar\"}],\"carpet\":[{\"aaxis\":{\"endlinecolor\":\"#2a3f5f\",\"gridcolor\":\"white\",\"linecolor\":\"white\",\"minorgridcolor\":\"white\",\"startlinecolor\":\"#2a3f5f\"},\"baxis\":{\"endlinecolor\":\"#2a3f5f\",\"gridcolor\":\"white\",\"linecolor\":\"white\",\"minorgridcolor\":\"white\",\"startlinecolor\":\"#2a3f5f\"},\"type\":\"carpet\"}],\"choropleth\":[{\"colorbar\":{\"outlinewidth\":0,\"ticks\":\"\"},\"type\":\"choropleth\"}],\"contourcarpet\":[{\"colorbar\":{\"outlinewidth\":0,\"ticks\":\"\"},\"type\":\"contourcarpet\"}],\"contour\":[{\"colorbar\":{\"outlinewidth\":0,\"ticks\":\"\"},\"colorscale\":[[0.0,\"#0d0887\"],[0.1111111111111111,\"#46039f\"],[0.2222222222222222,\"#7201a8\"],[0.3333333333333333,\"#9c179e\"],[0.4444444444444444,\"#bd3786\"],[0.5555555555555556,\"#d8576b\"],[0.6666666666666666,\"#ed7953\"],[0.7777777777777778,\"#fb9f3a\"],[0.8888888888888888,\"#fdca26\"],[1.0,\"#f0f921\"]],\"type\":\"contour\"}],\"heatmapgl\":[{\"colorbar\":{\"outlinewidth\":0,\"ticks\":\"\"},\"colorscale\":[[0.0,\"#0d0887\"],[0.1111111111111111,\"#46039f\"],[0.2222222222222222,\"#7201a8\"],[0.3333333333333333,\"#9c179e\"],[0.4444444444444444,\"#bd3786\"],[0.5555555555555556,\"#d8576b\"],[0.6666666666666666,\"#ed7953\"],[0.7777777777777778,\"#fb9f3a\"],[0.8888888888888888,\"#fdca26\"],[1.0,\"#f0f921\"]],\"type\":\"heatmapgl\"}],\"heatmap\":[{\"colorbar\":{\"outlinewidth\":0,\"ticks\":\"\"},\"colorscale\":[[0.0,\"#0d0887\"],[0.1111111111111111,\"#46039f\"],[0.2222222222222222,\"#7201a8\"],[0.3333333333333333,\"#9c179e\"],[0.4444444444444444,\"#bd3786\"],[0.5555555555555556,\"#d8576b\"],[0.6666666666666666,\"#ed7953\"],[0.7777777777777778,\"#fb9f3a\"],[0.8888888888888888,\"#fdca26\"],[1.0,\"#f0f921\"]],\"type\":\"heatmap\"}],\"histogram2dcontour\":[{\"colorbar\":{\"outlinewidth\":0,\"ticks\":\"\"},\"colorscale\":[[0.0,\"#0d0887\"],[0.1111111111111111,\"#46039f\"],[0.2222222222222222,\"#7201a8\"],[0.3333333333333333,\"#9c179e\"],[0.4444444444444444,\"#bd3786\"],[0.5555555555555556,\"#d8576b\"],[0.6666666666666666,\"#ed7953\"],[0.7777777777777778,\"#fb9f3a\"],[0.8888888888888888,\"#fdca26\"],[1.0,\"#f0f921\"]],\"type\":\"histogram2dcontour\"}],\"histogram2d\":[{\"colorbar\":{\"outlinewidth\":0,\"ticks\":\"\"},\"colorscale\":[[0.0,\"#0d0887\"],[0.1111111111111111,\"#46039f\"],[0.2222222222222222,\"#7201a8\"],[0.3333333333333333,\"#9c179e\"],[0.4444444444444444,\"#bd3786\"],[0.5555555555555556,\"#d8576b\"],[0.6666666666666666,\"#ed7953\"],[0.7777777777777778,\"#fb9f3a\"],[0.8888888888888888,\"#fdca26\"],[1.0,\"#f0f921\"]],\"type\":\"histogram2d\"}],\"histogram\":[{\"marker\":{\"pattern\":{\"fillmode\":\"overlay\",\"size\":10,\"solidity\":0.2}},\"type\":\"histogram\"}],\"mesh3d\":[{\"colorbar\":{\"outlinewidth\":0,\"ticks\":\"\"},\"type\":\"mesh3d\"}],\"parcoords\":[{\"line\":{\"colorbar\":{\"outlinewidth\":0,\"ticks\":\"\"}},\"type\":\"parcoords\"}],\"pie\":[{\"automargin\":true,\"type\":\"pie\"}],\"scatter3d\":[{\"line\":{\"colorbar\":{\"outlinewidth\":0,\"ticks\":\"\"}},\"marker\":{\"colorbar\":{\"outlinewidth\":0,\"ticks\":\"\"}},\"type\":\"scatter3d\"}],\"scattercarpet\":[{\"marker\":{\"colorbar\":{\"outlinewidth\":0,\"ticks\":\"\"}},\"type\":\"scattercarpet\"}],\"scattergeo\":[{\"marker\":{\"colorbar\":{\"outlinewidth\":0,\"ticks\":\"\"}},\"type\":\"scattergeo\"}],\"scattergl\":[{\"marker\":{\"colorbar\":{\"outlinewidth\":0,\"ticks\":\"\"}},\"type\":\"scattergl\"}],\"scattermapbox\":[{\"marker\":{\"colorbar\":{\"outlinewidth\":0,\"ticks\":\"\"}},\"type\":\"scattermapbox\"}],\"scatterpolargl\":[{\"marker\":{\"colorbar\":{\"outlinewidth\":0,\"ticks\":\"\"}},\"type\":\"scatterpolargl\"}],\"scatterpolar\":[{\"marker\":{\"colorbar\":{\"outlinewidth\":0,\"ticks\":\"\"}},\"type\":\"scatterpolar\"}],\"scatter\":[{\"fillpattern\":{\"fillmode\":\"overlay\",\"size\":10,\"solidity\":0.2},\"type\":\"scatter\"}],\"scatterternary\":[{\"marker\":{\"colorbar\":{\"outlinewidth\":0,\"ticks\":\"\"}},\"type\":\"scatterternary\"}],\"surface\":[{\"colorbar\":{\"outlinewidth\":0,\"ticks\":\"\"},\"colorscale\":[[0.0,\"#0d0887\"],[0.1111111111111111,\"#46039f\"],[0.2222222222222222,\"#7201a8\"],[0.3333333333333333,\"#9c179e\"],[0.4444444444444444,\"#bd3786\"],[0.5555555555555556,\"#d8576b\"],[0.6666666666666666,\"#ed7953\"],[0.7777777777777778,\"#fb9f3a\"],[0.8888888888888888,\"#fdca26\"],[1.0,\"#f0f921\"]],\"type\":\"surface\"}],\"table\":[{\"cells\":{\"fill\":{\"color\":\"#EBF0F8\"},\"line\":{\"color\":\"white\"}},\"header\":{\"fill\":{\"color\":\"#C8D4E3\"},\"line\":{\"color\":\"white\"}},\"type\":\"table\"}]},\"layout\":{\"annotationdefaults\":{\"arrowcolor\":\"#2a3f5f\",\"arrowhead\":0,\"arrowwidth\":1},\"autotypenumbers\":\"strict\",\"coloraxis\":{\"colorbar\":{\"outlinewidth\":0,\"ticks\":\"\"}},\"colorscale\":{\"diverging\":[[0,\"#8e0152\"],[0.1,\"#c51b7d\"],[0.2,\"#de77ae\"],[0.3,\"#f1b6da\"],[0.4,\"#fde0ef\"],[0.5,\"#f7f7f7\"],[0.6,\"#e6f5d0\"],[0.7,\"#b8e186\"],[0.8,\"#7fbc41\"],[0.9,\"#4d9221\"],[1,\"#276419\"]],\"sequential\":[[0.0,\"#0d0887\"],[0.1111111111111111,\"#46039f\"],[0.2222222222222222,\"#7201a8\"],[0.3333333333333333,\"#9c179e\"],[0.4444444444444444,\"#bd3786\"],[0.5555555555555556,\"#d8576b\"],[0.6666666666666666,\"#ed7953\"],[0.7777777777777778,\"#fb9f3a\"],[0.8888888888888888,\"#fdca26\"],[1.0,\"#f0f921\"]],\"sequentialminus\":[[0.0,\"#0d0887\"],[0.1111111111111111,\"#46039f\"],[0.2222222222222222,\"#7201a8\"],[0.3333333333333333,\"#9c179e\"],[0.4444444444444444,\"#bd3786\"],[0.5555555555555556,\"#d8576b\"],[0.6666666666666666,\"#ed7953\"],[0.7777777777777778,\"#fb9f3a\"],[0.8888888888888888,\"#fdca26\"],[1.0,\"#f0f921\"]]},\"colorway\":[\"#636efa\",\"#EF553B\",\"#00cc96\",\"#ab63fa\",\"#FFA15A\",\"#19d3f3\",\"#FF6692\",\"#B6E880\",\"#FF97FF\",\"#FECB52\"],\"font\":{\"color\":\"#2a3f5f\"},\"geo\":{\"bgcolor\":\"white\",\"lakecolor\":\"white\",\"landcolor\":\"#E5ECF6\",\"showlakes\":true,\"showland\":true,\"subunitcolor\":\"white\"},\"hoverlabel\":{\"align\":\"left\"},\"hovermode\":\"closest\",\"mapbox\":{\"style\":\"light\"},\"paper_bgcolor\":\"white\",\"plot_bgcolor\":\"#E5ECF6\",\"polar\":{\"angularaxis\":{\"gridcolor\":\"white\",\"linecolor\":\"white\",\"ticks\":\"\"},\"bgcolor\":\"#E5ECF6\",\"radialaxis\":{\"gridcolor\":\"white\",\"linecolor\":\"white\",\"ticks\":\"\"}},\"scene\":{\"xaxis\":{\"backgroundcolor\":\"#E5ECF6\",\"gridcolor\":\"white\",\"gridwidth\":2,\"linecolor\":\"white\",\"showbackground\":true,\"ticks\":\"\",\"zerolinecolor\":\"white\"},\"yaxis\":{\"backgroundcolor\":\"#E5ECF6\",\"gridcolor\":\"white\",\"gridwidth\":2,\"linecolor\":\"white\",\"showbackground\":true,\"ticks\":\"\",\"zerolinecolor\":\"white\"},\"zaxis\":{\"backgroundcolor\":\"#E5ECF6\",\"gridcolor\":\"white\",\"gridwidth\":2,\"linecolor\":\"white\",\"showbackground\":true,\"ticks\":\"\",\"zerolinecolor\":\"white\"}},\"shapedefaults\":{\"line\":{\"color\":\"#2a3f5f\"}},\"ternary\":{\"aaxis\":{\"gridcolor\":\"white\",\"linecolor\":\"white\",\"ticks\":\"\"},\"baxis\":{\"gridcolor\":\"white\",\"linecolor\":\"white\",\"ticks\":\"\"},\"bgcolor\":\"#E5ECF6\",\"caxis\":{\"gridcolor\":\"white\",\"linecolor\":\"white\",\"ticks\":\"\"}},\"title\":{\"x\":0.05},\"xaxis\":{\"automargin\":true,\"gridcolor\":\"white\",\"linecolor\":\"white\",\"ticks\":\"\",\"title\":{\"standoff\":15},\"zerolinecolor\":\"white\",\"zerolinewidth\":2},\"yaxis\":{\"automargin\":true,\"gridcolor\":\"white\",\"linecolor\":\"white\",\"ticks\":\"\",\"title\":{\"standoff\":15},\"zerolinecolor\":\"white\",\"zerolinewidth\":2}}},\"title\":{\"text\":\"Popularity of Rating\"},\"xaxis\":{\"anchor\":\"y\",\"domain\":[0.0,1.0],\"title\":{\"text\":\"Frequency\"}},\"yaxis\":{\"anchor\":\"x\",\"domain\":[0.0,1.0],\"title\":{\"text\":\"Rating\"}}},                        {\"responsive\": true}                    ).then(function(){\n",
       "                            \n",
       "var gd = document.getElementById('5c168d1f-6659-4fab-960e-e21d0e0b52e2');\n",
       "var x = new MutationObserver(function (mutations, observer) {{\n",
       "        var display = window.getComputedStyle(gd).display;\n",
       "        if (!display || display === 'none') {{\n",
       "            console.log([gd, 'removed!']);\n",
       "            Plotly.purge(gd);\n",
       "            observer.disconnect();\n",
       "        }}\n",
       "}});\n",
       "\n",
       "// Listen for the removal of the full notebook cells\n",
       "var notebookContainer = gd.closest('#notebook-container');\n",
       "if (notebookContainer) {{\n",
       "    x.observe(notebookContainer, {childList: true});\n",
       "}}\n",
       "\n",
       "// Listen for the clearing of the current output cell\n",
       "var outputEl = gd.closest('.output');\n",
       "if (outputEl) {{\n",
       "    x.observe(outputEl, {childList: true});\n",
       "}}\n",
       "\n",
       "                        })                };                });            </script>        </div>"
      ]
     },
     "metadata": {},
     "output_type": "display_data"
    }
   ],
   "source": [
    "fig = px.bar(data_frame=rating, \n",
    "             x = rating, \n",
    "             y = rating.index, \n",
    "             color = rating.index,\n",
    "             text = rating,\n",
    "             orientation= \"h\",\n",
    "             title= \"Popularity of Rating\",\n",
    "             labels = {\n",
    "                    \"x\" : \"Frequency\",\n",
    "                    \"rating\" : \"Rating\"\n",
    "                },\n",
    "             height=680\n",
    "            )\n",
    "\n",
    "# Custom Format of numbers\n",
    "fig.update_traces(\n",
    "    textposition = \"outside\",\n",
    "    outsidetextfont = {\n",
    "        \"family\": \"consolas\",\n",
    "         \"size\": 13\n",
    "    }\n",
    ")\n",
    "\n",
    "iplot(fig)"
   ]
  },
  {
   "cell_type": "code",
   "execution_count": 57,
   "id": "2bfc7b41",
   "metadata": {},
   "outputs": [
    {
     "data": {
      "text/html": [
       "<div>\n",
       "<style scoped>\n",
       "    .dataframe tbody tr th:only-of-type {\n",
       "        vertical-align: middle;\n",
       "    }\n",
       "\n",
       "    .dataframe tbody tr th {\n",
       "        vertical-align: top;\n",
       "    }\n",
       "\n",
       "    .dataframe thead th {\n",
       "        text-align: right;\n",
       "    }\n",
       "</style>\n",
       "<table border=\"1\" class=\"dataframe\">\n",
       "  <thead>\n",
       "    <tr style=\"text-align: right;\">\n",
       "      <th></th>\n",
       "      <th>Rank</th>\n",
       "      <th>Name</th>\n",
       "      <th>Japanese_name</th>\n",
       "      <th>Type</th>\n",
       "      <th>Episodes</th>\n",
       "      <th>Studio</th>\n",
       "      <th>Release_season</th>\n",
       "      <th>Tags</th>\n",
       "      <th>Rating</th>\n",
       "      <th>Release_year</th>\n",
       "      <th>End_year</th>\n",
       "      <th>Description</th>\n",
       "      <th>Content_Warning</th>\n",
       "      <th>Related_Mange</th>\n",
       "      <th>Related_anime</th>\n",
       "      <th>Voice_actors</th>\n",
       "      <th>staff</th>\n",
       "    </tr>\n",
       "  </thead>\n",
       "  <tbody>\n",
       "    <tr>\n",
       "      <th>706</th>\n",
       "      <td>707</td>\n",
       "      <td>Naruto</td>\n",
       "      <td>NaN</td>\n",
       "      <td>TV</td>\n",
       "      <td>220.0</td>\n",
       "      <td>Pierrot</td>\n",
       "      <td>Fall</td>\n",
       "      <td>Action, Drama, Shounen, Japanese Mythology, Ni...</td>\n",
       "      <td>4.05</td>\n",
       "      <td>2002.0</td>\n",
       "      <td>2007.0</td>\n",
       "      <td>\"Naruto Uzumaki is a young ninja who bears a g...</td>\n",
       "      <td>NaN</td>\n",
       "      <td>Naruto (Pilot), Naruto, Naruto: Innocent Heart...</td>\n",
       "      <td>Naruto Special 1: Find the Crimson Four-leaf C...</td>\n",
       "      <td>Kakashi Hatake : Kazuhiko Inoue, Naruto Uzumak...</td>\n",
       "      <td>Masashi Kishimoto : Original Creator, Hayato D...</td>\n",
       "    </tr>\n",
       "  </tbody>\n",
       "</table>\n",
       "</div>"
      ],
      "text/plain": [
       "     Rank    Name Japanese_name   Type  Episodes   Studio Release_season  \\\n",
       "706   707  Naruto           NaN  TV        220.0  Pierrot          Fall    \n",
       "\n",
       "                                                  Tags  Rating  Release_year  \\\n",
       "706  Action, Drama, Shounen, Japanese Mythology, Ni...    4.05        2002.0   \n",
       "\n",
       "     End_year                                        Description  \\\n",
       "706    2007.0  \"Naruto Uzumaki is a young ninja who bears a g...   \n",
       "\n",
       "    Content_Warning                                      Related_Mange  \\\n",
       "706             NaN  Naruto (Pilot), Naruto, Naruto: Innocent Heart...   \n",
       "\n",
       "                                         Related_anime  \\\n",
       "706  Naruto Special 1: Find the Crimson Four-leaf C...   \n",
       "\n",
       "                                          Voice_actors  \\\n",
       "706  Kakashi Hatake : Kazuhiko Inoue, Naruto Uzumak...   \n",
       "\n",
       "                                                 staff  \n",
       "706  Masashi Kishimoto : Original Creator, Hayato D...  "
      ]
     },
     "execution_count": 57,
     "metadata": {},
     "output_type": "execute_result"
    }
   ],
   "source": [
    "#locating animes with 4.6 rating\n",
    "df.loc[(df['Rating']== 4.6)]\n",
    "\n",
    "#df.loc[(df['Name']== 'Naruto')]"
   ]
  },
  {
   "cell_type": "code",
   "execution_count": 58,
   "id": "3e28abeb",
   "metadata": {},
   "outputs": [
    {
     "data": {
      "text/html": [
       "<div>\n",
       "<style scoped>\n",
       "    .dataframe tbody tr th:only-of-type {\n",
       "        vertical-align: middle;\n",
       "    }\n",
       "\n",
       "    .dataframe tbody tr th {\n",
       "        vertical-align: top;\n",
       "    }\n",
       "\n",
       "    .dataframe thead th {\n",
       "        text-align: right;\n",
       "    }\n",
       "</style>\n",
       "<table border=\"1\" class=\"dataframe\">\n",
       "  <thead>\n",
       "    <tr style=\"text-align: right;\">\n",
       "      <th></th>\n",
       "      <th>Rank</th>\n",
       "      <th>Name</th>\n",
       "      <th>Japanese_name</th>\n",
       "      <th>Type</th>\n",
       "      <th>Episodes</th>\n",
       "      <th>Studio</th>\n",
       "      <th>Release_season</th>\n",
       "      <th>Tags</th>\n",
       "      <th>Rating</th>\n",
       "      <th>Release_year</th>\n",
       "      <th>End_year</th>\n",
       "      <th>Description</th>\n",
       "      <th>Content_Warning</th>\n",
       "      <th>Related_Mange</th>\n",
       "      <th>Related_anime</th>\n",
       "      <th>Voice_actors</th>\n",
       "      <th>staff</th>\n",
       "    </tr>\n",
       "  </thead>\n",
       "  <tbody>\n",
       "    <tr>\n",
       "      <th>0</th>\n",
       "      <td>1</td>\n",
       "      <td>Demon Slayer: Kimetsu no Yaiba - Entertainment...</td>\n",
       "      <td>Kimetsu no Yaiba: Yuukaku-hen</td>\n",
       "      <td>TV</td>\n",
       "      <td>NaN</td>\n",
       "      <td>ufotable</td>\n",
       "      <td>Fall</td>\n",
       "      <td>Action, Adventure, Fantasy, Shounen, Demons, H...</td>\n",
       "      <td>4.60</td>\n",
       "      <td>2021.0</td>\n",
       "      <td>NaN</td>\n",
       "      <td>'Tanjiro and his friends accompany the Hashira...</td>\n",
       "      <td>Explicit Violence</td>\n",
       "      <td>Demon Slayer: Kimetsu no Yaiba</td>\n",
       "      <td>Demon Slayer: Kimetsu no Yaiba, Demon Slayer: ...</td>\n",
       "      <td>Inosuke Hashibira : Yoshitsugu Matsuoka, Nezuk...</td>\n",
       "      <td>Koyoharu Gotouge : Original Creator, Haruo Sot...</td>\n",
       "    </tr>\n",
       "    <tr>\n",
       "      <th>1</th>\n",
       "      <td>2</td>\n",
       "      <td>Fruits Basket the Final Season</td>\n",
       "      <td>Fruits Basket the Final</td>\n",
       "      <td>TV</td>\n",
       "      <td>13.0</td>\n",
       "      <td>TMS Entertainment</td>\n",
       "      <td>Spring</td>\n",
       "      <td>Drama, Fantasy, Romance, Shoujo, Animal Transf...</td>\n",
       "      <td>4.60</td>\n",
       "      <td>2021.0</td>\n",
       "      <td>NaN</td>\n",
       "      <td>'The final arc of Fruits Basket.'</td>\n",
       "      <td>Emotional Abuse,, Mature Themes,, Physical Abu...</td>\n",
       "      <td>Fruits Basket, Fruits Basket Another</td>\n",
       "      <td>Fruits Basket 1st Season, Fruits Basket 2nd Se...</td>\n",
       "      <td>Akito Sohma : Maaya Sakamoto, Kyo Sohma : Yuum...</td>\n",
       "      <td>Natsuki Takaya : Original Creator, Yoshihide I...</td>\n",
       "    </tr>\n",
       "    <tr>\n",
       "      <th>2</th>\n",
       "      <td>3</td>\n",
       "      <td>Mo Dao Zu Shi 3</td>\n",
       "      <td>The Founder of Diabolism 3</td>\n",
       "      <td>Web</td>\n",
       "      <td>12.0</td>\n",
       "      <td>B.C MAY PICTURES</td>\n",
       "      <td>NaN</td>\n",
       "      <td>Fantasy, Ancient China, Chinese Animation, Cul...</td>\n",
       "      <td>4.58</td>\n",
       "      <td>2021.0</td>\n",
       "      <td>NaN</td>\n",
       "      <td>'The third season of Mo Dao Zu Shi.'</td>\n",
       "      <td>NaN</td>\n",
       "      <td>Grandmaster of Demonic Cultivation: Mo Dao Zu ...</td>\n",
       "      <td>Mo Dao Zu Shi 2, Mo Dao Zu Shi Q</td>\n",
       "      <td>Lan Wangji, Wei Wuxian, Jiang Cheng, Jin Guang...</td>\n",
       "      <td>Mo Xiang Tong Xiu : Original Creator, Xiong Ke...</td>\n",
       "    </tr>\n",
       "    <tr>\n",
       "      <th>3</th>\n",
       "      <td>4</td>\n",
       "      <td>Fullmetal Alchemist: Brotherhood</td>\n",
       "      <td>Hagane no Renkinjutsushi: Full Metal Alchemist</td>\n",
       "      <td>TV</td>\n",
       "      <td>64.0</td>\n",
       "      <td>Bones</td>\n",
       "      <td>Spring</td>\n",
       "      <td>Action, Adventure, Drama, Fantasy, Mystery, Sh...</td>\n",
       "      <td>4.58</td>\n",
       "      <td>2009.0</td>\n",
       "      <td>2010.0</td>\n",
       "      <td>\"The foundation of alchemy is based on the law...</td>\n",
       "      <td>Animal Abuse,, Mature Themes,, Violence,, Dome...</td>\n",
       "      <td>Fullmetal Alchemist, Fullmetal Alchemist (Ligh...</td>\n",
       "      <td>Fullmetal Alchemist: Brotherhood Specials, Ful...</td>\n",
       "      <td>Alphonse Elric : Rie Kugimiya, Edward Elric : ...</td>\n",
       "      <td>Hiromu Arakawa : Original Creator, Yasuhiro Ir...</td>\n",
       "    </tr>\n",
       "    <tr>\n",
       "      <th>4</th>\n",
       "      <td>5</td>\n",
       "      <td>Attack on Titan 3rd Season: Part II</td>\n",
       "      <td>Shingeki no Kyojin Season 3: Part II</td>\n",
       "      <td>TV</td>\n",
       "      <td>10.0</td>\n",
       "      <td>WIT Studio</td>\n",
       "      <td>Spring</td>\n",
       "      <td>Action, Fantasy, Horror, Shounen, Dark Fantasy...</td>\n",
       "      <td>4.57</td>\n",
       "      <td>2019.0</td>\n",
       "      <td>NaN</td>\n",
       "      <td>'The battle to retake Wall Maria begins now! W...</td>\n",
       "      <td>Cannibalism,, Explicit Violence</td>\n",
       "      <td>Attack on Titan, Attack on Titan: End of the W...</td>\n",
       "      <td>Attack on Titan, Attack on Titan 2nd Season, A...</td>\n",
       "      <td>Armin Arlelt : Marina Inoue, Eren Jaeger : Yuu...</td>\n",
       "      <td>Hajime Isayama : Original Creator, Tetsurou Ar...</td>\n",
       "    </tr>\n",
       "  </tbody>\n",
       "</table>\n",
       "</div>"
      ],
      "text/plain": [
       "   Rank                                               Name  \\\n",
       "0     1  Demon Slayer: Kimetsu no Yaiba - Entertainment...   \n",
       "1     2                     Fruits Basket the Final Season   \n",
       "2     3                                    Mo Dao Zu Shi 3   \n",
       "3     4                   Fullmetal Alchemist: Brotherhood   \n",
       "4     5                Attack on Titan 3rd Season: Part II   \n",
       "\n",
       "                                     Japanese_name   Type  Episodes  \\\n",
       "0                    Kimetsu no Yaiba: Yuukaku-hen  TV          NaN   \n",
       "1                          Fruits Basket the Final  TV         13.0   \n",
       "2                       The Founder of Diabolism 3  Web        12.0   \n",
       "3   Hagane no Renkinjutsushi: Full Metal Alchemist  TV         64.0   \n",
       "4             Shingeki no Kyojin Season 3: Part II  TV         10.0   \n",
       "\n",
       "              Studio Release_season  \\\n",
       "0           ufotable          Fall    \n",
       "1  TMS Entertainment         Spring   \n",
       "2   B.C MAY PICTURES            NaN   \n",
       "3              Bones         Spring   \n",
       "4         WIT Studio         Spring   \n",
       "\n",
       "                                                Tags  Rating  Release_year  \\\n",
       "0  Action, Adventure, Fantasy, Shounen, Demons, H...    4.60        2021.0   \n",
       "1  Drama, Fantasy, Romance, Shoujo, Animal Transf...    4.60        2021.0   \n",
       "2  Fantasy, Ancient China, Chinese Animation, Cul...    4.58        2021.0   \n",
       "3  Action, Adventure, Drama, Fantasy, Mystery, Sh...    4.58        2009.0   \n",
       "4  Action, Fantasy, Horror, Shounen, Dark Fantasy...    4.57        2019.0   \n",
       "\n",
       "   End_year                                        Description  \\\n",
       "0       NaN  'Tanjiro and his friends accompany the Hashira...   \n",
       "1       NaN                  'The final arc of Fruits Basket.'   \n",
       "2       NaN               'The third season of Mo Dao Zu Shi.'   \n",
       "3    2010.0  \"The foundation of alchemy is based on the law...   \n",
       "4       NaN  'The battle to retake Wall Maria begins now! W...   \n",
       "\n",
       "                                     Content_Warning  \\\n",
       "0                                  Explicit Violence   \n",
       "1  Emotional Abuse,, Mature Themes,, Physical Abu...   \n",
       "2                                                NaN   \n",
       "3  Animal Abuse,, Mature Themes,, Violence,, Dome...   \n",
       "4                    Cannibalism,, Explicit Violence   \n",
       "\n",
       "                                       Related_Mange  \\\n",
       "0                     Demon Slayer: Kimetsu no Yaiba   \n",
       "1               Fruits Basket, Fruits Basket Another   \n",
       "2  Grandmaster of Demonic Cultivation: Mo Dao Zu ...   \n",
       "3  Fullmetal Alchemist, Fullmetal Alchemist (Ligh...   \n",
       "4  Attack on Titan, Attack on Titan: End of the W...   \n",
       "\n",
       "                                       Related_anime  \\\n",
       "0  Demon Slayer: Kimetsu no Yaiba, Demon Slayer: ...   \n",
       "1  Fruits Basket 1st Season, Fruits Basket 2nd Se...   \n",
       "2                   Mo Dao Zu Shi 2, Mo Dao Zu Shi Q   \n",
       "3  Fullmetal Alchemist: Brotherhood Specials, Ful...   \n",
       "4  Attack on Titan, Attack on Titan 2nd Season, A...   \n",
       "\n",
       "                                        Voice_actors  \\\n",
       "0  Inosuke Hashibira : Yoshitsugu Matsuoka, Nezuk...   \n",
       "1  Akito Sohma : Maaya Sakamoto, Kyo Sohma : Yuum...   \n",
       "2  Lan Wangji, Wei Wuxian, Jiang Cheng, Jin Guang...   \n",
       "3  Alphonse Elric : Rie Kugimiya, Edward Elric : ...   \n",
       "4  Armin Arlelt : Marina Inoue, Eren Jaeger : Yuu...   \n",
       "\n",
       "                                               staff  \n",
       "0  Koyoharu Gotouge : Original Creator, Haruo Sot...  \n",
       "1  Natsuki Takaya : Original Creator, Yoshihide I...  \n",
       "2  Mo Xiang Tong Xiu : Original Creator, Xiong Ke...  \n",
       "3  Hiromu Arakawa : Original Creator, Yasuhiro Ir...  \n",
       "4  Hajime Isayama : Original Creator, Tetsurou Ar...  "
      ]
     },
     "execution_count": 58,
     "metadata": {},
     "output_type": "execute_result"
    }
   ],
   "source": [
    "df.head()"
   ]
  },
  {
   "cell_type": "code",
   "execution_count": 59,
   "id": "2ae62e25",
   "metadata": {},
   "outputs": [
    {
     "data": {
      "text/html": [
       "<div>\n",
       "<style scoped>\n",
       "    .dataframe tbody tr th:only-of-type {\n",
       "        vertical-align: middle;\n",
       "    }\n",
       "\n",
       "    .dataframe tbody tr th {\n",
       "        vertical-align: top;\n",
       "    }\n",
       "\n",
       "    .dataframe thead th {\n",
       "        text-align: right;\n",
       "    }\n",
       "</style>\n",
       "<table border=\"1\" class=\"dataframe\">\n",
       "  <thead>\n",
       "    <tr style=\"text-align: right;\">\n",
       "      <th></th>\n",
       "      <th>Rank</th>\n",
       "      <th>Name</th>\n",
       "      <th>Japanese_name</th>\n",
       "      <th>Type</th>\n",
       "      <th>Episodes</th>\n",
       "      <th>Studio</th>\n",
       "      <th>Release_season</th>\n",
       "      <th>Tags</th>\n",
       "      <th>Rating</th>\n",
       "      <th>Release_year</th>\n",
       "      <th>End_year</th>\n",
       "      <th>Description</th>\n",
       "      <th>Content_Warning</th>\n",
       "      <th>Related_Mange</th>\n",
       "      <th>Related_anime</th>\n",
       "      <th>Voice_actors</th>\n",
       "      <th>staff</th>\n",
       "    </tr>\n",
       "  </thead>\n",
       "  <tbody>\n",
       "    <tr>\n",
       "      <th>18490</th>\n",
       "      <td>18491</td>\n",
       "      <td>Qin Shi Mingyue: Canghai Hengliu Xiaomeng Spec...</td>\n",
       "      <td>NaN</td>\n",
       "      <td>Web</td>\n",
       "      <td>2.0</td>\n",
       "      <td>Sparkly Key Animation Studio</td>\n",
       "      <td>NaN</td>\n",
       "      <td>Action, Ancient China, Chinese Animation, Hist...</td>\n",
       "      <td>NaN</td>\n",
       "      <td>2020.0</td>\n",
       "      <td>NaN</td>\n",
       "      <td>Special episodes of Qin Shi Mingyue: Canghai H...</td>\n",
       "      <td>NaN</td>\n",
       "      <td>NaN</td>\n",
       "      <td>Qin Shi Mingyue: Canghai Hengliu</td>\n",
       "      <td>NaN</td>\n",
       "      <td>NaN</td>\n",
       "    </tr>\n",
       "    <tr>\n",
       "      <th>18491</th>\n",
       "      <td>18492</td>\n",
       "      <td>Yi Tang Juchang: Sanguo Yanyi</td>\n",
       "      <td>NaN</td>\n",
       "      <td>TV</td>\n",
       "      <td>108.0</td>\n",
       "      <td>NaN</td>\n",
       "      <td>NaN</td>\n",
       "      <td>Chinese Animation</td>\n",
       "      <td>NaN</td>\n",
       "      <td>2010.0</td>\n",
       "      <td>NaN</td>\n",
       "      <td>No synopsis yet - check back soon!</td>\n",
       "      <td>NaN</td>\n",
       "      <td>NaN</td>\n",
       "      <td>NaN</td>\n",
       "      <td>NaN</td>\n",
       "      <td>NaN</td>\n",
       "    </tr>\n",
       "    <tr>\n",
       "      <th>18492</th>\n",
       "      <td>18493</td>\n",
       "      <td>Fenghuang Ji Xiang Yu Qingming Shanghe Tu</td>\n",
       "      <td>NaN</td>\n",
       "      <td>TV</td>\n",
       "      <td>13.0</td>\n",
       "      <td>NaN</td>\n",
       "      <td>NaN</td>\n",
       "      <td>Chinese Animation, Family Friendly, Short Epis...</td>\n",
       "      <td>NaN</td>\n",
       "      <td>2020.0</td>\n",
       "      <td>NaN</td>\n",
       "      <td>No synopsis yet - check back soon!</td>\n",
       "      <td>NaN</td>\n",
       "      <td>NaN</td>\n",
       "      <td>NaN</td>\n",
       "      <td>NaN</td>\n",
       "      <td>NaN</td>\n",
       "    </tr>\n",
       "    <tr>\n",
       "      <th>18493</th>\n",
       "      <td>18494</td>\n",
       "      <td>Chengshi Jiyi Wo Men de Jieri</td>\n",
       "      <td>NaN</td>\n",
       "      <td>TV</td>\n",
       "      <td>NaN</td>\n",
       "      <td>NaN</td>\n",
       "      <td>NaN</td>\n",
       "      <td>Chinese Animation, Family Friendly, Short Epis...</td>\n",
       "      <td>NaN</td>\n",
       "      <td>2020.0</td>\n",
       "      <td>NaN</td>\n",
       "      <td>No synopsis yet - check back soon!</td>\n",
       "      <td>NaN</td>\n",
       "      <td>NaN</td>\n",
       "      <td>NaN</td>\n",
       "      <td>NaN</td>\n",
       "      <td>NaN</td>\n",
       "    </tr>\n",
       "    <tr>\n",
       "      <th>18494</th>\n",
       "      <td>18495</td>\n",
       "      <td>Heisei Inu Monogatari Bow: Genshi Inu Monogata...</td>\n",
       "      <td>NaN</td>\n",
       "      <td>Movie</td>\n",
       "      <td>NaN</td>\n",
       "      <td>Nippon Animation</td>\n",
       "      <td>NaN</td>\n",
       "      <td>Comedy, Slice of Life, Dogs</td>\n",
       "      <td>NaN</td>\n",
       "      <td>1994.0</td>\n",
       "      <td>NaN</td>\n",
       "      <td>No synopsis yet - check back soon!</td>\n",
       "      <td>NaN</td>\n",
       "      <td>NaN</td>\n",
       "      <td>Heisei Inu Monogatari Bow</td>\n",
       "      <td>NaN</td>\n",
       "      <td>NaN</td>\n",
       "    </tr>\n",
       "  </tbody>\n",
       "</table>\n",
       "</div>"
      ],
      "text/plain": [
       "        Rank                                               Name Japanese_name  \\\n",
       "18490  18491  Qin Shi Mingyue: Canghai Hengliu Xiaomeng Spec...           NaN   \n",
       "18491  18492                      Yi Tang Juchang: Sanguo Yanyi           NaN   \n",
       "18492  18493          Fenghuang Ji Xiang Yu Qingming Shanghe Tu           NaN   \n",
       "18493  18494                      Chengshi Jiyi Wo Men de Jieri           NaN   \n",
       "18494  18495  Heisei Inu Monogatari Bow: Genshi Inu Monogata...           NaN   \n",
       "\n",
       "        Type  Episodes                        Studio Release_season  \\\n",
       "18490  Web         2.0  Sparkly Key Animation Studio            NaN   \n",
       "18491  TV        108.0                           NaN            NaN   \n",
       "18492  TV         13.0                           NaN            NaN   \n",
       "18493  TV          NaN                           NaN            NaN   \n",
       "18494  Movie       NaN              Nippon Animation            NaN   \n",
       "\n",
       "                                                    Tags  Rating  \\\n",
       "18490  Action, Ancient China, Chinese Animation, Hist...     NaN   \n",
       "18491                                  Chinese Animation     NaN   \n",
       "18492  Chinese Animation, Family Friendly, Short Epis...     NaN   \n",
       "18493  Chinese Animation, Family Friendly, Short Epis...     NaN   \n",
       "18494                        Comedy, Slice of Life, Dogs     NaN   \n",
       "\n",
       "       Release_year  End_year  \\\n",
       "18490        2020.0       NaN   \n",
       "18491        2010.0       NaN   \n",
       "18492        2020.0       NaN   \n",
       "18493        2020.0       NaN   \n",
       "18494        1994.0       NaN   \n",
       "\n",
       "                                             Description Content_Warning  \\\n",
       "18490  Special episodes of Qin Shi Mingyue: Canghai H...             NaN   \n",
       "18491                 No synopsis yet - check back soon!             NaN   \n",
       "18492                 No synopsis yet - check back soon!             NaN   \n",
       "18493                 No synopsis yet - check back soon!             NaN   \n",
       "18494                 No synopsis yet - check back soon!             NaN   \n",
       "\n",
       "      Related_Mange                     Related_anime Voice_actors staff  \n",
       "18490           NaN  Qin Shi Mingyue: Canghai Hengliu          NaN   NaN  \n",
       "18491           NaN                               NaN          NaN   NaN  \n",
       "18492           NaN                               NaN          NaN   NaN  \n",
       "18493           NaN                               NaN          NaN   NaN  \n",
       "18494           NaN         Heisei Inu Monogatari Bow          NaN   NaN  "
      ]
     },
     "execution_count": 59,
     "metadata": {},
     "output_type": "execute_result"
    }
   ],
   "source": [
    "df.tail()"
   ]
  },
  {
   "cell_type": "code",
   "execution_count": 64,
   "id": "f635f5ee",
   "metadata": {},
   "outputs": [
    {
     "data": {
      "text/html": [
       "<div>\n",
       "<style scoped>\n",
       "    .dataframe tbody tr th:only-of-type {\n",
       "        vertical-align: middle;\n",
       "    }\n",
       "\n",
       "    .dataframe tbody tr th {\n",
       "        vertical-align: top;\n",
       "    }\n",
       "\n",
       "    .dataframe thead th {\n",
       "        text-align: right;\n",
       "    }\n",
       "</style>\n",
       "<table border=\"1\" class=\"dataframe\">\n",
       "  <thead>\n",
       "    <tr style=\"text-align: right;\">\n",
       "      <th></th>\n",
       "      <th>Rank</th>\n",
       "      <th>Name</th>\n",
       "      <th>Japanese_name</th>\n",
       "      <th>Type</th>\n",
       "      <th>Episodes</th>\n",
       "      <th>Studio</th>\n",
       "      <th>Release_season</th>\n",
       "      <th>Tags</th>\n",
       "      <th>Rating</th>\n",
       "      <th>Release_year</th>\n",
       "      <th>End_year</th>\n",
       "      <th>Description</th>\n",
       "      <th>Content_Warning</th>\n",
       "      <th>Related_Mange</th>\n",
       "      <th>Related_anime</th>\n",
       "      <th>Voice_actors</th>\n",
       "      <th>staff</th>\n",
       "    </tr>\n",
       "  </thead>\n",
       "  <tbody>\n",
       "    <tr>\n",
       "      <th>12454</th>\n",
       "      <td>12455</td>\n",
       "      <td>∞</td>\n",
       "      <td>NaN</td>\n",
       "      <td>Web</td>\n",
       "      <td>1.0</td>\n",
       "      <td>NaN</td>\n",
       "      <td>NaN</td>\n",
       "      <td>No Dialogue, School Life, Shorts</td>\n",
       "      <td>3.05</td>\n",
       "      <td>2019.0</td>\n",
       "      <td>NaN</td>\n",
       "      <td>Have we ever been \"girls\"? Memories and dreams...</td>\n",
       "      <td>NaN</td>\n",
       "      <td>NaN</td>\n",
       "      <td>NaN</td>\n",
       "      <td>Haruka Suzuki\\nDirector</td>\n",
       "      <td>Haruka Suzuki : Director</td>\n",
       "    </tr>\n",
       "    <tr>\n",
       "      <th>18471</th>\n",
       "      <td>18472</td>\n",
       "      <td>​Semi Shigure</td>\n",
       "      <td>NaN</td>\n",
       "      <td>Movie</td>\n",
       "      <td>NaN</td>\n",
       "      <td>NaN</td>\n",
       "      <td>NaN</td>\n",
       "      <td>Shorts, Stop Motion Animation</td>\n",
       "      <td>NaN</td>\n",
       "      <td>1998.0</td>\n",
       "      <td>NaN</td>\n",
       "      <td>No synopsis yet - check back soon!</td>\n",
       "      <td>NaN</td>\n",
       "      <td>NaN</td>\n",
       "      <td>NaN</td>\n",
       "      <td>Tomoyasu Murata\\nDirector</td>\n",
       "      <td>Tomoyasu Murata : Director</td>\n",
       "    </tr>\n",
       "    <tr>\n",
       "      <th>18016</th>\n",
       "      <td>18017</td>\n",
       "      <td>​Fuyu no Niji</td>\n",
       "      <td>NaN</td>\n",
       "      <td>Movie</td>\n",
       "      <td>NaN</td>\n",
       "      <td>Tomoyasu Murata Company</td>\n",
       "      <td>NaN</td>\n",
       "      <td>Abstract, No Dialogue, Shorts</td>\n",
       "      <td>NaN</td>\n",
       "      <td>2005.0</td>\n",
       "      <td>NaN</td>\n",
       "      <td>No synopsis yet - check back soon!</td>\n",
       "      <td>NaN</td>\n",
       "      <td>NaN</td>\n",
       "      <td>NaN</td>\n",
       "      <td>Tomoyasu Murata\\nDirector</td>\n",
       "      <td>Tomoyasu Murata : Director</td>\n",
       "    </tr>\n",
       "    <tr>\n",
       "      <th>5886</th>\n",
       "      <td>5887</td>\n",
       "      <td>ŹOOĻ: Bang!Bang!Bang!</td>\n",
       "      <td>NaN</td>\n",
       "      <td>Music</td>\n",
       "      <td>NaN</td>\n",
       "      <td>NaN</td>\n",
       "      <td>NaN</td>\n",
       "      <td>Dancing, Idols</td>\n",
       "      <td>3.46</td>\n",
       "      <td>2019.0</td>\n",
       "      <td>NaN</td>\n",
       "      <td>'No synopsis yet - check back soon!'</td>\n",
       "      <td>NaN</td>\n",
       "      <td>NaN</td>\n",
       "      <td>IDOLiSH7: MONSTER GENERATiON, IDOLiSH7: MEMORi...</td>\n",
       "      <td>Haruka Isumi : Yuuya Hirose, Minami Natsume : ...</td>\n",
       "      <td>Źooļ : Song Performance</td>\n",
       "    </tr>\n",
       "    <tr>\n",
       "      <th>13583</th>\n",
       "      <td>13584</td>\n",
       "      <td>ēlDLIVE</td>\n",
       "      <td>NaN</td>\n",
       "      <td>TV</td>\n",
       "      <td>12.0</td>\n",
       "      <td>Pierrot</td>\n",
       "      <td>Winter</td>\n",
       "      <td>Action, Comedy, Sci Fi, Shounen, Aliens, Body ...</td>\n",
       "      <td>2.91</td>\n",
       "      <td>2017.0</td>\n",
       "      <td>NaN</td>\n",
       "      <td>\"Mumbling\" Chuta Kokonose doesn't have many fr...</td>\n",
       "      <td>NaN</td>\n",
       "      <td>élDLIVE</td>\n",
       "      <td>REBORN! x ēlDLIVE Special</td>\n",
       "      <td>Chuuta Kokonose : Ayumu Murase, Drew : Rie Kug...</td>\n",
       "      <td>Akira Amano : Original Creator, Jouji Furuta :...</td>\n",
       "    </tr>\n",
       "    <tr>\n",
       "      <th>...</th>\n",
       "      <td>...</td>\n",
       "      <td>...</td>\n",
       "      <td>...</td>\n",
       "      <td>...</td>\n",
       "      <td>...</td>\n",
       "      <td>...</td>\n",
       "      <td>...</td>\n",
       "      <td>...</td>\n",
       "      <td>...</td>\n",
       "      <td>...</td>\n",
       "      <td>...</td>\n",
       "      <td>...</td>\n",
       "      <td>...</td>\n",
       "      <td>...</td>\n",
       "      <td>...</td>\n",
       "      <td>...</td>\n",
       "      <td>...</td>\n",
       "    </tr>\n",
       "    <tr>\n",
       "      <th>13115</th>\n",
       "      <td>13116</td>\n",
       "      <td>\"Eiji\"</td>\n",
       "      <td>NaN</td>\n",
       "      <td>Movie</td>\n",
       "      <td>NaN</td>\n",
       "      <td>Production I.G</td>\n",
       "      <td>NaN</td>\n",
       "      <td>Shounen, Sports, Boxing, Hand to Hand Combat, ...</td>\n",
       "      <td>2.98</td>\n",
       "      <td>1990.0</td>\n",
       "      <td>NaN</td>\n",
       "      <td>Legendary boxer Keijiro Akagi's second son, Ei...</td>\n",
       "      <td>NaN</td>\n",
       "      <td>Eiji</td>\n",
       "      <td>NaN</td>\n",
       "      <td>Eiji Akagi : Ryou Horikawa, Aya Kusanagi : Ai ...</td>\n",
       "      <td>Mizuho Nishikubo : Director, Masaki Sawanobori...</td>\n",
       "    </tr>\n",
       "    <tr>\n",
       "      <th>2352</th>\n",
       "      <td>2353</td>\n",
       "      <td>\"Bungaku Shoujo\" Movie</td>\n",
       "      <td>NaN</td>\n",
       "      <td>Movie</td>\n",
       "      <td>NaN</td>\n",
       "      <td>Production I.G</td>\n",
       "      <td>NaN</td>\n",
       "      <td>Drama, Mystery, Romance, School Club, School L...</td>\n",
       "      <td>3.74</td>\n",
       "      <td>2010.0</td>\n",
       "      <td>NaN</td>\n",
       "      <td>\"As first year student Konoha Inoue is about t...</td>\n",
       "      <td>NaN</td>\n",
       "      <td>Book Girl (Light Novel), Bungaku Shoujo to Shi...</td>\n",
       "      <td>\"Bungaku Shoujo\" Kyou no Oyatsu: Hatsukoi, \"Bu...</td>\n",
       "      <td>Konoha Inoue : Miyu Irino, Miu Asakura : Aya H...</td>\n",
       "      <td>Shunsuke Tada : Director, Masumi Itou : Music,...</td>\n",
       "    </tr>\n",
       "    <tr>\n",
       "      <th>2833</th>\n",
       "      <td>2834</td>\n",
       "      <td>\"Bungaku Shoujo\" Memoire</td>\n",
       "      <td>NaN</td>\n",
       "      <td>OVA</td>\n",
       "      <td>3.0</td>\n",
       "      <td>Production I.G</td>\n",
       "      <td>NaN</td>\n",
       "      <td>Drama, Romance, Episodic, School Life, Based o...</td>\n",
       "      <td>3.69</td>\n",
       "      <td>2010.0</td>\n",
       "      <td>NaN</td>\n",
       "      <td>'No synopsis yet - check back soon!'</td>\n",
       "      <td>NaN</td>\n",
       "      <td>Book Girl (Light Novel), Bungaku Shoujo to Shi...</td>\n",
       "      <td>\"Bungaku Shoujo\" Kyou no Oyatsu: Hatsukoi, \"Bu...</td>\n",
       "      <td>Konoha Inoue : Miyu Irino, Miu Asakura : Aya H...</td>\n",
       "      <td>Mizuki Nomura : Original Creator, Shunsuke Tad...</td>\n",
       "    </tr>\n",
       "    <tr>\n",
       "      <th>6838</th>\n",
       "      <td>6839</td>\n",
       "      <td>\"Bungaku Shoujo\" Kyou no Oyatsu: Hatsukoi</td>\n",
       "      <td>NaN</td>\n",
       "      <td>OVA</td>\n",
       "      <td>1.0</td>\n",
       "      <td>Production I.G</td>\n",
       "      <td>NaN</td>\n",
       "      <td>Romance, Library, School Life, Based on a Ligh...</td>\n",
       "      <td>3.40</td>\n",
       "      <td>2009.0</td>\n",
       "      <td>NaN</td>\n",
       "      <td>'Konoha sometimes sees Touko on the street, re...</td>\n",
       "      <td>NaN</td>\n",
       "      <td>Book Girl (Light Novel), Bungaku Shoujo to Shi...</td>\n",
       "      <td>\"Bungaku Shoujo\" Movie, \"Bungaku Shoujo\" Memoire</td>\n",
       "      <td>Konoha Inoue : Miyu Irino, Touko Amano : Kana ...</td>\n",
       "      <td>NaN</td>\n",
       "    </tr>\n",
       "    <tr>\n",
       "      <th>6654</th>\n",
       "      <td>6655</td>\n",
       "      <td>\"Anata wo Hitokoto de Arawashite Kudasai\" no S...</td>\n",
       "      <td>I'm Bad at the Question \"Please Describe Your...</td>\n",
       "      <td>Other</td>\n",
       "      <td>NaN</td>\n",
       "      <td>Sunrise</td>\n",
       "      <td>NaN</td>\n",
       "      <td>Promotional, Shorts</td>\n",
       "      <td>3.41</td>\n",
       "      <td>2022.0</td>\n",
       "      <td>NaN</td>\n",
       "      <td>'The anime depicts the \"smart city\" envisioned...</td>\n",
       "      <td>NaN</td>\n",
       "      <td>NaN</td>\n",
       "      <td>NaN</td>\n",
       "      <td>Michiru : Akari Kitou, Yuuki : Hiro Shimono, Y...</td>\n",
       "      <td>Yoshitoki Ooima : Original Character Design, K...</td>\n",
       "    </tr>\n",
       "  </tbody>\n",
       "</table>\n",
       "<p>18495 rows × 17 columns</p>\n",
       "</div>"
      ],
      "text/plain": [
       "        Rank                                               Name  \\\n",
       "12454  12455                                                  ∞   \n",
       "18471  18472                                      ​Semi Shigure   \n",
       "18016  18017                                      ​Fuyu no Niji   \n",
       "5886    5887                              ŹOOĻ: Bang!Bang!Bang!   \n",
       "13583  13584                                            ēlDLIVE   \n",
       "...      ...                                                ...   \n",
       "13115  13116                                             \"Eiji\"   \n",
       "2352    2353                             \"Bungaku Shoujo\" Movie   \n",
       "2833    2834                           \"Bungaku Shoujo\" Memoire   \n",
       "6838    6839          \"Bungaku Shoujo\" Kyou no Oyatsu: Hatsukoi   \n",
       "6654    6655  \"Anata wo Hitokoto de Arawashite Kudasai\" no S...   \n",
       "\n",
       "                                           Japanese_name   Type  Episodes  \\\n",
       "12454                                                NaN  Web         1.0   \n",
       "18471                                                NaN  Movie       NaN   \n",
       "18016                                                NaN  Movie       NaN   \n",
       "5886                                                 NaN  Music       NaN   \n",
       "13583                                                NaN  TV         12.0   \n",
       "...                                                  ...    ...       ...   \n",
       "13115                                                NaN  Movie       NaN   \n",
       "2352                                                 NaN  Movie       NaN   \n",
       "2833                                                 NaN  OVA         3.0   \n",
       "6838                                                 NaN  OVA         1.0   \n",
       "6654    I'm Bad at the Question \"Please Describe Your...  Other       NaN   \n",
       "\n",
       "                        Studio Release_season  \\\n",
       "12454                      NaN            NaN   \n",
       "18471                      NaN            NaN   \n",
       "18016  Tomoyasu Murata Company            NaN   \n",
       "5886                       NaN            NaN   \n",
       "13583                  Pierrot         Winter   \n",
       "...                        ...            ...   \n",
       "13115           Production I.G            NaN   \n",
       "2352            Production I.G            NaN   \n",
       "2833            Production I.G            NaN   \n",
       "6838            Production I.G            NaN   \n",
       "6654                   Sunrise            NaN   \n",
       "\n",
       "                                                    Tags  Rating  \\\n",
       "12454                   No Dialogue, School Life, Shorts    3.05   \n",
       "18471                      Shorts, Stop Motion Animation     NaN   \n",
       "18016                      Abstract, No Dialogue, Shorts     NaN   \n",
       "5886                                      Dancing, Idols    3.46   \n",
       "13583  Action, Comedy, Sci Fi, Shounen, Aliens, Body ...    2.91   \n",
       "...                                                  ...     ...   \n",
       "13115  Shounen, Sports, Boxing, Hand to Hand Combat, ...    2.98   \n",
       "2352   Drama, Mystery, Romance, School Club, School L...    3.74   \n",
       "2833   Drama, Romance, Episodic, School Life, Based o...    3.69   \n",
       "6838   Romance, Library, School Life, Based on a Ligh...    3.40   \n",
       "6654                                 Promotional, Shorts    3.41   \n",
       "\n",
       "       Release_year  End_year  \\\n",
       "12454        2019.0       NaN   \n",
       "18471        1998.0       NaN   \n",
       "18016        2005.0       NaN   \n",
       "5886         2019.0       NaN   \n",
       "13583        2017.0       NaN   \n",
       "...             ...       ...   \n",
       "13115        1990.0       NaN   \n",
       "2352         2010.0       NaN   \n",
       "2833         2010.0       NaN   \n",
       "6838         2009.0       NaN   \n",
       "6654         2022.0       NaN   \n",
       "\n",
       "                                             Description Content_Warning  \\\n",
       "12454  Have we ever been \"girls\"? Memories and dreams...             NaN   \n",
       "18471                 No synopsis yet - check back soon!             NaN   \n",
       "18016                 No synopsis yet - check back soon!             NaN   \n",
       "5886                'No synopsis yet - check back soon!'             NaN   \n",
       "13583  \"Mumbling\" Chuta Kokonose doesn't have many fr...             NaN   \n",
       "...                                                  ...             ...   \n",
       "13115  Legendary boxer Keijiro Akagi's second son, Ei...             NaN   \n",
       "2352   \"As first year student Konoha Inoue is about t...             NaN   \n",
       "2833                'No synopsis yet - check back soon!'             NaN   \n",
       "6838   'Konoha sometimes sees Touko on the street, re...             NaN   \n",
       "6654   'The anime depicts the \"smart city\" envisioned...             NaN   \n",
       "\n",
       "                                           Related_Mange  \\\n",
       "12454                                                NaN   \n",
       "18471                                                NaN   \n",
       "18016                                                NaN   \n",
       "5886                                                 NaN   \n",
       "13583                                            élDLIVE   \n",
       "...                                                  ...   \n",
       "13115                                               Eiji   \n",
       "2352   Book Girl (Light Novel), Bungaku Shoujo to Shi...   \n",
       "2833   Book Girl (Light Novel), Bungaku Shoujo to Shi...   \n",
       "6838   Book Girl (Light Novel), Bungaku Shoujo to Shi...   \n",
       "6654                                                 NaN   \n",
       "\n",
       "                                           Related_anime  \\\n",
       "12454                                                NaN   \n",
       "18471                                                NaN   \n",
       "18016                                                NaN   \n",
       "5886   IDOLiSH7: MONSTER GENERATiON, IDOLiSH7: MEMORi...   \n",
       "13583                          REBORN! x ēlDLIVE Special   \n",
       "...                                                  ...   \n",
       "13115                                                NaN   \n",
       "2352   \"Bungaku Shoujo\" Kyou no Oyatsu: Hatsukoi, \"Bu...   \n",
       "2833   \"Bungaku Shoujo\" Kyou no Oyatsu: Hatsukoi, \"Bu...   \n",
       "6838    \"Bungaku Shoujo\" Movie, \"Bungaku Shoujo\" Memoire   \n",
       "6654                                                 NaN   \n",
       "\n",
       "                                            Voice_actors  \\\n",
       "12454                            Haruka Suzuki\\nDirector   \n",
       "18471                          Tomoyasu Murata\\nDirector   \n",
       "18016                          Tomoyasu Murata\\nDirector   \n",
       "5886   Haruka Isumi : Yuuya Hirose, Minami Natsume : ...   \n",
       "13583  Chuuta Kokonose : Ayumu Murase, Drew : Rie Kug...   \n",
       "...                                                  ...   \n",
       "13115  Eiji Akagi : Ryou Horikawa, Aya Kusanagi : Ai ...   \n",
       "2352   Konoha Inoue : Miyu Irino, Miu Asakura : Aya H...   \n",
       "2833   Konoha Inoue : Miyu Irino, Miu Asakura : Aya H...   \n",
       "6838   Konoha Inoue : Miyu Irino, Touko Amano : Kana ...   \n",
       "6654   Michiru : Akari Kitou, Yuuki : Hiro Shimono, Y...   \n",
       "\n",
       "                                                   staff  \n",
       "12454                           Haruka Suzuki : Director  \n",
       "18471                         Tomoyasu Murata : Director  \n",
       "18016                         Tomoyasu Murata : Director  \n",
       "5886                             Źooļ : Song Performance  \n",
       "13583  Akira Amano : Original Creator, Jouji Furuta :...  \n",
       "...                                                  ...  \n",
       "13115  Mizuho Nishikubo : Director, Masaki Sawanobori...  \n",
       "2352   Shunsuke Tada : Director, Masumi Itou : Music,...  \n",
       "2833   Mizuki Nomura : Original Creator, Shunsuke Tad...  \n",
       "6838                                                 NaN  \n",
       "6654   Yoshitoki Ooima : Original Character Design, K...  \n",
       "\n",
       "[18495 rows x 17 columns]"
      ]
     },
     "execution_count": 64,
     "metadata": {},
     "output_type": "execute_result"
    }
   ],
   "source": [
    "df.sort_values(['Name','Rank'],ascending=[0,1])"
   ]
  },
  {
   "cell_type": "code",
   "execution_count": 73,
   "id": "55c5638c",
   "metadata": {},
   "outputs": [
    {
     "data": {
      "text/plain": [
       "Rank                   0\n",
       "Name                   0\n",
       "Type                   0\n",
       "Episodes            8994\n",
       "Studio              6477\n",
       "Release_season     14379\n",
       "Tags                 400\n",
       "Rating              3131\n",
       "Release_year         383\n",
       "End_year           15641\n",
       "Description            4\n",
       "Content_Warning    16655\n",
       "Related_Mange      10868\n",
       "Related_anime       8432\n",
       "Voice_actors        3186\n",
       "staff               5490\n",
       "dtype: int64"
      ]
     },
     "execution_count": 73,
     "metadata": {},
     "output_type": "execute_result"
    }
   ],
   "source": [
    "#check for null values\n",
    "df.isnull().sum()"
   ]
  },
  {
   "cell_type": "code",
   "execution_count": 72,
   "id": "6ba57cad",
   "metadata": {},
   "outputs": [
    {
     "data": {
      "text/html": [
       "<div>\n",
       "<style scoped>\n",
       "    .dataframe tbody tr th:only-of-type {\n",
       "        vertical-align: middle;\n",
       "    }\n",
       "\n",
       "    .dataframe tbody tr th {\n",
       "        vertical-align: top;\n",
       "    }\n",
       "\n",
       "    .dataframe thead th {\n",
       "        text-align: right;\n",
       "    }\n",
       "</style>\n",
       "<table border=\"1\" class=\"dataframe\">\n",
       "  <thead>\n",
       "    <tr style=\"text-align: right;\">\n",
       "      <th></th>\n",
       "      <th>Rank</th>\n",
       "      <th>Name</th>\n",
       "      <th>Type</th>\n",
       "      <th>Episodes</th>\n",
       "      <th>Studio</th>\n",
       "      <th>Release_season</th>\n",
       "      <th>Tags</th>\n",
       "      <th>Rating</th>\n",
       "      <th>Release_year</th>\n",
       "      <th>End_year</th>\n",
       "      <th>Description</th>\n",
       "      <th>Content_Warning</th>\n",
       "      <th>Related_Mange</th>\n",
       "      <th>Related_anime</th>\n",
       "      <th>Voice_actors</th>\n",
       "      <th>staff</th>\n",
       "    </tr>\n",
       "  </thead>\n",
       "  <tbody>\n",
       "    <tr>\n",
       "      <th>0</th>\n",
       "      <td>1</td>\n",
       "      <td>Demon Slayer: Kimetsu no Yaiba - Entertainment...</td>\n",
       "      <td>TV</td>\n",
       "      <td>NaN</td>\n",
       "      <td>ufotable</td>\n",
       "      <td>Fall</td>\n",
       "      <td>Action, Adventure, Fantasy, Shounen, Demons, H...</td>\n",
       "      <td>4.60</td>\n",
       "      <td>2021.0</td>\n",
       "      <td>NaN</td>\n",
       "      <td>'Tanjiro and his friends accompany the Hashira...</td>\n",
       "      <td>Explicit Violence</td>\n",
       "      <td>Demon Slayer: Kimetsu no Yaiba</td>\n",
       "      <td>Demon Slayer: Kimetsu no Yaiba, Demon Slayer: ...</td>\n",
       "      <td>Inosuke Hashibira : Yoshitsugu Matsuoka, Nezuk...</td>\n",
       "      <td>Koyoharu Gotouge : Original Creator, Haruo Sot...</td>\n",
       "    </tr>\n",
       "    <tr>\n",
       "      <th>1</th>\n",
       "      <td>2</td>\n",
       "      <td>Fruits Basket the Final Season</td>\n",
       "      <td>TV</td>\n",
       "      <td>13.0</td>\n",
       "      <td>TMS Entertainment</td>\n",
       "      <td>Spring</td>\n",
       "      <td>Drama, Fantasy, Romance, Shoujo, Animal Transf...</td>\n",
       "      <td>4.60</td>\n",
       "      <td>2021.0</td>\n",
       "      <td>NaN</td>\n",
       "      <td>'The final arc of Fruits Basket.'</td>\n",
       "      <td>Emotional Abuse,, Mature Themes,, Physical Abu...</td>\n",
       "      <td>Fruits Basket, Fruits Basket Another</td>\n",
       "      <td>Fruits Basket 1st Season, Fruits Basket 2nd Se...</td>\n",
       "      <td>Akito Sohma : Maaya Sakamoto, Kyo Sohma : Yuum...</td>\n",
       "      <td>Natsuki Takaya : Original Creator, Yoshihide I...</td>\n",
       "    </tr>\n",
       "    <tr>\n",
       "      <th>2</th>\n",
       "      <td>3</td>\n",
       "      <td>Mo Dao Zu Shi 3</td>\n",
       "      <td>Web</td>\n",
       "      <td>12.0</td>\n",
       "      <td>B.C MAY PICTURES</td>\n",
       "      <td>NaN</td>\n",
       "      <td>Fantasy, Ancient China, Chinese Animation, Cul...</td>\n",
       "      <td>4.58</td>\n",
       "      <td>2021.0</td>\n",
       "      <td>NaN</td>\n",
       "      <td>'The third season of Mo Dao Zu Shi.'</td>\n",
       "      <td>NaN</td>\n",
       "      <td>Grandmaster of Demonic Cultivation: Mo Dao Zu ...</td>\n",
       "      <td>Mo Dao Zu Shi 2, Mo Dao Zu Shi Q</td>\n",
       "      <td>Lan Wangji, Wei Wuxian, Jiang Cheng, Jin Guang...</td>\n",
       "      <td>Mo Xiang Tong Xiu : Original Creator, Xiong Ke...</td>\n",
       "    </tr>\n",
       "    <tr>\n",
       "      <th>3</th>\n",
       "      <td>4</td>\n",
       "      <td>Fullmetal Alchemist: Brotherhood</td>\n",
       "      <td>TV</td>\n",
       "      <td>64.0</td>\n",
       "      <td>Bones</td>\n",
       "      <td>Spring</td>\n",
       "      <td>Action, Adventure, Drama, Fantasy, Mystery, Sh...</td>\n",
       "      <td>4.58</td>\n",
       "      <td>2009.0</td>\n",
       "      <td>2010.0</td>\n",
       "      <td>\"The foundation of alchemy is based on the law...</td>\n",
       "      <td>Animal Abuse,, Mature Themes,, Violence,, Dome...</td>\n",
       "      <td>Fullmetal Alchemist, Fullmetal Alchemist (Ligh...</td>\n",
       "      <td>Fullmetal Alchemist: Brotherhood Specials, Ful...</td>\n",
       "      <td>Alphonse Elric : Rie Kugimiya, Edward Elric : ...</td>\n",
       "      <td>Hiromu Arakawa : Original Creator, Yasuhiro Ir...</td>\n",
       "    </tr>\n",
       "    <tr>\n",
       "      <th>4</th>\n",
       "      <td>5</td>\n",
       "      <td>Attack on Titan 3rd Season: Part II</td>\n",
       "      <td>TV</td>\n",
       "      <td>10.0</td>\n",
       "      <td>WIT Studio</td>\n",
       "      <td>Spring</td>\n",
       "      <td>Action, Fantasy, Horror, Shounen, Dark Fantasy...</td>\n",
       "      <td>4.57</td>\n",
       "      <td>2019.0</td>\n",
       "      <td>NaN</td>\n",
       "      <td>'The battle to retake Wall Maria begins now! W...</td>\n",
       "      <td>Cannibalism,, Explicit Violence</td>\n",
       "      <td>Attack on Titan, Attack on Titan: End of the W...</td>\n",
       "      <td>Attack on Titan, Attack on Titan 2nd Season, A...</td>\n",
       "      <td>Armin Arlelt : Marina Inoue, Eren Jaeger : Yuu...</td>\n",
       "      <td>Hajime Isayama : Original Creator, Tetsurou Ar...</td>\n",
       "    </tr>\n",
       "    <tr>\n",
       "      <th>...</th>\n",
       "      <td>...</td>\n",
       "      <td>...</td>\n",
       "      <td>...</td>\n",
       "      <td>...</td>\n",
       "      <td>...</td>\n",
       "      <td>...</td>\n",
       "      <td>...</td>\n",
       "      <td>...</td>\n",
       "      <td>...</td>\n",
       "      <td>...</td>\n",
       "      <td>...</td>\n",
       "      <td>...</td>\n",
       "      <td>...</td>\n",
       "      <td>...</td>\n",
       "      <td>...</td>\n",
       "      <td>...</td>\n",
       "    </tr>\n",
       "    <tr>\n",
       "      <th>18490</th>\n",
       "      <td>18491</td>\n",
       "      <td>Qin Shi Mingyue: Canghai Hengliu Xiaomeng Spec...</td>\n",
       "      <td>Web</td>\n",
       "      <td>2.0</td>\n",
       "      <td>Sparkly Key Animation Studio</td>\n",
       "      <td>NaN</td>\n",
       "      <td>Action, Ancient China, Chinese Animation, Hist...</td>\n",
       "      <td>NaN</td>\n",
       "      <td>2020.0</td>\n",
       "      <td>NaN</td>\n",
       "      <td>Special episodes of Qin Shi Mingyue: Canghai H...</td>\n",
       "      <td>NaN</td>\n",
       "      <td>NaN</td>\n",
       "      <td>Qin Shi Mingyue: Canghai Hengliu</td>\n",
       "      <td>NaN</td>\n",
       "      <td>NaN</td>\n",
       "    </tr>\n",
       "    <tr>\n",
       "      <th>18491</th>\n",
       "      <td>18492</td>\n",
       "      <td>Yi Tang Juchang: Sanguo Yanyi</td>\n",
       "      <td>TV</td>\n",
       "      <td>108.0</td>\n",
       "      <td>NaN</td>\n",
       "      <td>NaN</td>\n",
       "      <td>Chinese Animation</td>\n",
       "      <td>NaN</td>\n",
       "      <td>2010.0</td>\n",
       "      <td>NaN</td>\n",
       "      <td>No synopsis yet - check back soon!</td>\n",
       "      <td>NaN</td>\n",
       "      <td>NaN</td>\n",
       "      <td>NaN</td>\n",
       "      <td>NaN</td>\n",
       "      <td>NaN</td>\n",
       "    </tr>\n",
       "    <tr>\n",
       "      <th>18492</th>\n",
       "      <td>18493</td>\n",
       "      <td>Fenghuang Ji Xiang Yu Qingming Shanghe Tu</td>\n",
       "      <td>TV</td>\n",
       "      <td>13.0</td>\n",
       "      <td>NaN</td>\n",
       "      <td>NaN</td>\n",
       "      <td>Chinese Animation, Family Friendly, Short Epis...</td>\n",
       "      <td>NaN</td>\n",
       "      <td>2020.0</td>\n",
       "      <td>NaN</td>\n",
       "      <td>No synopsis yet - check back soon!</td>\n",
       "      <td>NaN</td>\n",
       "      <td>NaN</td>\n",
       "      <td>NaN</td>\n",
       "      <td>NaN</td>\n",
       "      <td>NaN</td>\n",
       "    </tr>\n",
       "    <tr>\n",
       "      <th>18493</th>\n",
       "      <td>18494</td>\n",
       "      <td>Chengshi Jiyi Wo Men de Jieri</td>\n",
       "      <td>TV</td>\n",
       "      <td>NaN</td>\n",
       "      <td>NaN</td>\n",
       "      <td>NaN</td>\n",
       "      <td>Chinese Animation, Family Friendly, Short Epis...</td>\n",
       "      <td>NaN</td>\n",
       "      <td>2020.0</td>\n",
       "      <td>NaN</td>\n",
       "      <td>No synopsis yet - check back soon!</td>\n",
       "      <td>NaN</td>\n",
       "      <td>NaN</td>\n",
       "      <td>NaN</td>\n",
       "      <td>NaN</td>\n",
       "      <td>NaN</td>\n",
       "    </tr>\n",
       "    <tr>\n",
       "      <th>18494</th>\n",
       "      <td>18495</td>\n",
       "      <td>Heisei Inu Monogatari Bow: Genshi Inu Monogata...</td>\n",
       "      <td>Movie</td>\n",
       "      <td>NaN</td>\n",
       "      <td>Nippon Animation</td>\n",
       "      <td>NaN</td>\n",
       "      <td>Comedy, Slice of Life, Dogs</td>\n",
       "      <td>NaN</td>\n",
       "      <td>1994.0</td>\n",
       "      <td>NaN</td>\n",
       "      <td>No synopsis yet - check back soon!</td>\n",
       "      <td>NaN</td>\n",
       "      <td>NaN</td>\n",
       "      <td>Heisei Inu Monogatari Bow</td>\n",
       "      <td>NaN</td>\n",
       "      <td>NaN</td>\n",
       "    </tr>\n",
       "  </tbody>\n",
       "</table>\n",
       "<p>18495 rows × 16 columns</p>\n",
       "</div>"
      ],
      "text/plain": [
       "        Rank                                               Name   Type  \\\n",
       "0          1  Demon Slayer: Kimetsu no Yaiba - Entertainment...  TV      \n",
       "1          2                     Fruits Basket the Final Season  TV      \n",
       "2          3                                    Mo Dao Zu Shi 3  Web     \n",
       "3          4                   Fullmetal Alchemist: Brotherhood  TV      \n",
       "4          5                Attack on Titan 3rd Season: Part II  TV      \n",
       "...      ...                                                ...    ...   \n",
       "18490  18491  Qin Shi Mingyue: Canghai Hengliu Xiaomeng Spec...  Web     \n",
       "18491  18492                      Yi Tang Juchang: Sanguo Yanyi  TV      \n",
       "18492  18493          Fenghuang Ji Xiang Yu Qingming Shanghe Tu  TV      \n",
       "18493  18494                      Chengshi Jiyi Wo Men de Jieri  TV      \n",
       "18494  18495  Heisei Inu Monogatari Bow: Genshi Inu Monogata...  Movie   \n",
       "\n",
       "       Episodes                        Studio Release_season  \\\n",
       "0           NaN                      ufotable          Fall    \n",
       "1          13.0             TMS Entertainment         Spring   \n",
       "2          12.0              B.C MAY PICTURES            NaN   \n",
       "3          64.0                         Bones         Spring   \n",
       "4          10.0                    WIT Studio         Spring   \n",
       "...         ...                           ...            ...   \n",
       "18490       2.0  Sparkly Key Animation Studio            NaN   \n",
       "18491     108.0                           NaN            NaN   \n",
       "18492      13.0                           NaN            NaN   \n",
       "18493       NaN                           NaN            NaN   \n",
       "18494       NaN              Nippon Animation            NaN   \n",
       "\n",
       "                                                    Tags  Rating  \\\n",
       "0      Action, Adventure, Fantasy, Shounen, Demons, H...    4.60   \n",
       "1      Drama, Fantasy, Romance, Shoujo, Animal Transf...    4.60   \n",
       "2      Fantasy, Ancient China, Chinese Animation, Cul...    4.58   \n",
       "3      Action, Adventure, Drama, Fantasy, Mystery, Sh...    4.58   \n",
       "4      Action, Fantasy, Horror, Shounen, Dark Fantasy...    4.57   \n",
       "...                                                  ...     ...   \n",
       "18490  Action, Ancient China, Chinese Animation, Hist...     NaN   \n",
       "18491                                  Chinese Animation     NaN   \n",
       "18492  Chinese Animation, Family Friendly, Short Epis...     NaN   \n",
       "18493  Chinese Animation, Family Friendly, Short Epis...     NaN   \n",
       "18494                        Comedy, Slice of Life, Dogs     NaN   \n",
       "\n",
       "       Release_year  End_year  \\\n",
       "0            2021.0       NaN   \n",
       "1            2021.0       NaN   \n",
       "2            2021.0       NaN   \n",
       "3            2009.0    2010.0   \n",
       "4            2019.0       NaN   \n",
       "...             ...       ...   \n",
       "18490        2020.0       NaN   \n",
       "18491        2010.0       NaN   \n",
       "18492        2020.0       NaN   \n",
       "18493        2020.0       NaN   \n",
       "18494        1994.0       NaN   \n",
       "\n",
       "                                             Description  \\\n",
       "0      'Tanjiro and his friends accompany the Hashira...   \n",
       "1                      'The final arc of Fruits Basket.'   \n",
       "2                   'The third season of Mo Dao Zu Shi.'   \n",
       "3      \"The foundation of alchemy is based on the law...   \n",
       "4      'The battle to retake Wall Maria begins now! W...   \n",
       "...                                                  ...   \n",
       "18490  Special episodes of Qin Shi Mingyue: Canghai H...   \n",
       "18491                 No synopsis yet - check back soon!   \n",
       "18492                 No synopsis yet - check back soon!   \n",
       "18493                 No synopsis yet - check back soon!   \n",
       "18494                 No synopsis yet - check back soon!   \n",
       "\n",
       "                                         Content_Warning  \\\n",
       "0                                      Explicit Violence   \n",
       "1      Emotional Abuse,, Mature Themes,, Physical Abu...   \n",
       "2                                                    NaN   \n",
       "3      Animal Abuse,, Mature Themes,, Violence,, Dome...   \n",
       "4                        Cannibalism,, Explicit Violence   \n",
       "...                                                  ...   \n",
       "18490                                                NaN   \n",
       "18491                                                NaN   \n",
       "18492                                                NaN   \n",
       "18493                                                NaN   \n",
       "18494                                                NaN   \n",
       "\n",
       "                                           Related_Mange  \\\n",
       "0                         Demon Slayer: Kimetsu no Yaiba   \n",
       "1                   Fruits Basket, Fruits Basket Another   \n",
       "2      Grandmaster of Demonic Cultivation: Mo Dao Zu ...   \n",
       "3      Fullmetal Alchemist, Fullmetal Alchemist (Ligh...   \n",
       "4      Attack on Titan, Attack on Titan: End of the W...   \n",
       "...                                                  ...   \n",
       "18490                                                NaN   \n",
       "18491                                                NaN   \n",
       "18492                                                NaN   \n",
       "18493                                                NaN   \n",
       "18494                                                NaN   \n",
       "\n",
       "                                           Related_anime  \\\n",
       "0      Demon Slayer: Kimetsu no Yaiba, Demon Slayer: ...   \n",
       "1      Fruits Basket 1st Season, Fruits Basket 2nd Se...   \n",
       "2                       Mo Dao Zu Shi 2, Mo Dao Zu Shi Q   \n",
       "3      Fullmetal Alchemist: Brotherhood Specials, Ful...   \n",
       "4      Attack on Titan, Attack on Titan 2nd Season, A...   \n",
       "...                                                  ...   \n",
       "18490                   Qin Shi Mingyue: Canghai Hengliu   \n",
       "18491                                                NaN   \n",
       "18492                                                NaN   \n",
       "18493                                                NaN   \n",
       "18494                          Heisei Inu Monogatari Bow   \n",
       "\n",
       "                                            Voice_actors  \\\n",
       "0      Inosuke Hashibira : Yoshitsugu Matsuoka, Nezuk...   \n",
       "1      Akito Sohma : Maaya Sakamoto, Kyo Sohma : Yuum...   \n",
       "2      Lan Wangji, Wei Wuxian, Jiang Cheng, Jin Guang...   \n",
       "3      Alphonse Elric : Rie Kugimiya, Edward Elric : ...   \n",
       "4      Armin Arlelt : Marina Inoue, Eren Jaeger : Yuu...   \n",
       "...                                                  ...   \n",
       "18490                                                NaN   \n",
       "18491                                                NaN   \n",
       "18492                                                NaN   \n",
       "18493                                                NaN   \n",
       "18494                                                NaN   \n",
       "\n",
       "                                                   staff  \n",
       "0      Koyoharu Gotouge : Original Creator, Haruo Sot...  \n",
       "1      Natsuki Takaya : Original Creator, Yoshihide I...  \n",
       "2      Mo Xiang Tong Xiu : Original Creator, Xiong Ke...  \n",
       "3      Hiromu Arakawa : Original Creator, Yasuhiro Ir...  \n",
       "4      Hajime Isayama : Original Creator, Tetsurou Ar...  \n",
       "...                                                  ...  \n",
       "18490                                                NaN  \n",
       "18491                                                NaN  \n",
       "18492                                                NaN  \n",
       "18493                                                NaN  \n",
       "18494                                                NaN  \n",
       "\n",
       "[18495 rows x 16 columns]"
      ]
     },
     "execution_count": 72,
     "metadata": {},
     "output_type": "execute_result"
    }
   ],
   "source": [
    "df"
   ]
  },
  {
   "cell_type": "code",
   "execution_count": null,
   "id": "2a18140b",
   "metadata": {},
   "outputs": [],
   "source": []
  }
 ],
 "metadata": {
  "kernelspec": {
   "display_name": "Python 3 (ipykernel)",
   "language": "python",
   "name": "python3"
  },
  "language_info": {
   "codemirror_mode": {
    "name": "ipython",
    "version": 3
   },
   "file_extension": ".py",
   "mimetype": "text/x-python",
   "name": "python",
   "nbconvert_exporter": "python",
   "pygments_lexer": "ipython3",
   "version": "3.11.5"
  }
 },
 "nbformat": 4,
 "nbformat_minor": 5
}
